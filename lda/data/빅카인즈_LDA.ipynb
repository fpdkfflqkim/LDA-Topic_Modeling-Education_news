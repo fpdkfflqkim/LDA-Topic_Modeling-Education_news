{
 "cells": [
  {
   "cell_type": "code",
   "execution_count": 9,
   "metadata": {},
   "outputs": [
    {
     "name": "stdout",
     "output_type": "stream",
     "text": [
      "Collecting kiwipiepy\n",
      "  Downloading kiwipiepy-0.16.2-cp39-cp39-win_amd64.whl (1.1 MB)\n",
      "     ---------------------------------------- 1.1/1.1 MB 11.3 MB/s eta 0:00:00\n",
      "Collecting kiwipiepy-model~=0.16\n",
      "  Downloading kiwipiepy_model-0.16.0.tar.gz (30.8 MB)\n",
      "     --------------------------------------- 30.8/30.8 MB 10.4 MB/s eta 0:00:00\n",
      "  Preparing metadata (setup.py): started\n",
      "  Preparing metadata (setup.py): finished with status 'done'\n",
      "Requirement already satisfied: numpy in c:\\users\\user\\anaconda3\\envs\\py39_\\lib\\site-packages (from kiwipiepy) (1.26.1)\n",
      "Requirement already satisfied: tqdm in c:\\users\\user\\anaconda3\\envs\\py39_\\lib\\site-packages (from kiwipiepy) (4.65.0)\n",
      "Requirement already satisfied: colorama in c:\\users\\user\\anaconda3\\envs\\py39_\\lib\\site-packages (from tqdm->kiwipiepy) (0.4.6)\n",
      "Building wheels for collected packages: kiwipiepy-model\n",
      "  Building wheel for kiwipiepy-model (setup.py): started\n",
      "  Building wheel for kiwipiepy-model (setup.py): finished with status 'done'\n",
      "  Created wheel for kiwipiepy-model: filename=kiwipiepy_model-0.16.0-py3-none-any.whl size=30813255 sha256=c87a9241b1a2971b46d87467392aa34e8a5ebc17f9282c07ab9165e27005f47d\n",
      "  Stored in directory: c:\\users\\user\\appdata\\local\\pip\\cache\\wheels\\b6\\6b\\2a\\b70c38baf0a75d295b0039fbf711850a22fe913b07d09d90c0\n",
      "Successfully built kiwipiepy-model\n",
      "Installing collected packages: kiwipiepy-model, kiwipiepy\n",
      "Successfully installed kiwipiepy-0.16.2 kiwipiepy-model-0.16.0\n"
     ]
    }
   ],
   "source": [
    "!pip install kiwipiepy\n"
   ]
  },
  {
   "cell_type": "code",
   "execution_count": 1,
   "metadata": {},
   "outputs": [],
   "source": [
    "import pandas as pd\n",
    "import numpy as np\n",
    "from konlpy.tag import Mecab\n",
    "import matplotlib.pyplot as plt\n",
    "from tqdm import tqdm\n",
    "import pprint\n",
    "from gensim.models.ldamodel import LdaModel\n",
    "from gensim.models.callbacks import CoherenceMetric\n",
    "from gensim import corpora\n",
    "from gensim.models import CoherenceModel\n",
    "from gensim.models.callbacks import PerplexityMetric\n",
    "import openpyxl"
   ]
  },
  {
   "cell_type": "markdown",
   "metadata": {},
   "source": [
    "## 전처리"
   ]
  },
  {
   "cell_type": "code",
   "execution_count": 10,
   "metadata": {},
   "outputs": [],
   "source": [
    "from kiwipiepy import Kiwi\n",
    "kiwi = Kiwi()"
   ]
  },
  {
   "cell_type": "code",
   "execution_count": 22,
   "metadata": {},
   "outputs": [],
   "source": [
    "def extract_nouns(text):\n",
    "    for token in kiwi.tokenize(text):\n",
    "        if token.tag in {'NNG', 'NNP'}:\n",
    "            yield token.form"
   ]
  },
  {
   "cell_type": "code",
   "execution_count": 23,
   "metadata": {},
   "outputs": [],
   "source": [
    "path = r'C:\\Users\\user\\OneDrive - KookminUNIV\\바탕 화면\\토픽모델링\\빅카인즈_크롤링.xlsx'  "
   ]
  },
  {
   "cell_type": "code",
   "execution_count": 26,
   "metadata": {},
   "outputs": [
    {
     "data": {
      "text/html": [
       "<div>\n",
       "<style scoped>\n",
       "    .dataframe tbody tr th:only-of-type {\n",
       "        vertical-align: middle;\n",
       "    }\n",
       "\n",
       "    .dataframe tbody tr th {\n",
       "        vertical-align: top;\n",
       "    }\n",
       "\n",
       "    .dataframe thead th {\n",
       "        text-align: right;\n",
       "    }\n",
       "</style>\n",
       "<table border=\"1\" class=\"dataframe\">\n",
       "  <thead>\n",
       "    <tr style=\"text-align: right;\">\n",
       "      <th></th>\n",
       "      <th>Title</th>\n",
       "      <th>Content</th>\n",
       "    </tr>\n",
       "    <tr>\n",
       "      <th>Date</th>\n",
       "      <th></th>\n",
       "      <th></th>\n",
       "    </tr>\n",
       "  </thead>\n",
       "  <tbody>\n",
       "    <tr>\n",
       "      <th>2023-11-27 조덕진</th>\n",
       "      <td>[사설] 생활권 침해 없는데 봉안당 불허···님비에 법원 제동</td>\n",
       "      <td>극단적인 지역이기주의에 지역 현안들이 발목이 잡혀있는 가운데 법원이 과도한 님비현상...</td>\n",
       "    </tr>\n",
       "    <tr>\n",
       "      <th>2023-11-27</th>\n",
       "      <td>[전남일보]기고·김정화&gt;지방소멸 대책 신안에 있다</td>\n",
       "      <td>김정화 신안군농업기술센터소장\\n김정화 소장\\n“바보야! 문제는 경제야!”(“It’s...</td>\n",
       "    </tr>\n",
       "    <tr>\n",
       "      <th>2023-11-27 곽선정</th>\n",
       "      <td>“학생 수 감소했다면 학교용지비용 부담 필요 없어”</td>\n",
       "      <td>[KBS 광주]\\n취학 인구가 감소했는데도 학교용지부담금을 부과한 행정처분은 부당하...</td>\n",
       "    </tr>\n",
       "    <tr>\n",
       "      <th>2023-11-27 2015004;2017021 기자</th>\n",
       "      <td>서삼석 예결위원장 “올해 전 부처가 증액 요구…특활비 무조건 삭감보다 투명성 제고”...</td>\n",
       "      <td>서삼석 국회 예산결산특별위원회 위원장이 17일 오후 서울 여의도 국회에서 헤럴드경제...</td>\n",
       "    </tr>\n",
       "    <tr>\n",
       "      <th>2023-11-27 김진영</th>\n",
       "      <td>경단녀서 꽃가게 사장님으로… \"지방은 기회의 공간\" [지방시대 지방영웅]</td>\n",
       "      <td>&lt;4&gt; 전남 목포 '두리하나 플라워' 임효백씨 아이 때문에 결심한 '지방살이'서 꿈...</td>\n",
       "    </tr>\n",
       "  </tbody>\n",
       "</table>\n",
       "</div>"
      ],
      "text/plain": [
       "                                                                           Title   \n",
       "Date                                                                               \n",
       "2023-11-27 조덕진                                [사설] 생활권 침해 없는데 봉안당 불허···님비에 법원 제동  \\\n",
       "2023-11-27                                           [전남일보]기고·김정화>지방소멸 대책 신안에 있다   \n",
       "2023-11-27 곽선정                                      “학생 수 감소했다면 학교용지비용 부담 필요 없어”   \n",
       "2023-11-27 2015004;2017021 기자  서삼석 예결위원장 “올해 전 부처가 증액 요구…특활비 무조건 삭감보다 투명성 제고”...   \n",
       "2023-11-27 김진영                          경단녀서 꽃가게 사장님으로… \"지방은 기회의 공간\" [지방시대 지방영웅]   \n",
       "\n",
       "                                                                         Content  \n",
       "Date                                                                              \n",
       "2023-11-27 조덕진                 극단적인 지역이기주의에 지역 현안들이 발목이 잡혀있는 가운데 법원이 과도한 님비현상...  \n",
       "2023-11-27                     김정화 신안군농업기술센터소장\\n김정화 소장\\n“바보야! 문제는 경제야!”(“It’s...  \n",
       "2023-11-27 곽선정                 [KBS 광주]\\n취학 인구가 감소했는데도 학교용지부담금을 부과한 행정처분은 부당하...  \n",
       "2023-11-27 2015004;2017021 기자  서삼석 국회 예산결산특별위원회 위원장이 17일 오후 서울 여의도 국회에서 헤럴드경제...  \n",
       "2023-11-27 김진영                 <4> 전남 목포 '두리하나 플라워' 임효백씨 아이 때문에 결심한 '지방살이'서 꿈...  "
      ]
     },
     "execution_count": 26,
     "metadata": {},
     "output_type": "execute_result"
    }
   ],
   "source": [
    "import pandas as pd\n",
    "df = pd.read_excel(path, index_col=0)\n",
    "df.head()"
   ]
  },
  {
   "cell_type": "code",
   "execution_count": 27,
   "metadata": {},
   "outputs": [],
   "source": [
    "from sklearn.feature_extraction.text import CountVectorizer\n",
    "cv = CountVectorizer(tokenizer=extract_nouns, min_df=10)\n",
    "dtm = cv.fit_transform(df.Content)"
   ]
  },
  {
   "cell_type": "code",
   "execution_count": 28,
   "metadata": {},
   "outputs": [
    {
     "data": {
      "text/html": [
       "<div>\n",
       "<style scoped>\n",
       "    .dataframe tbody tr th:only-of-type {\n",
       "        vertical-align: middle;\n",
       "    }\n",
       "\n",
       "    .dataframe tbody tr th {\n",
       "        vertical-align: top;\n",
       "    }\n",
       "\n",
       "    .dataframe thead th {\n",
       "        text-align: right;\n",
       "    }\n",
       "</style>\n",
       "<table border=\"1\" class=\"dataframe\">\n",
       "  <thead>\n",
       "    <tr style=\"text-align: right;\">\n",
       "      <th></th>\n",
       "      <th>word</th>\n",
       "      <th>count</th>\n",
       "    </tr>\n",
       "  </thead>\n",
       "  <tbody>\n",
       "    <tr>\n",
       "      <th>5229</th>\n",
       "      <td>지역</td>\n",
       "      <td>10899</td>\n",
       "    </tr>\n",
       "    <tr>\n",
       "      <th>639</th>\n",
       "      <td>교육</td>\n",
       "      <td>9195</td>\n",
       "    </tr>\n",
       "    <tr>\n",
       "      <th>2570</th>\n",
       "      <td>사업</td>\n",
       "      <td>8707</td>\n",
       "    </tr>\n",
       "    <tr>\n",
       "      <th>4751</th>\n",
       "      <td>전남</td>\n",
       "      <td>8222</td>\n",
       "    </tr>\n",
       "    <tr>\n",
       "      <th>5234</th>\n",
       "      <td>지원</td>\n",
       "      <td>7375</td>\n",
       "    </tr>\n",
       "    <tr>\n",
       "      <th>1855</th>\n",
       "      <td>목포</td>\n",
       "      <td>6445</td>\n",
       "    </tr>\n",
       "    <tr>\n",
       "      <th>3347</th>\n",
       "      <td>신안군</td>\n",
       "      <td>5113</td>\n",
       "    </tr>\n",
       "    <tr>\n",
       "      <th>1939</th>\n",
       "      <td>문화</td>\n",
       "      <td>5105</td>\n",
       "    </tr>\n",
       "    <tr>\n",
       "      <th>5602</th>\n",
       "      <td>추진</td>\n",
       "      <td>4215</td>\n",
       "    </tr>\n",
       "    <tr>\n",
       "      <th>2883</th>\n",
       "      <td>섬</td>\n",
       "      <td>3975</td>\n",
       "    </tr>\n",
       "    <tr>\n",
       "      <th>1866</th>\n",
       "      <td>목포시</td>\n",
       "      <td>3748</td>\n",
       "    </tr>\n",
       "    <tr>\n",
       "      <th>4006</th>\n",
       "      <td>운영</td>\n",
       "      <td>3719</td>\n",
       "    </tr>\n",
       "    <tr>\n",
       "      <th>1724</th>\n",
       "      <td>말</td>\n",
       "      <td>3573</td>\n",
       "    </tr>\n",
       "    <tr>\n",
       "      <th>928</th>\n",
       "      <td>기자</td>\n",
       "      <td>3506</td>\n",
       "    </tr>\n",
       "    <tr>\n",
       "      <th>5472</th>\n",
       "      <td>청년</td>\n",
       "      <td>3495</td>\n",
       "    </tr>\n",
       "    <tr>\n",
       "      <th>373</th>\n",
       "      <td>계획</td>\n",
       "      <td>3434</td>\n",
       "    </tr>\n",
       "    <tr>\n",
       "      <th>3346</th>\n",
       "      <td>신안</td>\n",
       "      <td>3390</td>\n",
       "    </tr>\n",
       "    <tr>\n",
       "      <th>2948</th>\n",
       "      <td>센터</td>\n",
       "      <td>3376</td>\n",
       "    </tr>\n",
       "    <tr>\n",
       "      <th>5083</th>\n",
       "      <td>주민</td>\n",
       "      <td>3257</td>\n",
       "    </tr>\n",
       "    <tr>\n",
       "      <th>4949</th>\n",
       "      <td>제공</td>\n",
       "      <td>3137</td>\n",
       "    </tr>\n",
       "  </tbody>\n",
       "</table>\n",
       "</div>"
      ],
      "text/plain": [
       "     word  count\n",
       "5229   지역  10899\n",
       "639    교육   9195\n",
       "2570   사업   8707\n",
       "4751   전남   8222\n",
       "5234   지원   7375\n",
       "1855   목포   6445\n",
       "3347  신안군   5113\n",
       "1939   문화   5105\n",
       "5602   추진   4215\n",
       "2883    섬   3975\n",
       "1866  목포시   3748\n",
       "4006   운영   3719\n",
       "1724    말   3573\n",
       "928    기자   3506\n",
       "5472   청년   3495\n",
       "373    계획   3434\n",
       "3346   신안   3390\n",
       "2948   센터   3376\n",
       "5083   주민   3257\n",
       "4949   제공   3137"
      ]
     },
     "execution_count": 28,
     "metadata": {},
     "output_type": "execute_result"
    }
   ],
   "source": [
    "word_count = pd.DataFrame({\n",
    "    'word': cv.get_feature_names_out(),\n",
    "    'count': dtm.sum(axis=0).flat\n",
    "})\n",
    "\n",
    "word_count.sort_values('count', ascending=False).head(20)\n"
   ]
  },
  {
   "cell_type": "code",
   "execution_count": 40,
   "metadata": {},
   "outputs": [
    {
     "data": {
      "text/plain": [
       "6637"
      ]
     },
     "execution_count": 40,
     "metadata": {},
     "output_type": "execute_result"
    }
   ],
   "source": [
    "len(word_count)"
   ]
  },
  {
   "cell_type": "markdown",
   "metadata": {},
   "source": [
    "## LDA"
   ]
  },
  {
   "cell_type": "code",
   "execution_count": 29,
   "metadata": {},
   "outputs": [],
   "source": [
    "from gensim.matutils import Sparse2Corpus\n",
    "words = cv.get_feature_names_out().tolist()\n",
    "corpus = Sparse2Corpus(dtm.T)\n",
    "id2word = dict(enumerate(words))"
   ]
  },
  {
   "cell_type": "code",
   "execution_count": 30,
   "metadata": {},
   "outputs": [
    {
     "data": {
      "text/plain": [
       "[(812, 1),\n",
       " (5229, 8),\n",
       " (6406, 1),\n",
       " (33, 1),\n",
       " (2227, 2),\n",
       " (527, 2),\n",
       " (6402, 3),\n",
       " (4953, 2),\n",
       " (6376, 1),\n",
       " (5079, 1),\n",
       " (4898, 4),\n",
       " (6418, 2),\n",
       " (947, 3),\n",
       " (3265, 6),\n",
       " (4330, 2),\n",
       " (4567, 3),\n",
       " (1189, 2),\n",
       " (238, 2),\n",
       " (4589, 1),\n",
       " (5430, 2),\n",
       " (6364, 1),\n",
       " (4751, 1),\n",
       " (1855, 1),\n",
       " (3283, 1),\n",
       " (2675, 1),\n",
       " (3955, 4),\n",
       " (2243, 4),\n",
       " (6378, 1),\n",
       " (5688, 1),\n",
       " (2982, 1),\n",
       " (5969, 2),\n",
       " (5200, 1),\n",
       " (1866, 4),\n",
       " (4006, 1),\n",
       " (3149, 1),\n",
       " (231, 2),\n",
       " (1887, 1),\n",
       " (560, 1),\n",
       " (3359, 1),\n",
       " (3885, 1),\n",
       " (6310, 2),\n",
       " (5068, 2),\n",
       " (831, 1),\n",
       " (5083, 2),\n",
       " (4921, 1),\n",
       " (3647, 1),\n",
       " (639, 1),\n",
       " (6527, 1),\n",
       " (3471, 1),\n",
       " (549, 2),\n",
       " (2222, 1),\n",
       " (2588, 2),\n",
       " (2376, 1),\n",
       " (5695, 1),\n",
       " (2952, 1),\n",
       " (4951, 1),\n",
       " (1929, 3),\n",
       " (870, 1),\n",
       " (4222, 1),\n",
       " (255, 1),\n",
       " (5102, 1),\n",
       " (4703, 1),\n",
       " (2568, 1),\n",
       " (2020, 1),\n",
       " (2760, 1),\n",
       " (6192, 1),\n",
       " (6195, 1),\n",
       " (5721, 1),\n",
       " (4294, 1),\n",
       " (2604, 2),\n",
       " (885, 1),\n",
       " (4936, 1),\n",
       " (4323, 1),\n",
       " (4937, 3),\n",
       " (6354, 1),\n",
       " (951, 1),\n",
       " (2507, 1),\n",
       " (330, 1),\n",
       " (81, 1),\n",
       " (5024, 1),\n",
       " (2132, 1),\n",
       " (3681, 1),\n",
       " (2410, 1)]"
      ]
     },
     "execution_count": 30,
     "metadata": {},
     "output_type": "execute_result"
    }
   ],
   "source": [
    "#0번 문서의 단어 수\n",
    "corpus[0]"
   ]
  },
  {
   "cell_type": "code",
   "execution_count": 31,
   "metadata": {},
   "outputs": [],
   "source": [
    "from gensim.models.ldamodel import LdaModel\n",
    "lda_model = LdaModel(\n",
    "    corpus=corpus,\n",
    "    id2word=id2word,\n",
    "    num_topics=15,\n",
    "    random_state=100,\n",
    "    update_every=1,\n",
    "    chunksize=100,\n",
    "    passes=10,\n",
    "    iterations=400,\n",
    "    alpha='auto',\n",
    "    eta='auto',\n",
    "    per_word_topics=True)\n"
   ]
  },
  {
   "cell_type": "code",
   "execution_count": 32,
   "metadata": {},
   "outputs": [
    {
     "data": {
      "text/plain": [
       "[('마을', 0.024189066),\n",
       " ('세계', 0.024169063),\n",
       " ('자원', 0.021981416),\n",
       " ('관광', 0.021456838),\n",
       " ('전시', 0.013096576),\n",
       " ('자연', 0.012688234),\n",
       " ('사람', 0.01132914),\n",
       " ('생태', 0.01130092),\n",
       " ('바다', 0.01099736),\n",
       " ('길', 0.010834198)]"
      ]
     },
     "execution_count": 32,
     "metadata": {},
     "output_type": "execute_result"
    }
   ],
   "source": [
    "lda_model.show_topic(0)"
   ]
  },
  {
   "cell_type": "code",
   "execution_count": 34,
   "metadata": {},
   "outputs": [
    {
     "data": {
      "text/plain": [
       "[(0, 0.011322198)]"
      ]
     },
     "execution_count": 34,
     "metadata": {},
     "output_type": "execute_result"
    }
   ],
   "source": [
    "word_idx = words.index('사람')\n",
    "lda_model.get_term_topics(word_idx)\n"
   ]
  },
  {
   "cell_type": "code",
   "execution_count": 35,
   "metadata": {},
   "outputs": [
    {
     "data": {
      "text/plain": [
       "[(0, 0.04763123),\n",
       " (2, 0.015201082),\n",
       " (3, 0.034791715),\n",
       " (4, 0.037005927),\n",
       " (6, 0.1157737),\n",
       " (7, 0.09732184),\n",
       " (8, 0.048003312),\n",
       " (9, 0.029302891),\n",
       " (10, 0.010108594),\n",
       " (14, 0.5548392)]"
      ]
     },
     "execution_count": 35,
     "metadata": {},
     "output_type": "execute_result"
    }
   ],
   "source": [
    "doc_idx = 0\n",
    "lda_model.get_document_topics(corpus[doc_idx])"
   ]
  },
  {
   "cell_type": "markdown",
   "metadata": {},
   "source": [
    "## 평가"
   ]
  },
  {
   "cell_type": "code",
   "execution_count": 36,
   "metadata": {},
   "outputs": [
    {
     "data": {
      "text/plain": [
       "-9.92935250462413"
      ]
     },
     "execution_count": 36,
     "metadata": {},
     "output_type": "execute_result"
    }
   ],
   "source": [
    "lda_model.log_perplexity(corpus)\n",
    " #0에가까울수록 성능 높음"
   ]
  },
  {
   "cell_type": "code",
   "execution_count": 37,
   "metadata": {},
   "outputs": [
    {
     "data": {
      "text/plain": [
       "0.8106666666666666"
      ]
     },
     "execution_count": 37,
     "metadata": {},
     "output_type": "execute_result"
    }
   ],
   "source": [
    "topn = 25\n",
    "top_words = set()\n",
    "\n",
    "for topic in range(lda_model.num_topics):\n",
    "    for word, prob in lda_model.show_topic(topic, topn=topn):\n",
    "        top_words.add(word)\n",
    "\n",
    "len(top_words) / (lda_model.num_topics * topn)\n",
    "\n",
    "#1에가까울수록 성능 높음"
   ]
  },
  {
   "cell_type": "code",
   "execution_count": 38,
   "metadata": {},
   "outputs": [],
   "source": [
    "from gensim.corpora.dictionary import Dictionary\n",
    "dic = Dictionary()\n",
    "dic.id2token = id2word\n",
    "dic.token2id = {w: i for i, w in id2word.items()}"
   ]
  },
  {
   "cell_type": "code",
   "execution_count": 39,
   "metadata": {},
   "outputs": [
    {
     "name": "stderr",
     "output_type": "stream",
     "text": [
      "c:\\Users\\user\\anaconda3\\envs\\PY39_\\lib\\site-packages\\pandas\\core\\dtypes\\cast.py:1429: DeprecationWarning: np.find_common_type is deprecated.  Please use `np.result_type` or `np.promote_types`.\n",
      "See https://numpy.org/devdocs/release/1.25.0-notes.html and the docs for more information.  (Deprecated NumPy 1.25)\n",
      "  return np.find_common_type(types, [])\n"
     ]
    },
    {
     "data": {
      "text/html": [
       "\n",
       "<link rel=\"stylesheet\" type=\"text/css\" href=\"https://cdn.jsdelivr.net/gh/bmabey/pyLDAvis@3.4.0/pyLDAvis/js/ldavis.v1.0.0.css\">\n",
       "\n",
       "\n",
       "<div id=\"ldavis_el2113221688262938249591392489\" style=\"background-color:white;\"></div>\n",
       "<script type=\"text/javascript\">\n",
       "\n",
       "var ldavis_el2113221688262938249591392489_data = {\"mdsDat\": {\"x\": [0.018685993887882123, -0.2467679856749818, 0.13020518606957143, -0.05990570115184057, -0.2666043757714758, 0.01039113773441326, 0.14669937492534135, 0.16885982095665805, 0.12415060929630875, 0.09596946797396033, 0.10679997475987045, -0.2267249903815387, -0.18100882922232467, 0.05040751552014279, 0.12884280107801374], \"y\": [0.16480379341697596, -0.01401122014551046, -0.027488431422503835, 0.10301963094422247, -0.06990442376773487, -0.24735847353198742, -0.009995670235909143, 0.05215236100680412, 0.1606276606592764, -0.08724941319878857, 0.14574973795637738, 0.028450276407351066, 0.11887049212490912, -0.27498073523390004, -0.04268558497958152], \"topics\": [1, 2, 3, 4, 5, 6, 7, 8, 9, 10, 11, 12, 13, 14, 15], \"cluster\": [1, 1, 1, 1, 1, 1, 1, 1, 1, 1, 1, 1, 1, 1, 1], \"Freq\": [9.093248313692627, 0.4639129045899222, 12.931137525487696, 4.255583770512277, 0.8752846167771071, 4.0052391874983995, 13.404946138720739, 9.636475185258334, 6.099592602498556, 7.846506572897651, 9.382365497143573, 1.0601280887669506, 0.9693777882688036, 4.020547134209973, 15.955654673677392]}, \"tinfo\": {\"Term\": [\"\\uc0ac\\uc5c5\", \"\\ubaa9\\ud3ec\", \"\\uad50\\uc721\", \"\\uc12c\", \"\\ubb38\\ud654\", \"\\uc9c0\\uc6d0\", \"\\uc2e0\\uc548\\uad70\", \"\\ucd94\\uc9c4\", \"\\uc2e0\\uc548\", \"\\ub3c4\\uc2dc\", \"\\ubaa9\\ud3ec\\uc2dc\", \"\\uc778\\uad6c\", \"\\ud55c\\uad6d\", \"\\ud574\\uc591\", \"\\ud559\\uad50\", \"\\uccb4\\ud5d8\", \"\\uc804\\ub0a8\", \"\\uc870\\uc131\", \"\\uc758\\uc6d0\", \"\\ud504\\ub85c\\uadf8\\ub7a8\", \"\\uc9c0\\uc5ed\", \"\\ud559\\uc0dd\", \"\\uac2f\\ubc8c\", \"\\ud658\\uacbd\", \"\\uacc4\\ud68d\", \"\\uad00\\uad11\", \"\\uc120\\uc815\", \"\\ubb38\\ud559\", \"\\uccad\\ub144\", \"\\uc0b0\\uc5c5\", \"\\ubc14\\ub2e4\", \"\\uc0dd\\ubb3c\", \"\\uc232\", \"\\uc791\\ud488\", \"\\uc720\\uc0b0\", \"\\ubb3c\", \"\\ubcf4\\uc804\", \"\\uc624\\uc804\", \"\\ubcf4\\uc874\", \"\\uc815\\uc2e0\", \"\\uc810\\uac80\", \"\\uc18c\\ubc29\", \"\\ud3c9\\ud654\", \"\\ubb38\\ud654\\uc720\\uc0b0\", \"\\uadf8\\ub9bc\", \"\\ub2e8\\uc7a5\", \"\\uc804\\uc2dc\\uad00\", \"\\uacbd\\uad00\", \"\\ubcf5\\uc6d0\", \"\\ubbf8\\uad6d\", \"\\ud574\\uc548\", \"\\ucd94\\ubaa8\", \"\\ucd5c\", \"\\uc721\\uc9c0\", \"\\ub2e4\\ub9ac\", \"\\uc804\\uba74\", \"\\ud559\", \"\\uac1c\\ub150\", \"\\uc778\\uac04\", \"\\ub4f1\\uc7ac\", \"\\uc624\\ud6c4\", \"\\uc790\\uc5f0\", \"\\uc0ac\\ub78c\", \"\\ub9c8\\uc744\", \"\\uc704\", \"\\ub514\\uc790\\uc778\", \"\\ub098\\ub77c\", \"\\uc804\\uc2dc\", \"\\uc138\\uacc4\", \"\\uc815\\uc6d0\", \"\\uac1c\\uad00\", \"\\uc790\\uc6d0\", \"\\uae38\", \"\\uc0dd\\ud0dc\", \"\\ub2f9\\uc2dc\", \"\\ub54c\", \"\\uac74\\ubb3c\", \"\\uad00\\uad11\\uac1d\", \"\\ub9db\", \"\\uad00\\uad11\", \"\\uc5ed\\uc0ac\", \"\\uac00\\uce58\", \"\\uad6d\\uc81c\", \"\\uc0dd\\uac01\", \"\\ud55c\\uad6d\", \"\\uc870\\uc0ac\", \"\\ub2e4\\uc591\", \"\\uad00\\ub9ac\", \"\\uc2dc\\ub300\", \"\\ud65c\\uc6a9\", \"\\ub9d0\", \"\\uacf5\\uac04\", \"\\ucd5c\\ub300\", \"\\ubb38\\ud654\", \"\\uc0ac\\uac74\", \"\\uc5fc\\uc804\", \"\\uc77c\\ubcf8\", \"\\ub545\", \"\\ubcf4\\ub3c4\", \"\\uc0dd\\uc0b0\\uc790\", \"\\ud53c\\ud574\\uc790\", \"\\ud559\\ub144\", \"\\ud574\\uc548\\uc120\", \"\\ud559\\ub144\\ub3c4\", \"\\uc9c4\\uc2e4\", \"\\ub178\\uc608\", \"\\uc218\\ub2a5\", \"\\uc8fd\\ub3c4\", \"\\uc218\\ud638\", \"\\ubb38\\ud56d\", \"\\ucd9c\\ucc98\", \"\\ucd9c\\uc81c\", \"\\ub4f1\\uc7a5\", \"\\uacfc\\ubaa9\", \"\\ud55c\\uad6d\", \"\\uc601\\uc5ed\", \"\\ub355\\ubd84\", \"\\ubb38\\uc81c\", \"\\uc6a9\\uc5b4\", \"\\uae40\\ud658\\uae30\", \"\\uc7ac\\ubc1c\", \"\\ud638\\uc18c\\ubb38\", \"\\uc790\\uc81c\", \"\\uc784\\uae08\", \"\\uc810\", \"\\uc9c0\\ub3c4\", \"\\uad00\\uc2ec\", \"\\ub098\\ub77c\", \"\\ub0a0\", \"\\ub54c\", \"\\uc0b0\\uc5c5\", \"\\uacfc\\uc7a5\", \"\\uae30\\uc5c5\", \"\\ub370\\uc774\\ud130\", \"\\uacbd\\uc601\", \"\\uc120\\ubc15\", \"\\uc7a5\\ud559\\uae08\", \"\\uc9c4\\ud765\\uc6d0\", \"\\uc7a5\\ud559\", \"\\ubbfc\", \"\\ub124\\ud2b8\\uc6cc\\ud06c\", \"\\uc9c1\\ubb34\", \"\\uc811\\uc218\", \"\\uc2b9\", \"\\uad00\\ub0b4\", \"\\ucc3d\\uc758\", \"\\uae30\\ud0c1\", \"\\uc5b4\\uc5c5\", \"\\uc591\\uc2dd\", \"\\uae30\\uad6c\", \"\\uae00\\ub85c\\ubc8c\", \"\\ub3c4\\uc57d\", \"\\ucca8\\ub2e8\", \"\\uc778\\uacf5\", \"\\uc9c0\\ub2a5\", \"\\ud074\\ub7ec\\uc2a4\\ud130\", \"\\uadf9\\ub300\", \"\\ubd80\\ubb38\", \"\\uccb4\\ub958\", \"\\uc18c\\ud504\\ud2b8\\uc6e8\\uc5b4\", \"\\uc721\\uc131\", \"\\ud601\\uc2e0\", \"\\uae09\", \"\\ud574\\uc0c1\", \"\\ud48d\\ub825\", \"\\uc778\\uc7ac\", \"\\ucc3d\\ucd9c\", \"\\uc6b0\\uc218\", \"\\uc131\\uc7a5\", \"\\ubd84\\uc57c\", \"\\ubc1c\\uc804\", \"\\uc591\\uc131\", \"\\uc77c\\uc790\\ub9ac\", \"\\uc2a4\\ub9c8\\ud2b8\", \"\\uc804\\ub7b5\", \"\\uae30\\uc220\", \"\\uad00\\uad11\", \"\\uacbd\\uc81c\", \"\\uc804\\ubb38\", \"\\uc720\\uce58\", \"\\ubbf8\\ub798\", \"\\uac1c\\ubc1c\", \"\\uc815\\ucc45\", \"\\ud611\\ub825\", \"\\uc9c0\\uc5ed\", \"\\uc5d0\\ub108\\uc9c0\", \"\\uc0ac\\ud68c\", \"\\ud658\\uacbd\", \"\\uae30\\uad00\", \"\\uad6c\\ucd95\", \"\\uc5f0\\uad6c\", \"\\uc804\\ub0a8\", \"\\ubaa9\\ud3ec\", \"\\uc2dc\\ubbfc\", \"\\uadfc\\ub300\", \"\\uccb4\\uc721\", \"\\ub300\\ud68c\", \"\\uc6b4\\ub3d9\", \"\\uc138\\uc6d4\\ud638\", \"\\ud611\\uc758\\ud68c\", \"\\uac15\", \"\\uc120\\uc218\", \"\\uae30\\uc5b5\", \"\\uccb4\\uc721\\ud68c\", \"\\ucc38\\uc0ac\", \"\\ud310\\uc815\", \"\\uc9c1\\uc5c5\", \"\\uc77c\\uc81c\", \"\\uc7ac\\ud65c\", \"\\uccb4\\uc804\", \"\\uac15\\uc88c\", \"\\ubd09\", \"\\uac15\\uc810\\uae30\", \"\\uac1c\\ud56d\", \"\\uac10\\ub3c5\", \"\\uad00\\uad11\\ubd80\", \"\\uc885\\ubaa9\", \"\\uc5ec\\uc790\", \"\\ub3c5\\ub9bd\", \"\\ub3c4\\ucfc4\", \"\\uc606\", \"\\ud68d\\ub4dd\", \"\\ubaa9\\ud3ec\\uc2dc\", \"\\ubbfc\\uc8fc\", \"\\uc778\\ubb3c\", \"\\ubb38\\ud654\", \"\\ub3c4\\uc2dc\", \"\\uc5ed\\uc0ac\", \"\\uc804\\uad6d\", \"\\uac1c\\ucd5c\", \"\\ud589\\uc0ac\", \"\\uacf5\\uac04\", \"\\ucc38\\uac00\", \"\\ub2e8\\uccb4\", \"\\ud65c\\ub3d9\", \"\\uc900\\ube44\", \"\\uc9c4\\ud589\", \"\\ucc38\\uc5ec\", \"\\uc5ec\\ud589\", \"\\ud574\\ubcc0\", \"\\uad50\\uba85\", \"\\ud574\\uc591\\ub300\", \"\\ubaa9\\ud3ec\\ud574\\uc591\\ub300\\ud559\\uad50\", \"\\uc2e0\\uace0\", \"\\ubcc4\", \"\\ud574\\uc218\\ubd80\", \"\\ud574\\uacbd\", \"\\ubc29\\uc81c\", \"\\ud55c\\uad6d\\uad00\\uad11\\uacf5\\uc0ac\", \"\\uac00\\uac70\\ub3c4\", \"\\ucd9c\\uc2dc\", \"\\ud45c\\uba85\", \"\\uadf9\\ub2e8\", \"\\uacbd\\uc0c1\\ubd81\\ub3c4\", \"\\ubc95\\uc6d0\", \"\\uacfc\\ud559\\uad00\", \"\\ub3c5\\ub3c4\", \"\\uad00\\uce21\", \"\\uc601\\ud1a0\", \"\\ub274\\uc2a41\", \"\\ub0a8\\ub2e8\", \"\\uba85\\uc2dc\", \"\\uc6b8\\ub989\\uad70\", \"\\uc545\\uc601\\ud5a5\", \"\\uc6b8\\ub989\\ub3c4\", \"\\uc219\\ubc15\", \"\\uc790\\ud0dc\", \"\\ud574\\uc591\", \"\\uc218\\uc0b0\", \"\\uc9c0\\ub9ac\", \"\\ud658\\uacbd\", \"\\uc0c1\\ud488\", \"\\uad00\\uacc4\\uc790\", \"\\uc0ac\\uc5c5\", \"\\ud611\\uc57d\", \"\\ud22c\\uc785\", \"\\uacf5\\ubaa8\", \"\\uccb4\\uacb0\", \"\\uad6d\\ube44\", \"\\uc2e4\\uc99d\", \"\\uc18c\\uc694\", \"\\ubc15\\ucc28\", \"\\ucd1d\\ub825\", \"\\uc6a9\\ud488\", \"\\ubaa8\\ube4c\\ub9ac\\ud2f0\", \"\\uad00\\uc81c\", \"\\uc120\\uc815\", \"\\uc778\\ub3c4\\ub124\\uc2dc\\uc544\", \"\\ubc1c\\uad74\", \"\\ucd94\\uc9c4\", \"\\uc9c0\\uc6d0\", \"\\uad6c\\ucd95\", \"\\uad6d\\ud1a0\\ubd80\", \"\\uac1c\\uc124\", \"\\uacc4\\ud68d\", \"\\uac1c\\uc120\", \"\\uc2dc\", \"\\uacf5\\ub3d9\", \"\\uae30\\ubc18\", \"\\ud655\\ub300\", \"\\ub0b4\\ub144\", \"\\ud65c\\uc6a9\", \"\\ud3ec\\ud568\", \"\\uc62c\\ud574\", \"\\uc2dc\\uc7a5\", \"\\ub3c4\\uc2dc\", \"\\uac1c\\ubc1c\", \"\\uc9c0\\uc5ed\", \"\\uc8fc\\ubbfc\", \"\\uad00\\ub828\", \"\\uccb4\\uacc4\", \"\\uc608\\uc815\", \"\\uccad\\ub144\", \"\\ucc3d\\uc5c5\", \"\\ub538\\uae30\", \"\\ub274\\ub51c\", \"\\uce35\", \"\\uc9c0\\uad6c\", \"\\uc138\\ub300\", \"\\uc8fc\\uac70\", \"\\ubd84\\uc591\", \"\\uadc0\\ub18d\", \"\\uc815\\ucc29\", \"\\uad74\", \"\\uacf5\\ub3d9\\uccb4\", \"\\ucee8\\uc124\\ud305\", \"\\uc624\\ub8e1\", \"\\ud56d\\uacf5\", \"\\ucd9c\\uc2e0\", \"\\uc0b0\\ub2e8\", \"\\uc5b4\\ucd0c\", \"\\uadfc\\ubb34\", \"\\ud65c\\ub825\", \"\\uc9c0\\uc0c1\", \"\\uc2e0\\ucd95\", \"\\ucea0\\ud504\", \"\\ud0c4\\uc18c\", \"\\ucc29\\uacf5\", \"\\uce68\\uccb4\", \"\\ub0a8\\uc545\\uc2e0\\ub3c4\\uc2dc\", \"\\uad6c\\uc785\", \"\\uc9c0\\uc6d0\\uccad\", \"\\uac00\\uad6c\", \"\\uc0ac\\uc5c5\\ube44\", \"\\uacf5\\uae09\", \"\\uc8fc\\ud0dd\", \"\\uc774\\ud558\", \"\\uc815\\ube44\", \"\\uc77c\\uc6d0\", \"\\uaddc\\ubaa8\", \"\\uc870\\uc131\", \"\\uc2dc\\uc124\", \"\\ub2e8\\uc9c0\", \"\\ubcf5\\ud569\", \"\\ud2b9\\ud654\", \"\\ucde8\\uc5c5\", \"\\uc218\\ub9bd\", \"\\uc784\\ub300\", \"\\uac00\\ub2a5\", \"\\uc608\\uc815\", \"\\uc0dd\\ud65c\", \"\\uc778\\ud504\\ub77c\", \"\\uacf5\\uac04\", \"\\uc9c0\\uc5ed\", \"\\uc13c\\ud130\", \"\\ub3c4\\uc2dc\", \"\\ubb34\\uc548\", \"\\uacc4\\ud68d\", \"\\uc9c0\\ub09c\\ud574\", \"\\uc6b4\\uc601\", \"\\uac1c\\ubc1c\", \"\\ub9c8\\ub828\", \"\\uc774\\uc0c1\", \"\\ud658\\uacbd\", \"\\uc804\\ub0a8\", \"\\ub2e4\\uc591\", \"\\uc548\\uc804\", \"\\uc811\\uc885\", \"\\uc608\\ubc29\", \"\\ubc29\\uc5ed\", \"\\ubcd1\\uc6d0\", \"\\uc758\\ub8cc\", \"\\uac80\\uc0ac\", \"\\ubcf4\\uac74\", \"\\uc7ac\\ub09c\", \"\\uc2a4\\ud3ec\\uce20\", \"\\uc0c1\\ub2f4\", \"\\ud655\\uc9c4\\uc790\", \"\\ub178\\uc778\", \"\\ucde8\\uc57d\", \"\\ubcf4\\uac74\\uc18c\", \"\\uacc4\\uce35\", \"\\ud658\\uc790\", \"\\ub3cc\\ubd04\", \"\\uace0\\ub839\", \"\\uc804\\ucd9c\", \"\\uce58\\ub9e4\", \"\\uc694\\uc591\", \"\\ucea0\\ud398\\uc778\", \"\\uc5b4\\ub974\\uc2e0\", \"\\ubd80\\ubaa8\", \"\\uc758\\uacfc\", \"\\uc704\\uc0dd\", \"\\uc720\\uc77c\", \"\\uce58\\ub8cc\", \"\\uc548\\uc2ec\", \"\\uac74\\uac15\", \"\\uc544\\ub3d9\", \"\\uc11c\\ube44\\uc2a4\", \"\\uc7a5\\uc560\\uc778\", \"\\uac00\\uc815\", \"\\ucd9c\\uc0b0\", \"\\ubc1c\\uc0dd\", \"\\ubcf5\\uc9c0\", \"\\ucf54\\ub85c\\ub098\", \"\\uc5b4\\ub9b0\\uc774\", \"\\uc2e4\\uc2dc\", \"\\uad00\\ub9ac\", \"\\uc0ac\\ud68c\", \"\\uc13c\\ud130\", \"\\ubcf4\\ud638\", \"\\ub300\\uc0c1\", \"\\uc9c0\\uc6d0\", \"\\uc6b4\\uc601\", \"\\uc2dc\\uc124\", \"\\uc81c\\uacf5\", \"\\ud65c\\ub3d9\", \"\\uae30\\uad00\", \"\\uc0dd\\ud65c\", \"\\uad50\\uc721\", \"\\ud559\\uc0dd\", \"\\ub300\\uba74\", \"\\ud559\\uc2b5\", \"\\uad50\\uc0ac\", \"\\uc218\\uc5c5\", \"\\ubc15\\ubb3c\\uad00\", \"\\uad50\\uc2e4\", \"\\ubaa9\\ud3ec\\ub300\\ud559\\uad50\", \"\\uad50\\uc721\\ubd80\", \"\\ubaa9\\ud3ec\\ub300\", \"\\ud3c9\\uc0dd\", \"\\ucd1d\\uc7a5\", \"\\ud300\\uc7a5\", \"\\ub3c4\\uc11c\\uad00\", \"\\ud559\\ubd80\\ubaa8\", \"\\uc11c\\uc601\\uc11c\", \"\\uace0\\ub4f1\\ud559\\uad50\", \"\\uc219\", \"\\uc2e0\\uccad\", \"\\uc124\\ube44\", \"\\ub178\\ub3d9\", \"\\uacf5\\ub9bd\", \"\\ud2b9\\uc9d5\", \"\\uad50\\uc7a5\", \"\\ud559\\uc5c5\", \"\\uacf5\\ubaa8\\uc804\", \"\\ud0c4\\uc0dd\", \"\\ucea0\\ud37c\\uc2a4\", \"\\ud574\\uc6b4\", \"\\uc804\\ub2ec\\uc2dd\", \"\\uad50\\uc721\\uccad\", \"\\ucde8\\uc7ac\", \"\\ud559\\uad50\", \"\\ud638\\ub0a8\", \"\\uad50\\uc721\", \"\\ub300\\ud559\", \"\\uacfc\\uc815\", \"\\ubcf8\\ubd80\", \"\\uc544\\uc774\", \"\\uc5c5\\ubb34\", \"\\ucc38\\uc5ec\", \"\\uae30\\uc790\", \"\\uc804\\ub0a8\", \"\\uc6b4\\uc601\", \"\\uc9c4\\ud589\", \"\\uc774\\ubc88\", \"\\ud604\\uc7a5\", \"\\uc81c\\uacf5\", \"\\ub300\\uc0c1\", \"\\ub9d0\", \"\\ud65c\\uc6a9\", \"\\ubbf8\\ub798\", \"\\uc9c0\\uc5ed\", \"\\ud65c\\ub3d9\", \"\\ub2e4\\uc591\", \"\\uc758\\uc6d0\", \"\\ud64d\\uc5b4\", \"\\uc608\\uc0b0\", \"\\uac10\\uc5fc\", \"\\uc7ac\\ubc30\", \"\\uad6d\\ud68c\", \"\\uc778\\uad8c\", \"\\uacf5\\ud56d\", \"\\uc7a0\\uc7ac\\ub825\", \"\\ud751\", \"\\uc778\\uc6d0\", \"\\uc885\\uc0ac\\uc790\", \"\\uc218\\uce59\", \"\\uc0c1\\uacf5\\uc778\", \"\\uacf5\\uc57d\", \"\\ub354\\ubd88\\uc5b4\\ubbfc\\uc8fc\\ub2f9\", \"\\uc784\\uc790\", \"\\uc900\\uc218\", \"\\ud611\\uc758\", \"\\uac10\\uc5fc\\ubcd1\", \"\\uc81c\\uc815\", \"\\uacf5\\uc9c1\\uc790\", \"\\ub300\\uad11\", \"\\uac74\\uc758\", \"\\uc2ec\\uc758\", \"\\uad70\\uc815\", \"\\ub300\\uc548\", \"\\uc218\\ub834\", \"\\ubc95\\uc815\", \"\\uae40\\uc6d0\", \"\\uc758\\ud68c\", \"\\ud68c\\uc758\", \"\\uc704\\uc6d0\\uc7a5\", \"\\uc758\\uacac\", \"\\uc704\\uc6d0\\ud68c\", \"\\uacb0\\uc815\", \"\\uc7ac\\uc815\", \"\\uae30\", \"\\uad6d\\ubbfc\", \"\\ubc18\\ub300\", \"\\uad70\\ubbfc\", \"\\ubc29\\uc548\", \"\\uc81c\\ub3c4\", \"\\ub17c\\uc758\", \"\\ucd5c\\ub300\", \"\\ud589\\uc815\", \"\\uad70\", \"\\ucd94\\uac00\", \"\\ucd94\\uc9c4\", \"\\ubbfc\\uac04\", \"\\uad00\\ub828\", \"\\ud3c9\\uac00\", \"\\uc8fc\\ubbfc\", \"\\uacc4\\ud68d\", \"\\uacbd\\uc81c\", \"\\uc815\\ucc45\", \"\\ub18d\\uc5c5\", \"\\ubbf8\\uc220\\uad00\", \"\\ubaa8\\uc9d1\", \"\\uc120\\ubc1c\", \"\\ub18d\\uac00\", \"\\ub18d\\uc5c5\\uc778\", \"\\uc791\\uac00\", \"\\uc885\", \"\\uc0c1\\ud638\", \"\\uccad\\uc0ac\", \"\\uc2e4\\uc2b5\", \"\\ud68c\\uc0ac\", \"\\uc2b5\\uc9c0\", \"\\ub18d\\uc0b0\\ubb3c\", \"\\ub18d\\uc7a5\", \"\\ucd95\\uc81c\", \"\\ucc9c\\uc0ac\", \"\\uaf43\", \"\\uc2dd\\ubb3c\", \"\\ubbf8\\uc220\", \"\\uc1a1\", \"\\uae30\\ub150\", \"\\ub18d\\ud611\", \"\\uae40\\uce58\", \"\\uc808\\uac10\", \"\\uc815\\ud574\\uc120\", \"\\ud638\", \"\\ud310\\ub9e4\", \"\\uc870\\ud615\\ubb3c\", \"\\uac00\\uc785\", \"\\uc601\\ub18d\", \"\\uc7ac\\ub2e8\", \"\\uc608\\uc220\", \"\\uad70\\uccad\", \"\\ud64d\\ubcf4\", \"\\uc628\\ub77c\\uc778\", \"\\ubb34\\uc548\\uad70\", \"\\uc2e4\\ucc9c\", \"\\uac00\\uc871\", \"\\uad70\\uc218\", \"\\uc804\\ub2ec\", \"\\uc0ac\\uc6a9\", \"\\ubb34\\uc548\", \"\\ud76c\\ub9dd\", \"\\ub2ec\", \"\\ud504\\ub85c\\uadf8\\ub7a8\", \"\\ub18d\\ucd0c\", \"\\ud589\\uc0ac\", \"\\uc774\\ubc88\", \"\\ub300\\ud45c\", \"\\ud658\\uacbd\", \"\\ucc38\\uc5ec\", \"\\ub9d0\", \"\\ub2e4\\uc591\", \"\\uae30\\uc790\", \"\\ud65c\\ub3d9\", \"\\uc9c4\\ud589\", \"\\ub300\\uc0c1\", \"\\uad70\", \"\\uc81c\\uacf5\", \"\\uac2f\\ubc8c\", \"\\uce58\\uc720\", \"\\uc0b0\\ub9bc\", \"\\ucca0\\uc0c8\", \"\\ubbfc\\uc6d0\", \"\\uc790\\uc804\\uac70\", \"\\ud669\\ud1a0\", \"\\uc9c1\\uc7a5\", \"\\ud0c0\\uc6cc\", \"\\uac1c\\uc7a5\", \"\\ucee8\\ud2b8\\ub864\", \"\\uac77\\uae30\", \"\\uc232\\uae38\", \"\\ubb34\\uc0b0\", \"\\uc6b0\\uc704\", \"\\ub370\\uc774\", \"\\uc870\\uc625\\ud604\", \"\\ub9e8\\ubc1c\", \"\\ud1a0\\ub860\\ud68c\", \"\\uc18c\\uadf9\", \"\\ube44\\ubc00\", \"\\uc804\\ub77d\", \"\\ub3d9\\ucc3d\", \"\\uc21c\\ucc9c\\ub9cc\\uad6d\\uac00\\uc815\\uc6d0\", \"\\uba74\\uc801\", \"\\uacf5\\uc6d0\", \"\\uccb4\\ud5d8\", \"\\uc545\", \"\\ud1b5\\ud569\", \"\\ub9de\\uc774\", \"\\ud504\\ub85c\\uadf8\\ub7a8\", \"\\uae38\", \"\\ubc1c\", \"\\uc870\\uc131\", \"\\ud658\\uacbd\", \"\\uc21c\\ucc9c\", \"\\ud65c\\uc6a9\", \"\\ubb34\\uc548\", \"\\ucd94\\uc9c4\", \"\\ucd5c\\ucd08\", \"\\ubb38\\ud559\", \"\\uccad\\uc18c\\ub144\", \"\\ubc15\\ub78c\\ud68c\", \"\\ub514\\uc9c0\\ud138\", \"\\uc790\\uc0b4\", \"\\ud611\\uc758\\uccb4\", \"\\uccad\\ub834\", \"\\ub4f1\\uae09\", \"\\uc8fc\\ucc28\\uc7a5\", \"\\uccad\\ub834\\ub3c4\", \"\\ubb38\\ud559\\uad00\", \"\\uc2a4\\uce74\\uc774\", \"\\ucd9c\\uc5f0\", \"\\ubb38\\ud559\\uc778\", \"\\ucee8\\ubca4\\uc158\", \"\\uc120\\ud3ec\\uc2dd\", \"\\uc18c\\ub144\", \"\\ubaa9\\ud3ec\\ubb38\\ud559\\uad00\", \"\\ucd9c\\uc790\", \"\\ud37c\\ud3ec\\uba3c\\uc2a4\", \"\\uc778\\uc131\", \"\\uc804\\ub77c\\ub0a8\\ub3c4\\uc758\\ud68c\", \"\\uc0c1\\ub2f4\\uc2e4\", \"\\ub4dc\\ub860\", \"\\ubbf8\\ub780\", \"\\ubc1c\\uc871\", \"\\ud589\\uc0ac\\uc7a5\", \"\\uc6e8\\ub529\", \"\\uae08\\uc624\\ub3c4\", \"\\uacf5\\uc5f0\", \"\\uaca9\\ucc28\", \"\\uad11\\uc7a5\", \"\\ubaa9\\ud3ec\\uc2dc\\uc7a5\", \"\\ubc16\", \"\\uc8fc\\uc81c\", \"\\uac1c\\ucd5c\", \"\\ud589\\uc0ac\", \"\\uccb4\\ud5d8\", \"\\ub2e4\\uc591\", \"\\ubbf8\\ub798\", \"\\uc2dc\", \"\\uc6b4\\uc601\", \"\\uc9c4\\ud589\", \"\\uc2e0\\uc548\", \"\\ubc15\\uc6b0\\ub7c9\", \"\\uc12c\", \"\\uc774\\uc775\", \"\\ud0dc\\uc591\\uad11\", \"\\ud3d0\\uad50\", \"\\uac10\\uc0c1\", \"\\uc784\\uc790\\ub3c4\", \"\\ucc45\\uc784\", \"\\ubc1c\\uc804\\uc18c\", \"\\uc548\\uc88c\\ub3c4\", \"\\ubd84\\uad50\", \"\\ubc30\\ub2f9\\uae08\", \"\\uc5f0\\uae08\", \"\\uc2e0\\uc548\\uad70\", \"\\ub3c4\\uc2dc\\ubbfc\", \"\\uc218\\ub2f9\", \"\\uba85\\ud488\", \"\\uc555\\ud574\\uc74d\", \"\\uac1c\\uad50\", \"\\uc0c1\\ud658\", \"\\uad70\\ube44\", \"\\uc548\\uc88c\", \"\\ud587\\ube5b\", \"\\uc2e0\\ud63c\\ubd80\\ubd80\", \"\\uacf5\\ud1b5\", \"\\ubd84\\uc7ac\", \"\\uc548\\uc88c\\uba74\", \"\\uc815\\uc131\", \"\\uc6d0\\uae08\", \"\\uc785\\ud559\", \"\\uc778\\uad6c\", \"\\uc5b4\\uc120\", \"\\uc7ac\\uc0dd\", \"\\uc18c\\uba78\", \"\\uae30\\uae08\", \"\\uc8fc\\ubbfc\", \"\\uac10\\uc18c\", \"\\uacf5\\uc720\", \"\\ud611\\ub3d9\\uc870\\ud569\", \"\\uc5d0\\ub108\\uc9c0\", \"\\ubcf4\\uc720\", \"\\uc815\\ucc45\", \"\\uc9c0\\uae09\", \"\\uad70\\uc218\", \"\\uc704\\uae30\", \"\\uc9c0\\uc5ed\", \"\\uc720\\uc785\", \"\\uc99d\\uac00\", \"\\uc18c\\ub4dd\", \"\\uc804\\uad6d\", \"\\ubc1c\\uc804\", \"\\uacc4\\ud68d\", \"\\uad11\\uc8fc\", \"\\uc2dd\\ud488\", \"\\uc9c0\\uc790\\uccb4\", \"\\uacbd\\uae30\", \"\\ubd80\\uc7a5\", \"\\ubd80\\uc0b0\", \"\\uc608\\ube44\", \"\\ud6c4\\ubcf4\", \"\\uc218\\ub3c4\", \"\\uad11\\uc5ed\", \"\\uacbd\\ub0a8\", \"\\uc778\\uc0ac\", \"\\ubcc0\\uacbd\", \"\\uc120\\uac70\", \"\\uae30\\ub85d\", \"\\uad50\\uc721\\uac10\", \"\\uacbd\\ubd81\", \"\\uac74\\ucd95\", \"\\ub4f1\\ub85d\", \"\\uace0\\ud5a5\", \"\\uc778\\ucc9c\", \"\\uc774\\uc0ac\", \"\\ub300\\uad6c\", \"\\uc0ac\\uace0\", \"\\uacbd\\uc7c1\", \"\\uc774\", \"\\ud790\\ub9c1\", \"\\ucc9c\\uc77c\\uc5fc\", \"\\uc644\\uacf5\", \"\\uc870\\uce58\", \"\\uc9c0\\ubc29\", \"\\uc5ec\\uc218\", \"\\uc790\\uce58\", \"\\ub3c4\", \"\\uacf3\", \"\\ub300\\ud1b5\\ub839\", \"\\ucda9\\ub0a8\", \"\\uc804\\ub0a8\\ub3c4\", \"\\ud798\", \"\\uc77c\\ubd80\", \"\\uae40\", \"\\uc804\\ub0a8\", \"\\uad6d\\ub0b4\", \"\\ubb38\", \"\\uc9c0\\uc5ed\", \"\\uc804\\uad6d\", \"\\uc11c\\uc6b8\", \"\\ub2e8\\uccb4\", \"\\uc9c0\\ub09c\\ud574\", \"\\uacbd\\uc6b0\", \"\\uc2dc\", \"\\uc815\\ubd80\", \"\\uc704\\uae30\", \"\\uc2dc\\uc7a5\", \"\\ub9d0\"], \"Freq\": [10198.0, 8775.0, 10349.0, 6053.0, 7527.0, 7292.0, 5116.0, 5064.0, 3835.0, 5207.0, 4148.0, 3782.0, 2211.0, 2013.0, 3802.0, 2260.0, 9283.0, 3647.0, 3173.0, 2592.0, 12577.0, 2613.0, 1548.0, 3757.0, 4100.0, 4485.0, 2278.0, 1451.0, 3345.0, 3270.0, 965.4526261101845, 878.0516439399337, 831.9288393637953, 753.5015446920975, 589.861092695932, 570.3324319097509, 515.4261552580467, 506.0361032456051, 470.2595378178788, 416.0350606126782, 405.3719183997922, 367.752352345689, 347.435399274646, 337.4017094527863, 329.568333368118, 323.36989829338705, 305.59213511445756, 303.8910908724182, 284.3867537863611, 272.42948852645293, 270.8759399315526, 267.24473854437235, 260.4966082869212, 242.12565342622594, 241.4134186944412, 205.5738160472337, 203.26821543664803, 201.34132870496916, 195.5372646135947, 189.7721797626712, 462.73893590068855, 1113.893668020742, 994.579418965331, 2123.5458503103628, 318.52512823077205, 380.2463128948058, 336.20067054892803, 1149.7417328627826, 2121.789801801908, 545.7321774472765, 338.82736444123583, 1929.7373875730664, 951.1287874687073, 992.1019990074823, 369.5255705248192, 791.0618345022008, 390.6923405339791, 579.1354447057523, 662.7150305059198, 1883.6848968863624, 865.0420209481863, 813.7226929015039, 839.1758303147159, 532.6354796971016, 928.2924713871645, 706.7959524370195, 808.060871355645, 714.1849610925301, 562.7507959013248, 641.6626840877638, 657.9381010825584, 606.189040706961, 573.0307682969619, 603.8326669273769, 462.47469163673856, 410.126445241351, 400.848081428013, 213.7860505365118, 163.39803030804777, 157.26529507963554, 124.69425844494313, 353.2785516194605, 99.59943925186224, 87.37607279663995, 73.37783121622128, 72.18810744437913, 41.98906443511632, 18.062251708117554, 11.160885906569586, 9.218926427680184, 6.04901004056212, 1.1486859005807428, 72.53198042754558, 25.406501009973848, 760.2205761999098, 29.124821600840963, 16.232034263993388, 148.4362185875351, 0.10713621710712408, 0.10428959109170467, 0.10086264813325965, 0.10061292251479373, 0.10018219001964117, 0.10020696461285405, 28.60461986200499, 15.216275225341258, 23.389075301345326, 6.963956086176562, 9.289304847239572, 0.8687135425796716, 3268.982670658793, 2381.45221724388, 1761.5371897903294, 800.7521742207716, 800.6049788824919, 788.2495812400758, 745.3240604513704, 681.837060045176, 514.9974225792918, 509.51794240358464, 482.5833173901261, 466.90646159015046, 389.12314302055114, 380.96662029740696, 377.78093414322495, 344.94710133068673, 313.70355369836574, 295.63047173387565, 456.3337727336807, 280.1759785598557, 276.4511865725234, 272.85210940313334, 266.15387856811947, 262.20248017138186, 257.74069414730354, 244.7539610492329, 226.42612127622144, 330.7517038257547, 221.69497127113252, 208.98106112825405, 1394.386206513134, 767.5918316857026, 1061.131193658287, 1434.516818029141, 1219.1171361678835, 1428.143817968221, 817.4723322081234, 1067.7633551797326, 941.9020395074201, 1497.9756815697242, 2007.9585798641306, 904.6130770160773, 1621.0813284327419, 718.4801535758999, 638.325955274444, 1319.6808517589202, 2600.716299941158, 2023.7268514103325, 1198.6251267041246, 1053.0077782594517, 1326.2856902910328, 1658.6142794054276, 1444.9240865321055, 1036.3142456531948, 2956.1614169798077, 1023.1574705470404, 1319.4171558448459, 1367.748384738059, 1078.6043034708357, 984.0339727910482, 885.4332105145264, 1066.0623537586962, 8774.26093960573, 1935.7942106138191, 1163.362954454923, 1001.7842582841906, 799.8679769591844, 556.2876738809746, 505.3837084013696, 498.52584828618365, 440.6338125792899, 367.68209543793904, 337.5821320773517, 216.6669863694454, 213.71581225064665, 212.85967024115436, 208.19558075842548, 184.7972865998286, 153.85173234300558, 136.6178519694034, 130.35981738165003, 123.62969939377986, 123.05003864127478, 121.79925821165283, 121.0510474903516, 109.14711506871562, 107.40729101793966, 107.10963100777907, 98.58156697081255, 94.41836360988295, 92.69180736879598, 85.72794826358566, 3590.3146821537675, 214.88117936180205, 419.3843105086961, 5547.336776056712, 3231.289244239204, 639.3496341903312, 701.4898178508282, 442.9192430188414, 380.6501884627927, 455.7531082819387, 148.23823398382854, 271.6966762782124, 325.5481234652679, 235.4932526173732, 307.4543704074952, 222.17177860799816, 752.085092968911, 676.355547779748, 637.7666437745347, 343.08101521740446, 340.38183686928465, 295.4373992921343, 270.87737267780074, 197.5891227555987, 193.28558865922247, 153.92207527454954, 153.00237518206976, 127.14098655192034, 64.84850116447686, 62.308831309061105, 34.82891311995068, 34.39217323203057, 34.15710912040975, 30.224884005680604, 27.833840445994028, 27.833482362492052, 27.806114551983946, 25.303911642327062, 24.90849104904971, 21.62307885341045, 18.092410938786454, 14.079501937844388, 13.453464748090257, 217.52826672116817, 10.609084523665379, 1812.7588983320832, 916.6841322169056, 46.41243827584148, 92.74542923404691, 47.527589000663134, 41.19168706159805, 10190.275243403838, 1280.1744458447547, 1001.5257567824676, 828.7097353459621, 700.6586407740668, 345.6316827490018, 206.8557530652711, 144.25564863254564, 126.73331079122394, 92.3504350002905, 83.0342159473473, 54.0489778404315, 33.99873151031799, 2022.1114368759445, 11.799251588638368, 773.731979679599, 3658.965089699982, 4675.5231428745465, 1478.9420117315606, 22.161759182490798, 71.93387052801702, 1774.7923842173761, 436.64474322252045, 1272.8251791145701, 400.9474868228026, 544.2321871079391, 526.9393562976817, 173.9524287599424, 756.2176365912816, 184.86243963730936, 681.407707688577, 296.48609939925933, 548.3565793481234, 393.92456446975655, 438.5863878305323, 262.0302804902621, 202.65975016585702, 158.70933377905874, 166.6947595714982, 3344.8696105656277, 1306.1024601201516, 1233.0894860108936, 1118.9583143573768, 1073.2772805111015, 921.079564966039, 866.7362894685592, 682.4276300206825, 618.1327021220982, 606.310934073634, 603.0708345705312, 571.5885055271397, 513.450218665224, 423.0469528529737, 415.1164078095426, 412.3792423788501, 412.02965031677445, 389.9284835425034, 376.6819214365277, 369.11271995527653, 365.8990161293309, 356.46795518284466, 345.21709911508634, 344.46943251999204, 337.52194565835885, 323.1326857614767, 310.6341819672655, 294.5245627192241, 288.45837810130666, 284.7319472861971, 800.5642552866559, 577.656377539944, 580.8791812454574, 848.9443375184139, 419.2247021139372, 700.7262222855787, 499.8499062740588, 1459.2418625402347, 2638.119689854816, 2688.243031796911, 1606.3195398860296, 540.5958825855283, 582.7510445518069, 529.2919037108885, 627.1341101455421, 527.1446334533779, 1363.7004792977873, 1426.5845040146241, 1020.6471929365122, 645.087027515064, 1066.2635031360596, 2122.421198295288, 1104.9248537251897, 1322.3398995308653, 904.1771714417339, 962.1667264972019, 847.1390057818854, 884.2132409518075, 829.0122867390268, 740.1710664790953, 759.8992437976995, 779.1419335017404, 799.924551832263, 731.1098764653775, 2098.101430528786, 1427.5204173766606, 1292.4101058463, 980.9506078784075, 929.3453919558362, 880.2630953900663, 740.0816449039097, 722.7634558332311, 721.042606140758, 635.1540890868911, 623.580961176734, 610.7142284174445, 525.9827208982655, 522.9275866864208, 454.14861834980223, 441.2697986597388, 403.227548702432, 402.66409844563964, 393.64629499701107, 380.99933643060996, 379.12278627504975, 378.5294436088167, 365.89630486649037, 357.69898307351224, 346.81803773123926, 316.2490201011235, 304.64909732830114, 292.3624722626589, 285.0579370983119, 272.72601853401704, 1179.6585367756527, 660.9543143198879, 1248.154610280897, 742.0919744223005, 625.4767464479345, 706.7152609404602, 915.4432554492503, 1595.2533983880505, 2876.5145019595925, 741.0509387717761, 1044.9590942469388, 1356.5389416545797, 1627.718634512692, 1510.1035271036983, 617.8573878931438, 1037.7649877081926, 1473.6678858480018, 1127.1966650497743, 1106.4426684313728, 1051.7505630272176, 855.2630769610992, 754.1762192115622, 738.4634691395158, 737.9715873760513, 2612.4879842718674, 1394.9796420690834, 550.3306931581973, 465.51338548418494, 432.5784919490562, 431.2491699597481, 413.9825450240546, 343.83157169518506, 345.20421997826355, 323.1993712280904, 305.59230582584036, 300.75572035581996, 288.68992339657217, 286.00459809907085, 278.29794730551686, 238.01880822902982, 237.52439488935894, 189.86857039459574, 1228.8818782213775, 178.67950018498505, 147.7692333890642, 147.19236298270502, 139.91966066947776, 137.39003581250063, 130.1406145267487, 124.34414598692747, 121.95228777545819, 105.64962488817207, 94.27009037162745, 90.14658577171997, 829.1245894188603, 1414.9621675032618, 3335.5487645160483, 1728.3284169865249, 8059.740124781459, 1767.4802497738344, 823.6627890767104, 1472.290751612492, 657.2701322143168, 647.8647616445048, 1110.8432847260733, 1442.3401073801751, 2225.481952786432, 1266.4849331149208, 993.6651843310947, 771.7284930721221, 555.1799474558898, 766.6402860377744, 683.4828141624464, 729.3258720101979, 616.3985746247822, 535.9313365321358, 820.2747277472764, 505.8672212848685, 471.13143470095747, 3172.0716993907563, 966.2061562217946, 859.6746517333368, 812.9592292006419, 729.2813528108246, 612.6976045176954, 533.9490900491767, 491.5852915706913, 456.01680933976, 454.7584710081687, 443.3280236092142, 417.77411122752306, 389.9726017070209, 387.2871682996599, 371.1557308777787, 362.90640454697, 313.1414375882249, 311.2803865202138, 301.97488425348416, 301.00594398402495, 288.25121119385506, 285.39755017090323, 262.5579087045927, 238.36918335393187, 214.5224690846218, 214.18606676629875, 191.97495951147883, 171.13170256824637, 164.81879285393066, 158.74686593598932, 1324.7072830757809, 621.455035393476, 778.2448663356788, 560.5071473890164, 1162.1506560344376, 629.5045627696386, 468.723514891803, 811.258680470844, 805.4313520612916, 399.2795502585564, 887.0653105432524, 674.9119088835157, 527.736626578391, 408.9409444132493, 763.5339627950821, 840.6701166317222, 968.6487548827249, 554.4517998334838, 1209.281338682615, 485.09119059039057, 587.6016000156405, 549.0655530144847, 614.0324195678022, 605.9896650375598, 572.5972064851683, 497.96668816185115, 1724.105270482012, 995.8568574387465, 839.625644797048, 683.8938426606674, 635.3386141012031, 617.606166767115, 600.2255423236398, 585.8784992604396, 514.4267753301008, 493.7866537406004, 461.8499424447058, 443.0362966745695, 439.2076655802121, 435.79577230617065, 419.2757030256594, 401.9243514614655, 354.2888143427064, 345.3032847116175, 343.4961905752934, 310.77697809786133, 293.3072063483904, 266.1741787605507, 265.519335171441, 245.33203634206217, 239.64113974812426, 224.4889237849231, 221.73718877259856, 621.5136743517548, 193.40226484660192, 189.80079382626388, 674.2251877898086, 911.7963680072558, 1255.8439769555237, 491.766318910895, 1025.7844537693288, 944.1205442441849, 2780.8413651974724, 390.6380958406965, 928.8639751061394, 1804.428364032237, 499.5777487851618, 788.3925383025237, 1717.4578804485607, 610.593962421122, 689.8438295442095, 1408.6626636240608, 713.2585054942926, 794.3719667851125, 1011.3086353452557, 997.8555117786095, 1071.3205686683934, 894.5144024465455, 1059.752719759322, 953.2534295003014, 1027.6863473237865, 757.4786905838214, 765.3099872104534, 750.5532503771391, 716.3606714591662, 719.4215010815387, 1547.2468359519285, 620.0877275103588, 438.91276232526616, 353.4863183773836, 348.57877253110814, 175.1485585177739, 134.78197983016932, 126.74213841051635, 115.66651245695648, 101.78603263153963, 98.84812220659911, 82.49874224622825, 56.949043531745886, 47.453396230876955, 35.3790335300682, 24.42578595754574, 22.36082384208875, 19.284900247716585, 130.13848818788554, 11.265752701317025, 10.991693519566892, 9.816447613080715, 4.020821777401789, 2.8659703812225126, 493.09345937094986, 841.7909237996865, 1487.130705212823, 142.2448711069009, 288.18539536296146, 16.249603034984304, 517.5173008097744, 218.99547303398484, 58.697833098908426, 270.17141205771, 243.40286231931543, 65.47682093707613, 121.7994959077144, 99.72376567622193, 66.74700630203219, 42.60718851190953, 1450.8571494496598, 956.1224707550925, 812.7001012459777, 736.0328655690068, 311.3129960804239, 282.0886503203439, 246.31392489098462, 215.41270996619045, 165.37574990770915, 123.21176858566447, 114.47918412907207, 112.11885067021024, 111.40612680027412, 101.84789411750027, 79.67469647095083, 64.3521661120461, 61.12888435116524, 60.53808845433161, 47.335221302141136, 32.660779216165245, 29.911189679045, 23.60557459784611, 23.51302822438109, 162.76864064625596, 22.699693511960504, 21.195978367951664, 11.596778356878804, 11.266576374035306, 3.3302898670731067, 210.6978304653043, 109.45455580352969, 61.45825722553484, 149.74445998892386, 109.5985352293414, 138.41900819725254, 164.41352213055796, 117.3214943594416, 144.5525718303815, 118.38974342938131, 86.83267646426671, 91.76788745647158, 82.76627527682669, 62.08841452965497, 3834.4306536880945, 939.4904379697833, 6037.311112817558, 384.2231181537375, 309.38422163124187, 256.7759365732187, 235.1490488454199, 205.21253226037172, 146.40285250569738, 141.34277782241875, 114.44872990937822, 113.24175238654593, 110.9237033959932, 109.18472381509329, 5058.67054343972, 92.27411485627714, 87.38542751083688, 85.96260713894353, 83.84954694805596, 71.21138464678796, 66.5882328986214, 64.31082559011143, 55.90769013662996, 52.33361705699051, 48.68568040889752, 47.87248074889085, 46.64919052068004, 44.35540724422223, 41.86360760699095, 39.276539059096145, 307.47810234215893, 3028.702375419967, 198.03026046369155, 1212.298664064191, 513.1041549057437, 300.38888074746063, 1610.1246444764956, 523.114715427193, 365.66806196762775, 150.39496464350242, 532.3162019119072, 259.449810403751, 662.0236285696265, 331.99748126509195, 584.4785762312179, 370.05024207044244, 1110.6274729338356, 215.6911092697612, 276.6201573972368, 256.87390318058885, 348.45283469995377, 305.10293628900666, 226.92167940332578, 2708.7857058910827, 1056.6997298755527, 1331.4818994262437, 1012.8321400837741, 970.5018221920332, 933.6556434373128, 834.4463369753996, 829.4090833750892, 757.159456010087, 723.4739702576235, 683.1091596839235, 682.8494209153155, 679.2143693168687, 594.7998433690934, 585.015847632947, 583.448376886849, 551.803859701964, 497.4588125486544, 465.7483385016498, 457.1457919199793, 433.4333854148609, 432.73067046134867, 420.99031313845035, 421.5363670948237, 418.6227881654347, 413.2713159305241, 407.60978547210954, 395.1633776936995, 393.2102440121084, 380.9674453181207, 2148.475455315628, 474.36117851422216, 1042.602320338605, 1210.1317458851804, 2561.3837753780103, 847.93044453179, 449.750230809168, 1720.51448098237, 867.5715301231692, 552.0275176639965, 1872.433039858924, 4639.829613035802, 919.5299000661756, 849.8469594226121, 4538.575536251343, 1582.7814893192672, 862.1401134371088, 906.6562252413107, 1153.8245269158292, 806.984252373012, 1147.4378654958412, 871.4321046955192, 765.7408777457606, 765.3087688415644, 774.1770437491969], \"Total\": [10198.0, 8775.0, 10349.0, 6053.0, 7527.0, 7292.0, 5116.0, 5064.0, 3835.0, 5207.0, 4148.0, 3782.0, 2211.0, 2013.0, 3802.0, 2260.0, 9283.0, 3647.0, 3173.0, 2592.0, 12577.0, 2613.0, 1548.0, 3757.0, 4100.0, 4485.0, 2278.0, 1451.0, 3345.0, 3270.0, 966.572973750925, 879.17198914733, 833.0491869238434, 754.621891079106, 590.9814384644291, 571.4527793100073, 516.5465019040087, 507.2304232100912, 471.3798840615924, 417.1554084708828, 406.49226640487177, 368.87270067705595, 348.5557457415267, 338.5220586610617, 330.6886797703579, 324.4902576298352, 306.71248166135507, 305.01144269349345, 285.50709980588164, 273.54983529537276, 271.9962875279054, 268.3650856638562, 261.61695652803934, 243.24600091903335, 242.53376583078958, 206.69416421703284, 204.38856370070886, 202.46168455172307, 196.65761088947443, 190.8925251248728, 467.4253630829172, 1147.3404770065852, 1024.3082239014682, 2290.6630902762963, 324.5258053082349, 390.845458324913, 344.18869643494827, 1308.8928744522775, 2652.21325944319, 589.5354405239253, 350.38034940764055, 2540.159589589985, 1171.1530563810545, 1298.350880358737, 391.25145380861085, 1079.547873002846, 426.05825936098336, 755.7431584962029, 928.9319202785852, 4485.4593135117, 1505.4406976247167, 1411.044574669629, 1501.1514830294602, 731.661201285466, 2211.753938586665, 1633.7277534927434, 3199.6677888238833, 2264.8251781287404, 1054.3944847380642, 2531.3579251981128, 4043.6679382292627, 2129.184722718185, 1337.5934011433285, 7527.344141570207, 463.5751458489014, 411.22689870757574, 401.948536181998, 214.88650665354393, 164.49848522582644, 158.36574820115845, 125.79471194138296, 356.40494638277374, 100.6999103896287, 88.4765274627484, 74.47828889429454, 73.28856021338875, 43.08951755045411, 19.162709302131983, 12.261342194935517, 10.319382130699088, 7.149463357782303, 2.2491387242089913, 151.25065877758948, 56.965333949838424, 2211.753938586665, 96.97083924247588, 75.6534347344185, 1161.0468748245494, 1.2084194633131549, 1.217598180606807, 1.2022129500133343, 1.2014667310198663, 1.2025664975488324, 1.2032943478891156, 735.7929763011792, 456.4789430547249, 974.3650805141949, 344.18869643494827, 606.3453230110267, 1079.547873002846, 3270.117151652604, 2382.586698991331, 1762.6716704112532, 801.8866571757455, 801.7394606239012, 789.3840633850491, 746.4585415727678, 682.9715406210379, 516.1319028304373, 510.6524244058807, 483.7178006441017, 468.0409442793457, 390.25762728514684, 382.1011023717248, 378.91541936702066, 346.08158454746643, 314.8380342502138, 296.76495384357196, 458.13452922336234, 281.3104604670783, 277.58566885358766, 273.98659288472703, 267.28836081764223, 263.3369632186114, 258.87517629257184, 245.88844144193624, 227.56060522787436, 332.4343210712249, 222.82945818958095, 210.11554489281292, 1433.1513921338324, 785.0337492556031, 1093.6914548219736, 1498.1555261311428, 1269.2853756387988, 1508.0578914123164, 855.1450079304068, 1144.1296608380899, 1027.1889429734977, 1715.4022670249578, 2365.308415610283, 1008.6048569494607, 1957.5074081297607, 800.5075277892352, 710.3606214754541, 1760.3711486590423, 4485.4593135117, 3331.3966461701025, 1691.251004557907, 1420.4918856232716, 1983.2698198435232, 3016.540787895251, 2726.6874733743707, 1584.4207501845997, 12577.120771380232, 1556.531572835693, 3187.0974812680697, 3757.611146564861, 2109.1474751105, 2594.5395891226217, 1416.823842518397, 9283.863749808936, 8775.386367089704, 1936.9196378105526, 1164.4883817331777, 1002.9096860310519, 800.9934051728504, 557.4131016646398, 506.50913648245836, 499.6512779698172, 441.759243521344, 368.80752230043396, 338.7075599023671, 217.79241286239548, 214.84123886741, 213.98510107866775, 209.3210095626861, 185.9227160095692, 154.977160057729, 137.74328179596284, 131.4852447680605, 124.75513025457265, 124.17546962799182, 122.92468450511993, 122.17647608281383, 110.27254415460285, 108.53271664487947, 108.23505868346435, 99.70699620781416, 95.54379244837571, 93.81723667853338, 86.85338092195987, 4148.633002137629, 227.33008439142768, 466.43992391903186, 7527.344141570207, 5207.737016015214, 1505.4406976247167, 2798.279359918948, 1449.1652874998156, 1293.3053109319674, 2129.184722718185, 209.7703909936715, 1297.389247115512, 2565.461835419879, 960.0474074217311, 2910.339143081036, 2467.5499800824487, 753.1966751654383, 677.4671304432146, 638.8782241886921, 344.1925955326123, 341.4934180367257, 296.5489811145863, 271.9889601668195, 198.70070328157442, 194.39716880720374, 155.0336582692079, 154.11395980204793, 128.25256700504826, 65.96008657431625, 63.4204162315012, 35.94050158907898, 35.50375681143993, 35.26869463931002, 31.336469237492544, 28.945420562787646, 28.945069704144604, 28.917703356751417, 26.4154975028368, 26.020072256855816, 22.734662674587486, 19.2039960265686, 15.191086685580466, 14.5650445020264, 237.13705103029733, 11.720694378011723, 2013.2075826193168, 1333.9336883496885, 122.43428677665352, 3757.611146564861, 608.2098284648608, 1399.9110165838729, 10198.176463004864, 1281.301501422582, 1002.6528138546535, 829.8367902360344, 701.7856965547348, 346.7587373846677, 207.98281113160945, 145.3827093862058, 127.86036629766411, 93.47749156284021, 84.16127434891555, 55.17604199377787, 35.125790656560795, 2278.996633672675, 14.541347086472648, 966.3094690655981, 5064.527427265766, 7292.195189127441, 2594.5395891226217, 42.433178256239096, 149.92565908909054, 4100.713536921784, 1115.6192622337926, 3283.735347903632, 1040.458087962498, 1468.859977503574, 1441.4613279666669, 515.7477592586221, 2531.3579251981128, 674.4412321540933, 2550.5943106958516, 1738.932528407925, 5207.737016015214, 3016.540787895251, 12577.120771380232, 3373.0640536015826, 1862.4299895710776, 936.7848936627372, 2695.1437659737517, 3345.9963700571643, 1307.229219208153, 1234.216262910545, 1120.085076694375, 1074.4040397803958, 922.2063306426911, 867.863048841682, 683.5543892329006, 619.2594603020419, 607.4376932432209, 604.1975943191522, 572.7152651844619, 514.5769795748568, 424.1737130386061, 416.24316617928804, 413.5060021134575, 413.1564159675505, 391.0552443816868, 377.8086812363954, 370.2394828314314, 367.0257760990527, 357.59471356495476, 346.3438621019183, 345.5962002107249, 338.648704885745, 324.2594468447961, 311.760944426447, 295.65132071205875, 289.58513810299604, 285.8587085030223, 803.986978349163, 583.580086127653, 588.8335388907653, 875.1592505051278, 428.28250845410173, 749.7729980501315, 522.172590551363, 1827.5345357001706, 3647.8571304868747, 3795.733611658184, 2112.7295373905768, 585.5810503301836, 643.2151575638206, 574.8823092906247, 721.0483657118896, 572.0633461659163, 2140.7017385863564, 2695.1437659737517, 1886.5528595079356, 827.1257920499867, 2129.184722718185, 12577.120771380232, 2882.9917808842056, 5207.737016015214, 2854.452228030214, 4100.713536921784, 2619.9514187241293, 3845.7957953082578, 3016.540787895251, 1767.1160852361895, 2144.9538702013583, 3757.611146564861, 9283.863749808936, 3199.6677888238833, 2099.21931433536, 1428.6382997311373, 1293.527988418061, 982.0684918138829, 930.4632748702053, 881.3809783397226, 741.1995274786352, 723.8813390893008, 722.16049040654, 636.271972921966, 624.6988447545065, 611.8321105213004, 527.1006033250055, 524.045469472715, 455.26650291274956, 442.3876826414805, 404.34543039303065, 403.7819807168693, 394.76417955387444, 382.11722421495875, 380.2406681958093, 379.64732606117934, 367.0141893554757, 358.81686515338987, 347.9359240745707, 317.3669191755905, 305.76698098550753, 293.48036261727265, 286.1758192155858, 273.84390394889914, 1223.2654723222543, 678.2498107233845, 1344.6813948846857, 786.4470790561784, 658.6490307303611, 764.9257650642924, 1028.0002848380605, 1934.8556632556492, 3832.062401711703, 831.1074393809043, 1545.7062330400279, 2264.8251781287404, 3187.0974812680697, 2882.9917808842056, 901.6839961280418, 2831.005108344028, 7292.195189127441, 3845.7957953082578, 3795.733611658184, 3510.1313587725085, 2565.461835419879, 2109.1474751105, 1886.5528595079356, 10349.125405121591, 2613.6062720322057, 1396.0979366203753, 551.4489818565226, 466.6316730802172, 433.6967791407936, 432.36746271883027, 415.1008329958424, 344.94986713318343, 346.32901820374343, 324.3176609417008, 306.7105948627658, 301.87400813912694, 289.80821915964646, 287.1228895290817, 279.4162346509374, 239.13709694346184, 238.69778136706088, 190.98686602300967, 1236.3316724540095, 179.79779337190337, 148.88752354940368, 148.31065814387415, 141.03795703393718, 138.5083228533639, 131.25890223423616, 125.46243539081017, 123.07057882999915, 106.7679146374384, 95.38838065605557, 91.26487566076104, 840.2081681188816, 1477.0473439900884, 3802.9769121434483, 1990.7377552745354, 10349.125405121591, 2068.5045123575246, 1009.1335531032151, 2115.4025449249743, 1008.1663274673336, 1091.847836905985, 2467.5499800824487, 4509.471600122349, 9283.863749808936, 3845.7957953082578, 2910.339143081036, 2458.5217603222272, 1322.445409882855, 3510.1313587725085, 2831.005108344028, 4043.6679382292627, 2531.3579251981128, 1983.2698198435232, 12577.120771380232, 2565.461835419879, 3199.6677888238833, 3173.1767514767457, 967.3112080680107, 860.7797054981486, 814.0642826612144, 730.3864108684706, 613.8026573638448, 535.054143623189, 492.69034510403685, 457.1218716941978, 455.8635228555071, 444.433078814512, 418.8791692379245, 391.07765598260346, 388.39222178583304, 372.26078237718946, 364.011457221377, 314.24649395737254, 312.3854407903748, 303.0799378753573, 302.1110027753057, 289.35626454470076, 286.502604198443, 263.66296374119526, 239.4742365857693, 215.62752166222757, 215.291119803068, 193.080015307658, 172.23675597777142, 165.92384799864237, 159.8519183120527, 1343.8006671048518, 627.8171999837215, 810.845065676375, 582.9081959169035, 1318.7911946358483, 684.5071945074872, 504.3538428018868, 956.1998523188498, 1007.7939045935132, 430.07145342322957, 1235.7213532394048, 936.2147695923138, 680.2931028264018, 477.0894587739589, 1337.5934011433285, 1584.4291590909147, 2389.4533337767307, 823.1888988621104, 5064.527427265766, 869.6581794956024, 1862.4299895710776, 1539.8805269288089, 3373.0640536015826, 4100.713536921784, 3331.3966461701025, 2726.6874733743707, 1725.2233331983539, 996.9749209650431, 840.7437085462707, 685.0119061599279, 636.4566759952772, 618.724228422455, 601.3436060207646, 586.9965630471778, 515.5448445661914, 494.9047194686264, 462.96800540706704, 444.1543612927042, 440.3257316979826, 436.91383442187487, 420.39376617400063, 403.0424146601683, 355.40687823894825, 346.4213481143979, 344.6142537595069, 311.89504148487237, 294.42527053043904, 267.2922422588301, 266.6373978407558, 246.45009821464143, 240.75936466165504, 225.60704377444105, 222.85525336556998, 625.0629534847467, 194.5203329251689, 190.91885778987546, 695.7682214156551, 983.4740275592807, 1390.0079444578155, 517.1084015258969, 1154.2037744902761, 1059.585564529555, 3698.1194479201868, 418.81405928275547, 1171.8943207834197, 2616.0279264570413, 563.2311602330556, 1006.5360383785292, 2854.452228030214, 743.2863997397352, 880.3431346273584, 2592.849713079731, 1009.0537149436215, 1293.3053109319674, 2458.5217603222272, 2776.1451813055687, 3757.611146564861, 2467.5499800824487, 4043.6679382292627, 3199.6677888238833, 4509.471600122349, 2565.461835419879, 2910.339143081036, 2831.005108344028, 2389.4533337767307, 3510.1313587725085, 1548.3520148875627, 621.1929078952401, 440.0179423314475, 354.5914970887518, 349.6839545104157, 176.2537383495888, 135.88715962661482, 127.84731906810876, 116.77169357868476, 102.89121638690217, 99.95330376375436, 83.60392085794211, 58.054223824635436, 48.55858709968815, 36.4842221168926, 25.530970691573327, 23.466006554247496, 20.39007897633856, 140.41853841551267, 12.37093293900563, 12.096888160284049, 10.92163078432187, 5.126004475082953, 3.971148722470285, 703.6212223947189, 1205.5447771224333, 2260.2732901384306, 239.12033202773594, 784.2174722571915, 47.33398755224623, 2592.849713079731, 1171.1530563810545, 245.3024776688236, 3647.8571304868747, 3757.611146564861, 348.01949874978277, 2531.3579251981128, 2854.452228030214, 5064.527427265766, 732.5945856249425, 1451.9687828105514, 957.2341046152291, 813.8117357583438, 737.1445006785983, 312.4246293904278, 283.20028802354136, 247.42556006032126, 216.52434397636335, 166.48738493486786, 124.32340186743309, 115.59081694214525, 113.23050445869418, 112.5177621418152, 102.95952716013413, 80.78633234491232, 65.46380343803978, 62.24052167355389, 61.64972122006489, 48.44687086186507, 33.77241732045214, 31.02282814859938, 24.71721711826851, 24.624670099502605, 170.58288212899637, 23.811351372906266, 22.307615835424315, 12.708411805273006, 12.378211362876286, 4.441923030975047, 370.61141479123097, 220.1797678664143, 136.53170448206524, 489.61758618912586, 322.4425840642845, 781.0265688976061, 1449.1652874998156, 1293.3053109319674, 2260.2732901384306, 3199.6677888238833, 1983.2698198435232, 3283.735347903632, 3845.7957953082578, 2910.339143081036, 3835.76099422961, 940.6105887464033, 6053.513937763905, 385.3432704955591, 310.5043742049621, 257.89608748201726, 236.26921899182875, 206.33268427737062, 147.52300766918916, 142.46292910693052, 115.56888153081391, 114.3619026356748, 112.04385349752654, 110.30487873028737, 5116.20546268492, 93.39426669981927, 88.50558123264865, 87.08276066320329, 84.9696975004988, 72.33153919603986, 67.70838797345654, 65.43098244381468, 57.02784176346983, 53.453768415049204, 49.80583561904659, 48.992637857257066, 47.76934383160363, 45.47555764843975, 42.98376408786352, 40.396695094728194, 338.11633342843027, 3782.973757855734, 223.32360227881125, 1694.3789348423, 742.4918559714098, 439.70132517109704, 3373.0640536015826, 983.620395861222, 777.3498106495589, 227.75720484770815, 1556.531572835693, 534.9655006256019, 2726.6874733743707, 923.2150344568184, 2616.0279264570413, 1345.9490456884378, 12577.120771380232, 464.6577901695028, 961.6433518716525, 898.1109909575542, 2798.279359918948, 2365.308415610283, 4100.713536921784, 2709.9322445660296, 1057.8116224713353, 1332.9425145431624, 1013.944027975736, 971.6137206724043, 934.7675317158624, 835.5582307425966, 830.5209701310228, 758.2713438963452, 724.5858579209246, 684.2210472645346, 683.9613105509467, 680.3262609847694, 595.9117300292282, 586.1277359339126, 584.5602648103089, 552.9157474833047, 498.5707062412179, 466.8602281177805, 458.25768277508746, 434.5452740368637, 433.8425619460653, 422.1022006215905, 422.65313348896854, 419.73467655498445, 414.38320389394033, 408.7216827677293, 396.2752666164359, 394.32213650075494, 382.0793339525439, 2205.6907538091164, 477.61852841072346, 1089.0987473402965, 1278.4304139161325, 2885.5285486630214, 906.8748770095107, 453.7772491760497, 2165.0715050316576, 998.3469835548376, 588.9258977593727, 2782.1439074816053, 9283.863749808936, 1163.3872652981875, 1048.3592200775818, 12577.120771380232, 2798.279359918948, 1135.2258179117882, 1297.389247115512, 2619.9514187241293, 1186.5789282440437, 3283.735347903632, 1501.5248215108882, 1345.9490456884378, 1738.932528407925, 4043.6679382292627], \"Category\": [\"Default\", \"Default\", \"Default\", \"Default\", \"Default\", \"Default\", \"Default\", \"Default\", \"Default\", \"Default\", \"Default\", \"Default\", \"Default\", \"Default\", \"Default\", \"Default\", \"Default\", \"Default\", \"Default\", \"Default\", \"Default\", \"Default\", \"Default\", \"Default\", \"Default\", \"Default\", \"Default\", \"Default\", \"Default\", \"Default\", \"Topic1\", \"Topic1\", \"Topic1\", \"Topic1\", \"Topic1\", \"Topic1\", \"Topic1\", \"Topic1\", \"Topic1\", \"Topic1\", \"Topic1\", \"Topic1\", \"Topic1\", \"Topic1\", \"Topic1\", \"Topic1\", \"Topic1\", \"Topic1\", \"Topic1\", \"Topic1\", \"Topic1\", \"Topic1\", \"Topic1\", \"Topic1\", \"Topic1\", \"Topic1\", \"Topic1\", \"Topic1\", \"Topic1\", \"Topic1\", \"Topic1\", \"Topic1\", \"Topic1\", \"Topic1\", \"Topic1\", \"Topic1\", \"Topic1\", \"Topic1\", \"Topic1\", \"Topic1\", \"Topic1\", \"Topic1\", \"Topic1\", \"Topic1\", \"Topic1\", \"Topic1\", \"Topic1\", \"Topic1\", \"Topic1\", \"Topic1\", \"Topic1\", \"Topic1\", \"Topic1\", \"Topic1\", \"Topic1\", \"Topic1\", \"Topic1\", \"Topic1\", \"Topic1\", \"Topic1\", \"Topic1\", \"Topic1\", \"Topic1\", \"Topic1\", \"Topic2\", \"Topic2\", \"Topic2\", \"Topic2\", \"Topic2\", \"Topic2\", \"Topic2\", \"Topic2\", \"Topic2\", \"Topic2\", \"Topic2\", \"Topic2\", \"Topic2\", \"Topic2\", \"Topic2\", \"Topic2\", \"Topic2\", \"Topic2\", \"Topic2\", \"Topic2\", \"Topic2\", \"Topic2\", \"Topic2\", \"Topic2\", \"Topic2\", \"Topic2\", \"Topic2\", \"Topic2\", \"Topic2\", \"Topic2\", \"Topic2\", \"Topic2\", \"Topic2\", \"Topic2\", \"Topic2\", \"Topic2\", \"Topic3\", \"Topic3\", \"Topic3\", \"Topic3\", \"Topic3\", \"Topic3\", \"Topic3\", \"Topic3\", \"Topic3\", \"Topic3\", \"Topic3\", \"Topic3\", \"Topic3\", \"Topic3\", \"Topic3\", \"Topic3\", \"Topic3\", \"Topic3\", \"Topic3\", \"Topic3\", \"Topic3\", \"Topic3\", \"Topic3\", \"Topic3\", \"Topic3\", \"Topic3\", \"Topic3\", \"Topic3\", \"Topic3\", \"Topic3\", \"Topic3\", \"Topic3\", \"Topic3\", \"Topic3\", \"Topic3\", \"Topic3\", \"Topic3\", \"Topic3\", \"Topic3\", \"Topic3\", \"Topic3\", \"Topic3\", \"Topic3\", \"Topic3\", \"Topic3\", \"Topic3\", \"Topic3\", \"Topic3\", \"Topic3\", \"Topic3\", \"Topic3\", \"Topic3\", \"Topic3\", \"Topic3\", \"Topic3\", \"Topic3\", \"Topic3\", \"Topic3\", \"Topic3\", \"Topic3\", \"Topic3\", \"Topic3\", \"Topic4\", \"Topic4\", \"Topic4\", \"Topic4\", \"Topic4\", \"Topic4\", \"Topic4\", \"Topic4\", \"Topic4\", \"Topic4\", \"Topic4\", \"Topic4\", \"Topic4\", \"Topic4\", \"Topic4\", \"Topic4\", \"Topic4\", \"Topic4\", \"Topic4\", \"Topic4\", \"Topic4\", \"Topic4\", \"Topic4\", \"Topic4\", \"Topic4\", \"Topic4\", \"Topic4\", \"Topic4\", \"Topic4\", \"Topic4\", \"Topic4\", \"Topic4\", \"Topic4\", \"Topic4\", \"Topic4\", \"Topic4\", \"Topic4\", \"Topic4\", \"Topic4\", \"Topic4\", \"Topic4\", \"Topic4\", \"Topic4\", \"Topic4\", \"Topic4\", \"Topic4\", \"Topic5\", \"Topic5\", \"Topic5\", \"Topic5\", \"Topic5\", \"Topic5\", \"Topic5\", \"Topic5\", \"Topic5\", \"Topic5\", \"Topic5\", \"Topic5\", \"Topic5\", \"Topic5\", \"Topic5\", \"Topic5\", \"Topic5\", \"Topic5\", \"Topic5\", \"Topic5\", \"Topic5\", \"Topic5\", \"Topic5\", \"Topic5\", \"Topic5\", \"Topic5\", \"Topic5\", \"Topic5\", \"Topic5\", \"Topic5\", \"Topic5\", \"Topic5\", \"Topic5\", \"Topic5\", \"Topic5\", \"Topic6\", \"Topic6\", \"Topic6\", \"Topic6\", \"Topic6\", \"Topic6\", \"Topic6\", \"Topic6\", \"Topic6\", \"Topic6\", \"Topic6\", \"Topic6\", \"Topic6\", \"Topic6\", \"Topic6\", \"Topic6\", \"Topic6\", \"Topic6\", \"Topic6\", \"Topic6\", \"Topic6\", \"Topic6\", \"Topic6\", \"Topic6\", \"Topic6\", \"Topic6\", \"Topic6\", \"Topic6\", \"Topic6\", \"Topic6\", \"Topic6\", \"Topic6\", \"Topic6\", \"Topic6\", \"Topic6\", \"Topic6\", \"Topic6\", \"Topic6\", \"Topic6\", \"Topic7\", \"Topic7\", \"Topic7\", \"Topic7\", \"Topic7\", \"Topic7\", \"Topic7\", \"Topic7\", \"Topic7\", \"Topic7\", \"Topic7\", \"Topic7\", \"Topic7\", \"Topic7\", \"Topic7\", \"Topic7\", \"Topic7\", \"Topic7\", \"Topic7\", \"Topic7\", \"Topic7\", \"Topic7\", \"Topic7\", \"Topic7\", \"Topic7\", \"Topic7\", \"Topic7\", \"Topic7\", \"Topic7\", \"Topic7\", \"Topic7\", \"Topic7\", \"Topic7\", \"Topic7\", \"Topic7\", \"Topic7\", \"Topic7\", \"Topic7\", \"Topic7\", \"Topic7\", \"Topic7\", \"Topic7\", \"Topic7\", \"Topic7\", \"Topic7\", \"Topic7\", \"Topic7\", \"Topic7\", \"Topic7\", \"Topic7\", \"Topic7\", \"Topic7\", \"Topic7\", \"Topic7\", \"Topic7\", \"Topic7\", \"Topic7\", \"Topic7\", \"Topic7\", \"Topic7\", \"Topic7\", \"Topic7\", \"Topic7\", \"Topic7\", \"Topic8\", \"Topic8\", \"Topic8\", \"Topic8\", \"Topic8\", \"Topic8\", \"Topic8\", \"Topic8\", \"Topic8\", \"Topic8\", \"Topic8\", \"Topic8\", \"Topic8\", \"Topic8\", \"Topic8\", \"Topic8\", \"Topic8\", \"Topic8\", \"Topic8\", \"Topic8\", \"Topic8\", \"Topic8\", \"Topic8\", \"Topic8\", \"Topic8\", \"Topic8\", \"Topic8\", \"Topic8\", \"Topic8\", \"Topic8\", \"Topic8\", \"Topic8\", \"Topic8\", \"Topic8\", \"Topic8\", \"Topic8\", \"Topic8\", \"Topic8\", \"Topic8\", \"Topic8\", \"Topic8\", \"Topic8\", \"Topic8\", \"Topic8\", \"Topic8\", \"Topic8\", \"Topic8\", \"Topic8\", \"Topic8\", \"Topic8\", \"Topic8\", \"Topic8\", \"Topic8\", \"Topic8\", \"Topic9\", \"Topic9\", \"Topic9\", \"Topic9\", \"Topic9\", \"Topic9\", \"Topic9\", \"Topic9\", \"Topic9\", \"Topic9\", \"Topic9\", \"Topic9\", \"Topic9\", \"Topic9\", \"Topic9\", \"Topic9\", \"Topic9\", \"Topic9\", \"Topic9\", \"Topic9\", \"Topic9\", \"Topic9\", \"Topic9\", \"Topic9\", \"Topic9\", \"Topic9\", \"Topic9\", \"Topic9\", \"Topic9\", \"Topic9\", \"Topic9\", \"Topic9\", \"Topic9\", \"Topic9\", \"Topic9\", \"Topic9\", \"Topic9\", \"Topic9\", \"Topic9\", \"Topic9\", \"Topic9\", \"Topic9\", \"Topic9\", \"Topic9\", \"Topic9\", \"Topic9\", \"Topic9\", \"Topic9\", \"Topic9\", \"Topic9\", \"Topic9\", \"Topic9\", \"Topic9\", \"Topic9\", \"Topic9\", \"Topic10\", \"Topic10\", \"Topic10\", \"Topic10\", \"Topic10\", \"Topic10\", \"Topic10\", \"Topic10\", \"Topic10\", \"Topic10\", \"Topic10\", \"Topic10\", \"Topic10\", \"Topic10\", \"Topic10\", \"Topic10\", \"Topic10\", \"Topic10\", \"Topic10\", \"Topic10\", \"Topic10\", \"Topic10\", \"Topic10\", \"Topic10\", \"Topic10\", \"Topic10\", \"Topic10\", \"Topic10\", \"Topic10\", \"Topic10\", \"Topic10\", \"Topic10\", \"Topic10\", \"Topic10\", \"Topic10\", \"Topic10\", \"Topic10\", \"Topic10\", \"Topic10\", \"Topic10\", \"Topic10\", \"Topic10\", \"Topic10\", \"Topic10\", \"Topic10\", \"Topic10\", \"Topic10\", \"Topic10\", \"Topic10\", \"Topic10\", \"Topic10\", \"Topic10\", \"Topic10\", \"Topic10\", \"Topic10\", \"Topic10\", \"Topic11\", \"Topic11\", \"Topic11\", \"Topic11\", \"Topic11\", \"Topic11\", \"Topic11\", \"Topic11\", \"Topic11\", \"Topic11\", \"Topic11\", \"Topic11\", \"Topic11\", \"Topic11\", \"Topic11\", \"Topic11\", \"Topic11\", \"Topic11\", \"Topic11\", \"Topic11\", \"Topic11\", \"Topic11\", \"Topic11\", \"Topic11\", \"Topic11\", \"Topic11\", \"Topic11\", \"Topic11\", \"Topic11\", \"Topic11\", \"Topic11\", \"Topic11\", \"Topic11\", \"Topic11\", \"Topic11\", \"Topic11\", \"Topic11\", \"Topic11\", \"Topic11\", \"Topic11\", \"Topic11\", \"Topic11\", \"Topic11\", \"Topic11\", \"Topic11\", \"Topic11\", \"Topic11\", \"Topic11\", \"Topic11\", \"Topic11\", \"Topic11\", \"Topic11\", \"Topic11\", \"Topic11\", \"Topic11\", \"Topic11\", \"Topic11\", \"Topic11\", \"Topic11\", \"Topic11\", \"Topic12\", \"Topic12\", \"Topic12\", \"Topic12\", \"Topic12\", \"Topic12\", \"Topic12\", \"Topic12\", \"Topic12\", \"Topic12\", \"Topic12\", \"Topic12\", \"Topic12\", \"Topic12\", \"Topic12\", \"Topic12\", \"Topic12\", \"Topic12\", \"Topic12\", \"Topic12\", \"Topic12\", \"Topic12\", \"Topic12\", \"Topic12\", \"Topic12\", \"Topic12\", \"Topic12\", \"Topic12\", \"Topic12\", \"Topic12\", \"Topic12\", \"Topic12\", \"Topic12\", \"Topic12\", \"Topic12\", \"Topic12\", \"Topic12\", \"Topic12\", \"Topic12\", \"Topic12\", \"Topic13\", \"Topic13\", \"Topic13\", \"Topic13\", \"Topic13\", \"Topic13\", \"Topic13\", \"Topic13\", \"Topic13\", \"Topic13\", \"Topic13\", \"Topic13\", \"Topic13\", \"Topic13\", \"Topic13\", \"Topic13\", \"Topic13\", \"Topic13\", \"Topic13\", \"Topic13\", \"Topic13\", \"Topic13\", \"Topic13\", \"Topic13\", \"Topic13\", \"Topic13\", \"Topic13\", \"Topic13\", \"Topic13\", \"Topic13\", \"Topic13\", \"Topic13\", \"Topic13\", \"Topic13\", \"Topic13\", \"Topic13\", \"Topic13\", \"Topic13\", \"Topic13\", \"Topic13\", \"Topic13\", \"Topic13\", \"Topic13\", \"Topic14\", \"Topic14\", \"Topic14\", \"Topic14\", \"Topic14\", \"Topic14\", \"Topic14\", \"Topic14\", \"Topic14\", \"Topic14\", \"Topic14\", \"Topic14\", \"Topic14\", \"Topic14\", \"Topic14\", \"Topic14\", \"Topic14\", \"Topic14\", \"Topic14\", \"Topic14\", \"Topic14\", \"Topic14\", \"Topic14\", \"Topic14\", \"Topic14\", \"Topic14\", \"Topic14\", \"Topic14\", \"Topic14\", \"Topic14\", \"Topic14\", \"Topic14\", \"Topic14\", \"Topic14\", \"Topic14\", \"Topic14\", \"Topic14\", \"Topic14\", \"Topic14\", \"Topic14\", \"Topic14\", \"Topic14\", \"Topic14\", \"Topic14\", \"Topic14\", \"Topic14\", \"Topic14\", \"Topic14\", \"Topic14\", \"Topic14\", \"Topic14\", \"Topic14\", \"Topic14\", \"Topic15\", \"Topic15\", \"Topic15\", \"Topic15\", \"Topic15\", \"Topic15\", \"Topic15\", \"Topic15\", \"Topic15\", \"Topic15\", \"Topic15\", \"Topic15\", \"Topic15\", \"Topic15\", \"Topic15\", \"Topic15\", \"Topic15\", \"Topic15\", \"Topic15\", \"Topic15\", \"Topic15\", \"Topic15\", \"Topic15\", \"Topic15\", \"Topic15\", \"Topic15\", \"Topic15\", \"Topic15\", \"Topic15\", \"Topic15\", \"Topic15\", \"Topic15\", \"Topic15\", \"Topic15\", \"Topic15\", \"Topic15\", \"Topic15\", \"Topic15\", \"Topic15\", \"Topic15\", \"Topic15\", \"Topic15\", \"Topic15\", \"Topic15\", \"Topic15\", \"Topic15\", \"Topic15\", \"Topic15\", \"Topic15\", \"Topic15\", \"Topic15\", \"Topic15\", \"Topic15\", \"Topic15\", \"Topic15\"], \"logprob\": [30.0, 29.0, 28.0, 27.0, 26.0, 25.0, 24.0, 23.0, 22.0, 21.0, 20.0, 19.0, 18.0, 17.0, 16.0, 15.0, 14.0, 13.0, 12.0, 11.0, 10.0, 9.0, 8.0, 7.0, 6.0, 5.0, 4.0, 3.0, 2.0, 1.0, -4.5101, -4.605, -4.659, -4.758, -5.0028, -5.0365, -5.1377, -5.1561, -5.2294, -5.3519, -5.3779, -5.4753, -5.5321, -5.5614, -5.5849, -5.6039, -5.6604, -5.666, -5.7324, -5.7753, -5.781, -5.7945, -5.8201, -5.8932, -5.8962, -6.0569, -6.0682, -6.0777, -6.1069, -6.1369, -5.2455, -4.3671, -4.4804, -3.7219, -5.619, -5.4419, -5.565, -4.3354, -3.7227, -5.0806, -5.5572, -3.8176, -4.525, -4.4829, -5.4705, -4.7093, -5.4148, -5.0212, -4.8864, -3.8417, -4.6199, -4.6811, -4.6503, -5.1049, -4.5494, -4.822, -4.6881, -4.8116, -5.0499, -4.9186, -4.8936, -4.9755, -5.0318, -4.9794, -2.2705, -2.3906, -2.4135, -3.0421, -3.3109, -3.3492, -3.5812, -2.5398, -3.8059, -3.9369, -4.1115, -4.1278, -4.6697, -5.5133, -5.9947, -6.1858, -6.6072, -8.2685, -4.1231, -5.1721, -1.7735, -5.0355, -5.6201, -3.407, -10.6408, -10.6677, -10.7011, -10.7036, -10.7079, -10.7076, -5.0535, -5.6847, -5.2548, -6.4664, -6.1782, -8.5478, -3.6426, -3.9593, -4.2609, -5.0493, -5.0494, -5.065, -5.121, -5.21, -5.4906, -5.5013, -5.5556, -5.5887, -5.7709, -5.7921, -5.8005, -5.8914, -5.9864, -6.0457, -5.6116, -6.0994, -6.1128, -6.1259, -6.1507, -6.1657, -6.1828, -6.2345, -6.3124, -5.9334, -6.3335, -6.3926, -4.4946, -5.0915, -4.7677, -4.4662, -4.6289, -4.4707, -5.0286, -4.7615, -4.8869, -4.4229, -4.1299, -4.9273, -4.344, -5.1577, -5.276, -4.5497, -3.8713, -4.1221, -4.6459, -4.7754, -4.5447, -4.3211, -4.459, -4.7914, -3.7432, -4.8042, -4.5499, -4.5139, -4.7514, -4.8431, -4.9487, -4.7631, -1.5438, -3.0551, -3.5643, -3.7139, -3.939, -4.3021, -4.3981, -4.4117, -4.5352, -4.7162, -4.8016, -5.245, -5.2587, -5.2628, -5.2849, -5.4041, -5.5874, -5.7062, -5.7531, -5.8061, -5.8108, -5.821, -5.8272, -5.9307, -5.9468, -5.9495, -6.0325, -6.0757, -6.0941, -6.1722, -2.4374, -5.2533, -4.5846, -2.0023, -2.5428, -4.1629, -4.0702, -4.53, -4.6815, -4.5014, -5.6246, -5.0187, -4.8379, -5.1617, -4.8951, -5.2199, -2.4191, -2.5252, -2.584, -3.204, -3.2119, -3.3535, -3.4403, -3.7558, -3.7778, -4.0055, -4.0115, -4.1967, -4.8699, -4.9099, -5.4915, -5.5041, -5.511, -5.6333, -5.7157, -5.7157, -5.7167, -5.811, -5.8267, -5.9682, -6.1465, -6.3972, -6.4427, -3.6596, -6.6802, -1.5394, -2.2212, -5.2044, -4.5121, -5.1806, -5.3237, -1.3336, -3.408, -3.6535, -3.8429, -4.0107, -4.7174, -5.2307, -5.5912, -5.7207, -6.0372, -6.1435, -6.5729, -7.0364, -2.9509, -8.0947, -3.9115, -2.3578, -2.1127, -3.2637, -7.4644, -6.287, -3.0813, -4.4836, -3.4138, -4.5689, -4.2634, -4.2957, -5.404, -3.9344, -5.3432, -4.0386, -4.8708, -4.2558, -4.5866, -4.4792, -4.9943, -5.2512, -5.4957, -5.4466, -3.6556, -4.596, -4.6535, -4.7506, -4.7923, -4.9452, -5.0061, -5.2451, -5.3441, -5.3634, -5.3688, -5.4224, -5.5296, -5.7233, -5.7422, -5.7488, -5.7497, -5.8048, -5.8394, -5.8597, -5.8684, -5.8945, -5.9266, -5.9288, -5.9492, -5.9927, -6.0322, -6.0854, -6.1062, -6.1192, -5.0855, -5.4118, -5.4062, -5.0268, -5.7324, -5.2187, -5.5565, -4.4851, -3.893, -3.8741, -4.3891, -5.4781, -5.403, -5.4992, -5.3296, -5.5033, -4.5528, -4.5078, -4.8426, -5.3014, -4.7989, -4.1105, -4.7633, -4.5836, -4.9638, -4.9016, -5.0289, -4.9861, -5.0506, -5.1639, -5.1376, -5.1126, -5.0863, -5.1762, -3.7919, -4.177, -4.2765, -4.5522, -4.6062, -4.6605, -4.834, -4.8576, -4.86, -4.9869, -5.0052, -5.0261, -5.1755, -5.1813, -5.3223, -5.3511, -5.4412, -5.4426, -5.4653, -5.4979, -5.5029, -5.5044, -5.5384, -5.561, -5.5919, -5.6842, -5.7216, -5.7627, -5.788, -5.8323, -4.3677, -4.947, -4.3113, -4.8312, -5.0022, -4.8801, -4.6213, -4.0659, -3.4764, -4.8327, -4.489, -4.228, -4.0458, -4.1208, -5.0145, -4.4959, -4.1452, -4.4132, -4.4318, -4.4825, -4.6893, -4.8151, -4.8361, -4.8368, -3.1153, -3.7428, -4.6729, -4.8402, -4.9136, -4.9167, -4.9576, -5.1432, -5.1393, -5.2051, -5.2611, -5.2771, -5.318, -5.3274, -5.3547, -5.511, -5.5131, -5.7371, -3.8695, -5.7978, -5.9877, -5.9916, -6.0423, -6.0606, -6.1148, -6.1603, -6.1798, -6.3233, -6.4372, -6.4819, -4.263, -3.7285, -2.871, -3.5285, -1.9888, -3.5061, -4.2696, -3.6888, -4.4953, -4.5097, -3.9705, -3.7094, -3.2757, -3.8394, -4.082, -4.3348, -4.6641, -4.3414, -4.4562, -4.3913, -4.5595, -4.6994, -4.2737, -4.7571, -4.8282, -3.1731, -4.3619, -4.4787, -4.5346, -4.6432, -4.8174, -4.9549, -5.0376, -5.1127, -5.1155, -5.1409, -5.2003, -5.2692, -5.2761, -5.3186, -5.3411, -5.4886, -5.4945, -5.5249, -5.5281, -5.5714, -5.5814, -5.6648, -5.7614, -5.8668, -5.8684, -5.9779, -6.0928, -6.1304, -6.1679, -4.0463, -4.8032, -4.5782, -4.9064, -4.1772, -4.7903, -5.0852, -4.5366, -4.5439, -5.2456, -4.4473, -4.7207, -4.9666, -5.2217, -4.5973, -4.501, -4.3593, -4.9173, -4.1375, -5.0509, -4.8592, -4.927, -4.8152, -4.8284, -4.8851, -5.0247, -3.9615, -4.5104, -4.681, -4.8862, -4.9598, -4.9881, -5.0167, -5.0409, -5.1709, -5.2119, -5.2788, -5.3203, -5.329, -5.3368, -5.3755, -5.4177, -5.5439, -5.5696, -5.5748, -5.6749, -5.7328, -5.8298, -5.8323, -5.9114, -5.9349, -6.0002, -6.0125, -4.9818, -6.1492, -6.168, -4.9004, -4.5986, -4.2784, -5.216, -4.4808, -4.5637, -3.4835, -5.4462, -4.58, -3.916, -5.2002, -4.744, -3.9654, -4.9996, -4.8775, -4.1636, -4.8442, -4.7364, -4.495, -4.5084, -4.4373, -4.6177, -4.4482, -4.5541, -4.4789, -4.784, -4.7737, -4.7932, -4.8398, -4.8355, -1.8893, -2.8037, -3.1493, -3.3657, -3.3797, -4.0679, -4.3299, -4.3914, -4.4828, -4.6107, -4.64, -4.8208, -5.1914, -5.3738, -5.6674, -6.0379, -6.1262, -6.2742, -4.365, -6.8118, -6.8364, -6.9495, -7.8421, -8.1806, -3.0329, -2.498, -1.929, -4.276, -3.57, -6.4455, -2.9845, -3.8445, -5.1612, -3.6345, -3.7388, -5.0519, -4.4312, -4.6312, -5.0326, -5.4815, -1.8642, -2.2812, -2.4437, -2.5428, -3.4033, -3.5018, -3.6375, -3.7715, -4.0358, -4.3302, -4.4037, -4.4245, -4.4309, -4.5206, -4.7661, -4.9797, -5.0311, -5.0408, -5.2868, -5.6579, -5.7458, -5.9826, -5.9865, -4.0517, -6.0217, -6.0903, -6.6933, -6.7222, -7.941, -3.7936, -4.4486, -5.0257, -4.1351, -4.4472, -4.2138, -4.0417, -4.3791, -4.1704, -4.3701, -4.6801, -4.6248, -4.728, -5.0155, -2.3148, -3.7212, -1.8609, -4.6154, -4.832, -5.0184, -5.1064, -5.2425, -5.5802, -5.6154, -5.8265, -5.8371, -5.8577, -5.8735, -2.0377, -6.0418, -6.0963, -6.1127, -6.1376, -6.3009, -6.3681, -6.4029, -6.5429, -6.6089, -6.6812, -6.698, -6.7239, -6.7743, -6.8322, -6.896, -4.8382, -2.5507, -5.2782, -3.4663, -4.3261, -4.8615, -3.1825, -4.3068, -4.6649, -5.5533, -4.2893, -5.008, -4.0713, -4.7615, -4.1959, -4.6529, -3.5539, -5.1927, -4.9439, -5.018, -4.7131, -4.8459, -5.142, -4.0407, -4.9821, -4.7509, -5.0245, -5.0672, -5.1059, -5.2182, -5.2243, -5.3154, -5.3609, -5.4183, -5.4187, -5.424, -5.5568, -5.5733, -5.576, -5.6318, -5.7355, -5.8013, -5.82, -5.8732, -5.8749, -5.9024, -5.9011, -5.908, -5.9209, -5.9347, -5.9657, -5.9706, -6.0023, -4.2725, -5.783, -4.9955, -4.8465, -4.0967, -5.2022, -5.8363, -4.4946, -5.1793, -5.6314, -4.41, -3.5025, -5.1211, -5.1999, -3.5246, -4.578, -5.1856, -5.1352, -4.8941, -5.2517, -4.8997, -5.1748, -5.3041, -5.3047, -5.2932], \"loglift\": [30.0, 29.0, 28.0, 27.0, 26.0, 25.0, 24.0, 23.0, 22.0, 21.0, 20.0, 19.0, 18.0, 17.0, 16.0, 15.0, 14.0, 13.0, 12.0, 11.0, 10.0, 9.0, 8.0, 7.0, 6.0, 5.0, 4.0, 3.0, 2.0, 1.0, 2.3965, 2.3964, 2.3963, 2.3962, 2.3957, 2.3957, 2.3955, 2.3953, 2.3953, 2.3949, 2.3949, 2.3946, 2.3944, 2.3943, 2.3942, 2.3942, 2.394, 2.394, 2.3937, 2.3935, 2.3935, 2.3935, 2.3933, 2.393, 2.393, 2.3922, 2.3921, 2.3921, 2.3919, 2.3918, 2.3876, 2.3681, 2.3682, 2.3219, 2.379, 2.3701, 2.3742, 2.268, 2.1745, 2.3204, 2.3641, 2.1228, 2.1895, 2.1286, 2.3405, 2.0867, 2.311, 2.1315, 2.0599, 1.53, 1.8436, 1.8472, 1.8161, 2.0802, 1.5294, 1.5598, 1.0215, 1.2435, 1.7698, 1.0252, 0.5818, 1.1413, 1.55, -0.1254, 5.3709, 5.3705, 5.3705, 5.3681, 5.3665, 5.3663, 5.3644, 5.3644, 5.3622, 5.3607, 5.3583, 5.3581, 5.3474, 5.3141, 5.2792, 5.2605, 5.2061, 4.7013, 4.6383, 4.5658, 4.3053, 4.1704, 3.8341, 3.3163, 2.9503, 2.9158, 2.8951, 2.8932, 2.888, 2.8876, 2.1258, 1.9721, 1.6437, 1.4728, 1.1946, -1.7518, 2.0452, 2.0451, 2.0449, 2.0441, 2.0441, 2.0441, 2.044, 2.0439, 2.0433, 2.0433, 2.0432, 2.0431, 2.0426, 2.0426, 2.0425, 2.0422, 2.0419, 2.0417, 2.0416, 2.0415, 2.0414, 2.0414, 2.0413, 2.0412, 2.0411, 2.0409, 2.0405, 2.0405, 2.0404, 2.0401, 2.0181, 2.0231, 2.0153, 2.0021, 2.0052, 1.9911, 2.0005, 1.9765, 1.9589, 1.91, 1.8817, 1.9367, 1.857, 1.9374, 1.9386, 1.7574, 1.5005, 1.5471, 1.7012, 1.7462, 1.6432, 1.4474, 1.4105, 1.621, 0.5975, 1.626, 1.1636, 1.0349, 1.3749, 1.076, 1.5754, -0.1188, 3.1568, 3.1564, 3.156, 3.1558, 3.1555, 3.1549, 3.1547, 3.1547, 3.1544, 3.1539, 3.1536, 3.1518, 3.1517, 3.1517, 3.1515, 3.1509, 3.1496, 3.1487, 3.1483, 3.1479, 3.1478, 3.1477, 3.1477, 3.1467, 3.1465, 3.1465, 3.1456, 3.1451, 3.1449, 3.1439, 3.0124, 3.1006, 3.0506, 2.8517, 2.6797, 2.3005, 1.7734, 1.9716, 1.9339, 1.6154, 2.8097, 1.5935, 1.0926, 1.7516, 0.9092, 0.7494, 4.7369, 4.7367, 4.7366, 4.7351, 4.7351, 4.7346, 4.7343, 4.7328, 4.7326, 4.7312, 4.7311, 4.7297, 4.7214, 4.7207, 4.707, 4.7066, 4.7064, 4.7023, 4.6992, 4.6992, 4.6992, 4.6954, 4.6947, 4.6882, 4.6788, 4.6624, 4.659, 4.6521, 4.6387, 4.6335, 4.3633, 3.7684, 1.0367, 2.1892, 1.2124, 3.2168, 3.2167, 3.2164, 3.2162, 3.216, 3.2143, 3.2121, 3.2098, 3.2087, 3.2054, 3.2041, 3.1969, 3.185, 3.098, 3.0086, 2.9953, 2.8925, 2.7731, 2.6555, 2.568, 2.4832, 2.3801, 2.2795, 2.2698, 2.264, 2.2247, 2.2112, 2.1307, 2.0094, 1.9233, 1.8976, 1.4485, 0.9666, 1.1819, -0.1385, 0.6625, 0.9995, 1.4422, 0.4345, 2.0092, 2.0087, 2.0086, 2.0085, 2.0085, 2.0083, 2.0082, 2.0079, 2.0077, 2.0077, 2.0077, 2.0076, 2.0074, 2.0069, 2.0068, 2.0068, 2.0068, 2.0067, 2.0066, 2.0065, 2.0065, 2.0064, 2.0063, 2.0063, 2.0062, 2.0061, 2.0059, 2.0057, 2.0056, 2.0056, 2.0053, 1.9993, 1.9959, 1.9791, 1.9882, 1.9419, 1.9659, 1.7845, 1.6855, 1.6646, 1.7355, 1.9296, 1.9108, 1.9269, 1.87, 1.9278, 1.5586, 1.3734, 1.3952, 1.761, 1.318, 0.2302, 1.0505, 0.6388, 0.8599, 0.5598, 0.8805, 0.5395, 0.7179, 1.1393, 0.9719, 0.4362, -0.442, 0.5333, 2.3391, 2.3388, 2.3388, 2.3385, 2.3384, 2.3383, 2.3381, 2.3381, 2.3381, 2.3379, 2.3378, 2.3378, 2.3375, 2.3375, 2.3372, 2.3371, 2.3368, 2.3368, 2.3368, 2.3367, 2.3367, 2.3367, 2.3366, 2.3365, 2.3364, 2.3361, 2.336, 2.3358, 2.3357, 2.3355, 2.3033, 2.3138, 2.2651, 2.2816, 2.2879, 2.2605, 2.2237, 2.1466, 2.0528, 2.2249, 1.9481, 1.8271, 1.6677, 1.693, 1.9616, 1.3361, 0.7406, 1.1124, 1.1069, 1.1344, 1.2411, 1.3112, 1.4017, -0.3011, 2.7965, 2.7961, 2.7949, 2.7945, 2.7944, 2.7944, 2.7943, 2.7937, 2.7937, 2.7935, 2.7933, 2.7932, 2.7931, 2.793, 2.7929, 2.7923, 2.792, 2.7911, 2.7909, 2.7907, 2.7894, 2.7894, 2.789, 2.7888, 2.7884, 2.788, 2.7878, 2.7864, 2.7852, 2.7846, 2.7837, 2.754, 2.6658, 2.6556, 2.5469, 2.6397, 2.5939, 2.4345, 2.3692, 2.275, 1.9988, 1.657, 1.3686, 1.6862, 1.7223, 1.6383, 1.929, 1.2756, 1.3758, 1.0842, 1.3843, 1.4885, 0.067, 1.1733, 0.8813, 2.5448, 2.544, 2.5438, 2.5437, 2.5436, 2.5433, 2.543, 2.5429, 2.5427, 2.5427, 2.5426, 2.5425, 2.5423, 2.5423, 2.5421, 2.5421, 2.5416, 2.5416, 2.5414, 2.5414, 2.5413, 2.5412, 2.5409, 2.5405, 2.54, 2.54, 2.5394, 2.5387, 2.5384, 2.5382, 2.5308, 2.5349, 2.5041, 2.5059, 2.4187, 2.4613, 2.4718, 2.3807, 2.321, 2.4708, 2.2136, 2.2178, 2.2912, 2.391, 1.9844, 1.9113, 1.6422, 2.1499, 1.1129, 1.9613, 1.3915, 1.5139, 0.8416, 0.633, 0.7841, 0.8448, 2.3657, 2.3652, 2.365, 2.3647, 2.3646, 2.3645, 2.3645, 2.3644, 2.3642, 2.3641, 2.3639, 2.3638, 2.3638, 2.3638, 2.3637, 2.3636, 2.3632, 2.3631, 2.3631, 2.3627, 2.3625, 2.3621, 2.3621, 2.3618, 2.3617, 2.3614, 2.3613, 2.3606, 2.3606, 2.3605, 2.3349, 2.2907, 2.2648, 2.3161, 2.2484, 2.251, 2.0813, 2.2967, 2.1339, 1.9949, 2.2464, 2.1221, 1.8583, 2.1697, 2.1225, 1.7562, 2.0194, 1.8789, 1.478, 1.3431, 1.1114, 1.3516, 1.0272, 1.1554, 0.8875, 1.1464, 1.0306, 1.0388, 1.1617, 0.7814, 4.5461, 4.545, 4.5443, 4.5437, 4.5436, 4.5405, 4.5386, 4.5381, 4.5373, 4.536, 4.5357, 4.5335, 4.5276, 4.5238, 4.516, 4.5025, 4.4985, 4.4911, 4.4708, 4.4532, 4.451, 4.4401, 4.3039, 4.2206, 4.1912, 4.1876, 4.1281, 4.0274, 3.5457, 3.4776, 2.9353, 2.8701, 3.1167, 1.9439, 1.81, 2.8762, 1.5126, 1.1925, 0.2177, 1.7022, 4.6355, 4.6351, 4.6349, 4.6348, 4.6327, 4.6323, 4.6318, 4.6311, 4.6296, 4.6273, 4.6266, 4.6264, 4.6263, 4.6254, 4.6224, 4.6191, 4.6182, 4.6181, 4.6131, 4.6028, 4.5998, 4.5903, 4.5901, 4.5894, 4.5885, 4.5852, 4.5447, 4.5422, 4.3482, 4.0715, 3.9373, 3.8381, 3.4516, 3.5572, 2.9059, 2.4599, 2.2362, 1.8867, 1.3395, 1.5078, 1.0588, 0.7976, 0.7888, 3.2134, 3.2126, 3.2111, 3.2108, 3.2101, 3.2094, 3.209, 3.2083, 3.2061, 3.2059, 3.204, 3.2039, 3.2037, 3.2035, 3.2024, 3.2017, 3.201, 3.2008, 3.2005, 3.1981, 3.1971, 3.1965, 3.1939, 3.1926, 3.191, 3.1906, 3.19, 3.1888, 3.1873, 3.1856, 3.1188, 2.9914, 3.0936, 2.879, 2.8442, 2.8327, 2.4742, 2.5823, 2.4596, 2.7987, 2.1408, 2.4901, 1.7982, 2.191, 1.7151, 1.9225, 0.7868, 2.4463, 1.9678, 1.962, 1.1305, 1.1657, 0.3194, 1.8349, 1.8343, 1.8343, 1.8343, 1.8342, 1.8342, 1.834, 1.834, 1.8339, 1.8338, 1.8337, 1.8337, 1.8337, 1.8335, 1.8335, 1.8335, 1.8333, 1.8331, 1.833, 1.8329, 1.8328, 1.8328, 1.8327, 1.8327, 1.8327, 1.8327, 1.8326, 1.8325, 1.8325, 1.8324, 1.8091, 1.8285, 1.7917, 1.7805, 1.7162, 1.7682, 1.8264, 1.6055, 1.695, 1.7707, 1.4394, 1.1418, 1.6001, 1.6254, 0.8161, 1.2655, 1.5602, 1.477, 1.0153, 1.4498, 0.7839, 1.2913, 1.2713, 1.0146, 0.1822]}, \"token.table\": {\"Topic\": [5, 7, 8, 1, 3, 7, 8, 9, 10, 15, 11, 8, 11, 11, 15, 1, 3, 7, 4, 14, 8, 14, 15, 10, 10, 4, 4, 4, 1, 9, 14, 1, 3, 6, 7, 14, 3, 6, 7, 8, 10, 15, 1, 6, 10, 11, 12, 3, 4, 9, 10, 11, 13, 4, 12, 8, 12, 1, 7, 10, 15, 12, 8, 13, 15, 1, 10, 1, 15, 15, 15, 5, 3, 7, 8, 10, 15, 15, 3, 7, 8, 10, 15, 8, 3, 6, 7, 8, 9, 10, 11, 14, 15, 9, 8, 15, 1, 15, 1, 4, 7, 3, 7, 15, 1, 6, 11, 15, 7, 9, 6, 9, 10, 11, 13, 1, 7, 12, 7, 9, 14, 15, 10, 14, 10, 2, 8, 3, 1, 7, 9, 10, 5, 5, 7, 8, 9, 10, 11, 15, 1, 3, 1, 3, 7, 4, 3, 1, 3, 5, 6, 7, 8, 9, 10, 15, 1, 3, 8, 2, 7, 8, 9, 11, 14, 15, 6, 5, 15, 8, 10, 13, 15, 5, 9, 9, 3, 7, 8, 9, 10, 11, 15, 15, 9, 9, 15, 9, 7, 3, 6, 8, 7, 15, 1, 8, 10, 6, 1, 3, 4, 6, 10, 10, 7, 8, 10, 11, 7, 10, 14, 14, 3, 10, 11, 14, 10, 9, 10, 11, 7, 7, 3, 7, 15, 1, 5, 3, 4, 7, 3, 13, 1, 3, 3, 10, 3, 8, 13, 15, 3, 3, 14, 11, 15, 3, 6, 7, 3, 11, 4, 3, 1, 3, 4, 7, 8, 9, 10, 11, 14, 15, 3, 1, 12, 1, 3, 15, 10, 11, 11, 1, 2, 1, 2, 11, 15, 5, 7, 4, 6, 9, 14, 15, 3, 9, 2, 8, 10, 15, 11, 11, 11, 11, 11, 7, 11, 11, 7, 5, 1, 1, 4, 7, 8, 9, 11, 13, 1, 3, 7, 4, 10, 11, 13, 15, 7, 9, 10, 11, 15, 1, 4, 10, 15, 9, 3, 7, 8, 9, 11, 10, 1, 15, 1, 3, 4, 10, 11, 15, 9, 15, 4, 10, 2, 7, 15, 12, 3, 7, 14, 15, 9, 4, 6, 7, 15, 14, 3, 4, 5, 4, 8, 12, 3, 13, 13, 15, 2, 15, 1, 1, 7, 13, 7, 2, 1, 2, 15, 1, 3, 4, 7, 8, 9, 10, 14, 15, 1, 7, 1, 3, 7, 8, 9, 10, 11, 14, 15, 1, 7, 1, 12, 12, 1, 12, 5, 14, 6, 11, 4, 9, 9, 13, 3, 4, 6, 8, 7, 13, 15, 5, 12, 7, 8, 10, 11, 12, 7, 8, 9, 10, 11, 11, 15, 2, 7, 8, 10, 15, 13, 13, 13, 2, 1, 3, 4, 7, 9, 1, 1, 1, 13, 1, 3, 9, 13, 15, 11, 11, 3, 3, 7, 10, 12, 4, 9, 1, 13, 9, 14, 6, 7, 8, 13, 15, 1, 10, 1, 8, 12, 4, 6, 7, 9, 11, 1, 8, 10, 3, 10, 14, 15, 14, 13, 1, 3, 10, 15, 8, 5, 14, 5, 10, 15, 5, 8, 8, 8, 2, 14, 15, 1, 1, 1, 8, 10, 1, 3, 8, 10, 3, 7, 3, 8, 9, 12, 4, 8, 3, 8, 15, 15, 14, 3, 8, 9, 10, 7, 14, 12, 2, 15, 1, 14, 6, 7, 3, 7, 1, 3, 7, 10, 11, 3, 4, 8, 9, 10, 13, 7, 12, 3, 10, 8, 13, 3, 5, 7, 11, 11, 14, 1, 9, 10, 15, 1, 2, 1, 3, 4, 6, 7, 8, 6, 7, 8, 9, 1, 15, 15, 3, 11, 4, 3, 6, 7, 13, 9, 1, 14, 3, 6, 13, 1, 3, 7, 4, 3, 7, 8, 9, 12, 13, 7, 8, 11, 14, 14, 15, 1, 6, 3, 11, 2, 14, 15, 10, 7, 15, 3, 5, 9, 10, 2, 9, 5, 15, 3, 7, 12, 15, 12, 1, 12, 3, 7, 13, 8, 11, 3, 3, 6, 7, 8, 9, 10, 11, 13, 15, 1, 3, 9, 15, 4, 7, 8, 3, 6, 7, 15, 11, 15, 5, 14, 1, 11, 14, 3, 9, 15, 7, 14, 11, 7, 8, 10, 11, 6, 7, 11, 15, 10, 8, 14, 1, 8, 9, 3, 12, 5, 8, 8, 14, 14, 14, 14, 3, 8, 1, 3, 8, 7, 8, 14, 15, 3, 7, 8, 9, 11, 15, 3, 14, 7, 15, 4, 5, 1, 4, 1, 3, 14, 2, 7, 11, 2, 3, 5, 4, 8, 15, 10, 1, 3, 11, 3, 4, 6, 7, 8, 9, 10, 11, 14, 15, 7, 1, 1, 4, 8, 9, 11, 4, 6, 7, 8, 9, 10, 11, 14, 15, 15, 8, 6, 3, 7, 12, 4, 1, 3, 7, 8, 9, 10, 11, 13, 5, 5, 14, 13, 1, 3, 3, 8, 14, 15, 8, 10, 13, 3, 10, 1, 8, 7, 14, 3, 7, 10, 3, 6, 1, 9, 10, 8, 8, 10, 10, 15, 15, 1, 3, 4, 6, 7, 8, 9, 10, 11, 15, 15, 7, 8, 10, 11, 15, 14, 4, 7, 1, 3, 7, 14, 15, 10, 4, 6, 4, 15, 15, 13, 10, 3, 9, 15, 3, 7, 2, 10, 15, 7, 11, 3, 7, 14, 4, 7, 14, 10, 14, 8, 11, 14, 13, 1, 7, 1, 3, 12, 3, 10, 15, 5, 11, 1, 10, 4, 8, 3, 3, 8, 3, 11, 10, 7, 14, 10, 15, 4, 4, 7, 14, 15, 3, 4, 7, 8, 9, 11, 15, 3, 7, 8, 10, 15, 8, 10, 11, 9, 13, 12, 3, 10, 1, 3, 7, 8, 11, 1, 11, 1, 8, 11, 1, 2, 7, 10, 15, 1, 3, 8, 3, 10, 14, 15, 7, 10, 14, 1, 1, 8, 14, 7, 3, 10, 14, 15, 11, 3, 6, 7, 8, 9, 11, 13, 14, 10, 15, 10, 1, 10, 15, 3, 7, 12, 12, 15, 11, 11, 4, 10, 7, 1, 6, 7, 8, 9, 10, 11, 14, 1, 4, 9, 11, 13, 13, 7, 15, 2, 1, 4, 7, 8, 10, 15, 10, 7, 8, 14, 15, 7, 10, 11, 14, 3, 7, 8, 11, 14, 15, 3, 1, 2, 8, 11, 3, 5, 11, 10, 14, 15, 7, 3, 6, 7, 8, 9, 10, 11, 14, 15, 3, 6, 7, 8, 9, 14, 7, 15, 3, 4, 12, 2, 1, 4, 6, 7, 8, 9, 11, 13, 3, 7, 1, 4, 4, 3, 4, 7, 8, 9, 10, 11, 13, 7, 3, 3, 7, 14, 11, 15, 12, 3, 7, 13, 13, 11, 13, 6, 1, 3, 6, 8, 10, 3, 4, 4, 4, 1, 7, 12, 13, 6, 9, 1, 1, 10, 1, 3, 11, 12, 14, 1, 7, 10, 1, 3, 6, 7, 10, 12, 13, 14, 15, 11, 8, 10, 5, 7, 13, 13, 2, 2, 7, 15, 8, 7, 15, 8, 9, 10, 7, 8, 8, 12, 7, 9, 8, 7, 13, 7, 12, 1, 3, 8, 9, 3, 12, 9, 7, 14, 1, 12, 3, 7, 8, 10, 12, 15, 6, 9, 3, 7, 9, 7, 11, 4, 13, 3, 10, 13, 15, 9, 1, 14, 1, 6, 8, 10, 15, 5, 3, 14, 7, 8, 11, 12, 2, 1, 9, 14, 15, 2, 14, 2, 9, 9, 9, 9, 1, 2, 3, 15, 5, 7, 5, 5, 3, 14, 5, 1, 2, 3, 5, 5, 9, 14, 4, 11, 13, 13, 3, 10, 15, 3, 15, 1, 3, 7, 8, 9, 11, 15, 7, 11, 14, 3, 9, 11, 13, 15, 6, 10, 13, 4, 11, 1, 8, 9, 10, 1, 3, 7, 11, 10, 3, 6, 7, 8, 10, 11, 14, 15, 8, 1, 3, 5, 7, 8, 11, 12, 8, 1, 4, 8, 9, 11, 7, 1, 3, 6, 7, 9, 12, 13, 12, 11, 1, 10, 4, 15, 10, 3, 11, 15, 3, 11, 15], \"Freq\": [0.9902335911530024, 0.9962847926277411, 0.0024876024784712637, 0.19432879999187166, 0.013546959614817977, 0.6371742384348869, 0.031298148075613944, 0.0060727749997459895, 0.01775118846079597, 0.09903294614970383, 0.9951871816094419, 0.948912046992541, 0.0485842968060181, 0.7927335968135394, 0.2065032620332363, 0.5768775945228971, 0.4188386466376317, 0.0035434741678310633, 0.9903706824706878, 0.9946280814858383, 0.0071165665427983076, 0.5317091859833593, 0.46054352055537623, 0.9986926306879167, 0.9963225345482303, 0.9982813183142657, 0.9905338016315677, 0.9887040954999895, 0.9675200123897348, 0.03139445467931293, 0.9815911674099594, 0.9927804386545561, 0.5499677003066629, 0.13061318500351124, 0.27481809738048435, 0.04442174312302159, 0.012549084148984618, 0.39171069807901987, 0.059159968130927484, 0.23036533044921761, 0.3038671090361275, 0.0017927263069978025, 0.0733696958001262, 0.48023800887355333, 0.03334986172733009, 0.40686831307342713, 0.9913382656149099, 0.09315707543127111, 0.30569321789668963, 0.0006900524106020081, 0.04554345909973254, 0.44163354278528527, 0.11316859533872935, 0.9924776336921864, 0.9991268039344006, 0.9646311669043361, 0.03515181370922581, 0.9177148697608517, 0.07980129302268275, 0.9938438614241442, 0.9968495817713406, 0.980815243573714, 0.9983816402545268, 0.49505002687681826, 0.4995917702426606, 0.07888887134174503, 0.9203701656536921, 0.9966839188570711, 0.9990689545480921, 0.9982154199006062, 0.998343784767439, 0.9576451354309808, 0.9990776796450486, 0.048880018530104166, 0.188778002599023, 0.08090485825672414, 0.6801064647205873, 0.9982496643808074, 0.6075529920241908, 0.06813958952049966, 0.15158807360287369, 0.17199993301870617, 0.0009005232095220218, 0.9968631978331884, 0.037554439883065005, 0.4328514986522103, 0.23459331926953594, 0.029750919907363185, 0.05852639981776364, 0.14777915953985318, 0.0012192999962034091, 0.05535621982763478, 0.0024385999924068182, 0.9970767161593854, 0.9980642125262276, 0.9972555118607696, 0.1119378978765116, 0.8875323729465826, 0.28461598166379903, 0.21416648125196758, 0.5006611162600821, 0.01018963697499755, 0.9866965137455961, 0.0016982728291662582, 0.04132795015722909, 0.3854071630941597, 0.26815111846202133, 0.30563460813950816, 0.9969353864680078, 0.9911627514820769, 0.9989916207067701, 0.9883436393829377, 0.9966131743205977, 0.4290207847202069, 0.569329469031218, 0.17502460630591007, 0.1260840765805608, 0.6984394242160014, 0.3023092008006439, 0.18138552048038634, 0.4708304999703645, 0.04502477458732994, 0.9947553558801083, 0.9797390403809411, 0.9985988255891415, 0.4388633975535732, 0.5441906129664308, 0.9993340435451927, 0.061438845046170594, 0.015855185818366604, 0.8165420696458802, 0.10603155516032667, 0.9573509948627676, 0.02928757579181717, 0.18001144145214457, 0.1507238656603274, 0.2178709906464448, 0.04571719147990973, 0.2371579308020317, 0.13858023667347635, 0.4200238745505423, 0.5798737248970066, 0.7661333000382154, 0.013232008636238609, 0.2196513433615609, 0.9884600091132499, 0.9975841063196904, 0.013960256302567307, 0.14282416063395784, 0.004832396412427145, 0.10899738574696782, 0.005906262281855399, 0.06819048270869416, 0.0612103545574105, 0.3157165656119068, 0.27813126018191786, 0.3152561208233856, 0.08521629036262383, 0.5991632436377231, 0.023605115228331426, 0.18268306568013018, 0.015394640366303105, 0.25555103008063157, 0.1529200943052775, 0.041052374310141616, 0.3273926851233794, 0.9679497418985352, 0.967349544713334, 0.9978113595461621, 0.2563507145301741, 0.2856479390479083, 0.44678267389544635, 0.9996559897141714, 0.9986253652802028, 0.9986463133202093, 0.9973480347223167, 0.016233255799263956, 0.05642988920696518, 0.0713103736896238, 0.7788097722742112, 0.006280723969953316, 0.06271061317691849, 0.008116627899631978, 0.9973308743268494, 0.9961625560265309, 0.9866602485620019, 0.011901812407261783, 0.9891102366825947, 0.9945261759171071, 0.3792580402801843, 0.5700433349333257, 0.050490653736487943, 0.20887283817544344, 0.7907942844502386, 0.11411063261628326, 0.08533490786956835, 0.7987744283139828, 0.9978119155975989, 0.5589042874652608, 0.43433324842354, 0.005995397600938435, 0.5184622247042092, 0.44776283042636256, 0.9986923201549956, 0.20548633156351853, 0.08872322258954364, 0.40553208815692354, 0.2996501291231757, 0.14485466284996784, 0.7177993628375501, 0.13676222358460652, 0.9781298951908072, 0.0007645178324639122, 0.08562599723595817, 0.6895950848824488, 0.22323920707946238, 0.9940029119443058, 0.007735322010233631, 0.04061044055372656, 0.9514446072587366, 0.9987510980971818, 0.9976331840134174, 0.16251402870819753, 0.7983433262129974, 0.03830296972920481, 0.9979174377216778, 0.9738317066402667, 0.9931420237421517, 0.9987218578076645, 0.9966522132595033, 0.9942876415049221, 0.6753831570425636, 0.02925870898864143, 0.9701090699046424, 0.1505961328594542, 0.8481490538126206, 0.5115811069320652, 0.35749041207300936, 0.015646132093381046, 0.11521242723307862, 0.9953415864276697, 0.31384940663142485, 0.682281318763967, 0.9951654329811086, 0.9980759553510709, 0.4220960537393983, 0.3703552471519882, 0.20696322634964046, 0.7498418734057907, 0.24994729113526357, 0.9979110005617499, 0.9996189475201037, 0.0028828211269026046, 0.02594539014212344, 0.017962193175316228, 0.09557660813038635, 0.08382356815147572, 0.3197713896148889, 0.07229228364386531, 0.22796462449660596, 0.01308357280671182, 0.14081472427562722, 0.9973382051752114, 0.8120202520229568, 0.18699519999266828, 0.010064181052857751, 0.3166622681274171, 0.6728623903910611, 0.994670578113491, 0.9941160574690521, 0.9958970539138698, 0.9762087002863096, 0.020337681255964784, 0.6102133321695817, 0.014843026998719557, 0.34633729663678964, 0.026387603553279213, 0.9607967169811742, 0.997796997116434, 0.02132825553292233, 0.33737422388440774, 0.007755729284699029, 0.1551145856939806, 0.4769773510089903, 0.9985160756061779, 0.9940389662730257, 0.9824179897976308, 0.9979119672448432, 0.8572815694797836, 0.1404348781299401, 0.9977112723454439, 0.9979084333113781, 0.9992909131387147, 0.9988294810689707, 0.9966846174083758, 0.292353118204894, 0.7066026212884388, 0.9976094957199647, 0.9990312551100339, 0.9464141266813245, 0.9936760729973588, 0.2525262162597825, 0.0009375973375982023, 0.2284612179280953, 0.03562869882873169, 0.14720278200291775, 0.29784342091036226, 0.036878828612195956, 0.9954073886818038, 0.2390272825094893, 0.7601540905153263, 0.20965180696906355, 0.022352582360672214, 0.06243307486946378, 0.006166229616737163, 0.6990962827975759, 0.006815524270021993, 0.12381535757206621, 0.04202906633180229, 0.7837852910525293, 0.04316498704347262, 0.9456833869836393, 0.053673921963936284, 0.9974855636461478, 0.9973887825745343, 0.9992135676218867, 0.027552052015061685, 0.09890480210534963, 0.3666542306619747, 0.241257070849835, 0.2652768085039913, 0.9944063848040562, 0.06395590116164585, 0.9350793825013048, 0.06339726077194224, 0.1732618319960467, 0.03782222943780645, 0.0932948326132559, 0.359491285513627, 0.2726802636611379, 0.8542403410017739, 0.14503231595955415, 0.998759783580695, 0.9972213588300275, 0.21149072816281278, 0.1453998756119338, 0.6344721844884383, 0.940034763657512, 0.9988942861590087, 0.03207057619538898, 0.020337438562929598, 0.9464731023517235, 0.9960891674957598, 0.6204230340479545, 0.10522804786700063, 0.2538530643798811, 0.02016230844166983, 0.985071174611814, 0.9963991198461959, 0.9838420434356334, 0.9673378190951876, 0.9929092617900092, 0.9980633590546042, 0.7803348630387742, 0.04103577048666896, 0.9555472270467201, 0.9929599418320845, 0.9981574182893055, 0.4826425259234393, 0.5157002331784694, 0.995324462682397, 0.9722512873210949, 0.02558556019266039, 0.998447386262063, 0.9990145463586123, 0.9958745355055112, 0.7327141480069543, 0.000926313714294506, 0.2658520360025232, 0.0033953626760168678, 0.06620957218232892, 0.1154423309845735, 0.418761396708747, 0.08148870422440482, 0.022069857394109643, 0.1725976026975241, 0.04640328990556386, 0.07243440375502651, 0.927242425573726, 0.07246809917384112, 0.16272354952274856, 0.010386609544005228, 0.06429805908193711, 0.0689967633994633, 0.18028186565666215, 0.02473002272382197, 0.26213824087251286, 0.03486933204058898, 0.19141037588238205, 0.7137229171769309, 0.28527386583994974, 0.633794056900164, 0.33802349701342077, 0.9318257188728075, 0.2970348155342517, 0.7006610720496942, 0.96768534967494, 0.987566302963328, 0.9786856405192947, 0.9991154158648935, 0.9998420164045536, 0.995937128622984, 0.9972463617943164, 0.9894610842156829, 0.02362223892773943, 0.8653452831692302, 0.004820865087293761, 0.10605903192046276, 0.37784590508670896, 0.3063615446648992, 0.31248877555819715, 0.9956268028669147, 0.9679029561447401, 0.3166982411276253, 0.0168158358120863, 0.029778042583902823, 0.601516460194837, 0.03503299127517979, 0.1465609771757966, 0.0754437502436296, 0.02271424738517881, 0.0029744847766305584, 0.7520038330735984, 0.1879126889210946, 0.8107907897610682, 0.1274711669348965, 0.008612916684790303, 0.08268400017398692, 0.23771650050021237, 0.5426137511417891, 0.9993327798627487, 0.9862375144996036, 0.990680540338518, 0.8721452395125417, 0.08024078461676462, 0.11929838507591826, 0.7369132984589294, 0.004915412302682601, 0.05845355170757688, 0.9955038124632651, 0.997457743907097, 0.9943343585138726, 0.9659258577894297, 0.0100843565509296, 0.6685928393266325, 0.27026075556491325, 0.04386695099654376, 0.00655483175810424, 0.9971303119132281, 0.999022120873312, 0.9987223708834051, 0.15408352748170479, 0.28746926768974773, 0.5576903793181106, 0.9980440780836706, 0.9457613169658744, 0.04838778830988195, 0.9983726280439842, 0.9990025509307906, 0.9968372672859531, 0.9982877199494959, 0.9932710477642372, 0.21089025879547915, 0.24810618681821076, 0.34114600687503976, 0.1984849494545686, 0.06975585047835589, 0.9277528113621333, 0.6481793478444262, 0.11006819114339313, 0.24051938064667386, 0.17282248114725157, 0.8009856311854653, 0.0010348651565703687, 0.009313786409133318, 0.0165578425051259, 0.013618673269341946, 0.8900775743891343, 0.09533071288539362, 0.8489379172491159, 0.01226055756983285, 0.12894724340686273, 0.009723890486419156, 0.9897311594244109, 0.9413825374674136, 0.06836038276545198, 0.0737010376690029, 0.7209884119793762, 0.13565263455019377, 0.9989119986815691, 0.9933326847811782, 0.9906835273427151, 0.9640277404002373, 0.9944320963515146, 0.9980505515355975, 0.9963639694559187, 0.9984273695590947, 0.9987824812690853, 0.9972181065273931, 0.9908905834374748, 0.48414336942684905, 0.5121825607063962, 0.997006074190207, 0.9970726708791585, 0.2861312844720416, 0.6853842395493089, 0.027725899658143566, 0.9947213228430876, 0.012920860441824488, 0.8243508961884023, 0.1617691727316426, 0.07513904347688559, 0.9238686936589797, 0.15410778472499287, 0.12905345162553084, 0.6958486475926058, 0.01985437717315859, 0.9939471005879137, 0.9973100677170371, 0.9956854001518166, 0.003008112991395216, 0.9991789063164682, 0.9993683491089653, 0.9880912908557193, 0.8732645565392652, 0.01865451656158644, 0.06587376160810211, 0.04138970862101991, 0.9979661831868865, 0.9838946116924755, 0.9093247663572437, 0.9966021779575414, 0.9984546820141212, 0.9713873000161645, 0.028311790653737456, 0.9991982426432289, 0.0006863972226204713, 0.008567804349146852, 0.9904381827613762, 0.022850647292323143, 0.06457791626091323, 0.0019870128080280995, 0.12716881971379837, 0.7828830463630712, 0.41385618348742864, 0.019139671867121417, 0.5108096032733388, 0.045495941323485334, 0.005961537138939457, 0.004392711576060653, 0.9973015465286618, 0.9976865890375881, 0.9996583756480897, 0.9964154231013392, 0.9988813093534996, 0.9746323464648071, 0.023018371859159864, 0.0789201320885481, 0.3600731026540007, 0.537643399853234, 0.9970034719918666, 0.9895376629889011, 0.7284792456721291, 0.03416882015347697, 0.05603686505170223, 0.1804113704103584, 0.9986669398459036, 0.9913759874425393, 0.7640461565566223, 0.234913384828397, 0.06625841378894806, 0.0005300673103115845, 0.5411987238281277, 0.3911896750099494, 0.06841769384924787, 0.002974682341271646, 0.9281008904767537, 0.9952449998013873, 0.23959990665146724, 0.7593202924028116, 0.9984700250334332, 0.9982466540062718, 0.9985227904057895, 0.997810450569454, 0.10004402667000467, 0.8872325523103046, 0.012286108538421627, 0.9776394990641625, 0.9955628300161995, 0.002477899638823797, 0.9972720079719507, 0.9170659462835596, 0.03115298331324194, 0.05159712861255696, 0.8000864909503906, 0.19945605735756675, 0.9990055471968372, 0.9970205147868826, 0.09122467907950076, 0.38328239689295945, 0.5237614654374377, 0.001387447590562749, 0.8891811195028735, 0.9800689062334612, 0.1770382520655674, 0.06569343944571368, 0.46987510925578263, 0.286156168433024, 0.6909166691516593, 0.30707407517851526, 0.997634141329911, 0.9904891758308572, 0.9946908026563099, 0.9951591433443493, 0.9747150209055281, 0.9829888554859492, 0.9983233654989354, 0.9928194422221291, 0.8695671882994481, 0.12897886525015737, 0.31185958015249277, 0.6874404687496055, 0.9983933956296056, 0.9972443938790219, 0.8971285382234493, 0.9948328068648932, 0.9192996162044188, 0.08012244361414658, 0.020113815533746353, 0.025860619971959597, 0.18677114424193042, 0.7643249902823614, 0.7554489165880007, 0.9987405462482741, 0.9818407041696064, 0.8969309782543875, 0.10118580673900472, 0.989132747711611, 0.9980008974525081, 0.9969892023051429, 0.997118295747146, 0.001218124963253704, 0.3876682695554912, 0.000304531240813426, 0.09075030976240094, 0.003958906130574537, 0.10567234056225881, 0.03319390524866343, 0.028016874154835187, 0.34929733321299955, 0.5339557519971874, 0.24184496760085752, 0.04173011205661856, 0.18114662279123053, 0.9995252060061758, 0.7081635001318585, 0.29137977349175426, 0.2714308877942138, 0.1702193703116256, 0.11731334980936359, 0.4399250617851135, 0.9953157661301107, 0.9992327343979837, 0.9947766432757097, 0.9995409009497049, 0.0013682015022763547, 0.009577410515934482, 0.9888187714308683, 0.004044222202991402, 0.9940698174952868, 0.0008088444405982806, 0.996119861649164, 0.9838204578031731, 0.9979091310938087, 0.021996417736590397, 0.6760663686687343, 0.022643371199431293, 0.2788369424844253, 0.995274555977669, 0.026264638820478397, 0.9335885253460957, 0.04059080544983025, 0.9970897886439072, 0.9745671720792863, 0.023590128219770922, 0.14184167443802417, 0.20532326299769932, 0.6516781825579152, 0.4014715067761984, 0.5938432704397935, 0.9215930558337833, 0.9969183029575249, 0.9994191581951283, 0.9819764919785509, 0.9864247061143738, 0.9675527310770564, 0.988587725636035, 0.8972790421981359, 0.10212126115625193, 0.0021827649657737377, 0.9953408243928245, 0.9977234482748165, 0.1070860345881352, 0.8915814789866088, 0.8866057952656716, 0.10746736912311171, 0.997422357884027, 0.9978595482937318, 0.23354902705362696, 0.5934892922774521, 0.006411149762256427, 0.16485813674373667, 0.6572304846578192, 0.3417855501837339, 0.004187442239008197, 0.9924238106449427, 0.9885891069078061, 0.9984112049284134, 0.5745825799480487, 0.42446042611191115, 0.3740761441859475, 0.6246365803859689, 0.9881702537067467, 0.9970164920839768, 0.028745204774237466, 0.9687134008918026, 0.2990589771785455, 0.6909293610676741, 0.9682649985916962, 0.991289056174894, 0.9988187434429388, 0.9981351021565407, 0.999094186941016, 0.017985508715744402, 0.07769739765201582, 0.9035919578789987, 0.000371037720742404, 0.03265131942533155, 0.061963299363981476, 0.5294708274994105, 0.06233433708472388, 0.1298632022598414, 0.0460086773720581, 0.13246046630503824, 0.0051945280903936564, 0.000371037720742404, 0.9970133655509612, 0.9975742322349195, 0.9905324712083879, 0.0021393789874911188, 0.006418136962473357, 0.10758923471236116, 0.8909143646356924, 0.03018904248202173, 0.26699659649684154, 0.14702455754231364, 0.011369899116605587, 0.04940025133421738, 0.026660453101006204, 0.24935364959176393, 0.03410969734981676, 0.18466284427314592, 0.9966470649796948, 0.9982949279061298, 0.9862017969915575, 0.9334606352375098, 0.06555201090151051, 0.9593187950633216, 0.99746489334316, 0.0020801936519249755, 0.025222348029590325, 0.2298613985377098, 0.2930472807149309, 0.32919064541712734, 0.014561355563474827, 0.08398781869647089, 0.02158200913872162, 0.9373049221160596, 0.8925479079855432, 0.9654255108876354, 0.8886582784480718, 0.9829726782343657, 0.015407095270131123, 0.0022289105294216647, 0.15305185635362098, 0.27489896529533864, 0.5691151551789984, 0.9974916160566603, 0.9594927970006489, 0.0382317181324166, 0.11829014375780357, 0.8811099169651778, 0.9983393074628889, 0.9949558375760794, 0.5337261211299867, 0.4648582345325691, 0.7412925132887848, 0.1548759287023102, 0.10348527963290727, 0.9726816075756383, 0.02651499360679645, 0.9948776098504161, 0.03602625618767875, 0.9624157010137037, 0.9956929374392854, 0.9984331652558194, 0.9996291566562757, 0.9860093334040704, 0.013394843774545862, 0.9966620174733376, 0.005694478782309042, 0.0886711696102408, 0.005287730297858397, 0.041081596929515234, 0.04636932722737363, 0.026438651489291982, 0.3140098299958986, 0.025218406035940045, 0.411222717779603, 0.035387118147206194, 0.9980579085134343, 0.3543199742233406, 0.25221987638793064, 0.02331052461995662, 0.08065441518504991, 0.2895167157798612, 0.996514093800492, 0.01867925923212749, 0.9783262022826773, 0.9966560618401694, 0.9949229944696313, 0.10124310252077776, 0.8006928395181092, 0.09780665256576442, 0.9980298374739223, 0.13753883929093036, 0.8252330357455822, 0.8982936033424385, 0.09861934547434886, 0.9985944957176418, 0.9670298225648535, 0.9967754902080318, 0.9469132505667, 0.052385256859082144, 0.9964439285635112, 0.21883007607754712, 0.7798088346409828, 0.9976401551526772, 0.06112823385245171, 0.9372995857375929, 0.9575378123008125, 0.040216588116634124, 0.8280939286706117, 0.16142978498452393, 0.009706221249069476, 0.9950370991271357, 0.9212266500415733, 0.07691455901675374, 0.9960333878616268, 0.9935410898082482, 0.050278553028253584, 0.038448305256899795, 0.907971516451403, 0.9954400861634776, 0.9709410783679745, 0.027890587529421168, 0.7597947813631376, 0.2397487159845341, 0.9928867418000402, 0.022036569281353724, 0.01928199812118451, 0.9576725733521639, 0.9385109486888625, 0.9977656600863264, 0.9991758904870667, 0.9975457930069286, 0.05467627911035623, 0.9434836999973099, 0.9978069504631858, 0.9980460514663082, 0.9983930297739125, 0.07219306052870862, 0.9273249465096093, 0.9981018117973716, 0.2838798276518752, 0.7153063432725005, 0.9299026996493531, 0.06939572385442934, 0.9936948124654948, 0.25051108550516715, 0.05896480614600939, 0.12436213659885616, 0.5657047765401991, 0.1148228828780408, 0.00021542754761358498, 0.08617101904543399, 0.02165046853516529, 0.23966314672011327, 0.03759210705857058, 0.4997919104635171, 0.14549173053542824, 0.04018343033835637, 0.011546962740907003, 0.008313813173453043, 0.7948929150840381, 0.06391691820655628, 0.04616221870473508, 0.8877349750910593, 0.9861406082942283, 0.9709830959190622, 0.9156141786403472, 0.8981353705598749, 0.09994923402782308, 0.9966415877310211, 0.708942668337642, 0.02128601839879492, 0.18093115638975682, 0.08810046503945676, 0.8786051344967645, 0.12071270543520765, 0.9976770372777273, 0.9970762264976303, 0.9968459600201961, 0.4253913941574253, 0.039413260161550584, 0.01630893523926231, 0.008154467619631156, 0.5110133041635524, 0.99632891809217, 0.9967774434188625, 0.9995532111023081, 0.1598375175433353, 0.2577379970386282, 0.0013319793128611275, 0.580076990751021, 0.9349496471905882, 0.06401937669778635, 0.9771131237866326, 0.9972302685104383, 0.9261529714223202, 0.04919127503891445, 0.0237475120877518, 0.9980178763861154, 0.5299470563128975, 0.1826391931099121, 0.2427854334111683, 0.04437618949056097, 0.9928768014173894, 0.002564006608330264, 0.034186754777736854, 0.19856806733402155, 0.2997038835514931, 0.21851034095436803, 0.2048356390432733, 0.004273344347217107, 0.03732054063236273, 0.7761360475452826, 0.22343310459636925, 0.9953128212142397, 0.43275264100062333, 0.2705469127613515, 0.29625499044455683, 0.2025846883705576, 0.7231642867679715, 0.07401605664418208, 0.9375263724205285, 0.9971751051244296, 0.9921841953367735, 0.9983022676623445, 0.9858778376487659, 0.9979011387949323, 0.9977260196739502, 0.03290776523543333, 0.07767418460976157, 0.06077560246183634, 0.11621481056116997, 0.002371730827778979, 0.18203034103203664, 0.050399280090303304, 0.47731082909051953, 0.4596514565525177, 0.010242929393927971, 0.06401830871204982, 0.2880823892042242, 0.1766905320452575, 0.9910660802591755, 0.9701091538596786, 0.02856622950116839, 0.9393243782076982, 0.14270128635410026, 0.24477957878258072, 0.3822727889923707, 0.002083230457724091, 0.01874907411951682, 0.20832304577240912, 0.9955649636331659, 0.2714103929403911, 0.18509980821222075, 0.2880485779482312, 0.25477220793255106, 0.9986919080875856, 0.30545429772589994, 0.3346999219762521, 0.359612861152478, 0.02175612860323876, 0.3232884373147935, 0.08053584447865576, 0.08587945501278459, 0.047710808340435874, 0.440466182598904, 0.9966193116500952, 0.6856833261692775, 0.03286022329884717, 0.09200862523677207, 0.1862079320268006, 0.41654998238389684, 0.37571174881684816, 0.1960235211218338, 0.014054554087631989, 0.011787690525110701, 0.9738445864591456, 0.9955404442390754, 0.23502994474907982, 0.034904650116659684, 0.16871906047278326, 0.044604803452041195, 0.06519775192633473, 0.0011926418035305133, 0.0011926418035305133, 0.08833500291482668, 0.3608934097483333, 0.048270786898961096, 0.6412335214191536, 0.09462171295534987, 0.20213392013939957, 0.013027627146026432, 0.0006856645866329701, 0.9969960386810702, 0.9985426869336311, 0.9977759546636492, 0.9936890732304131, 0.9933724142650393, 0.980151411690021, 0.040201500322789775, 0.10548598802646549, 0.00927726930525918, 0.14740550118356252, 0.07146933390718183, 0.3415409514602824, 0.2628559636490101, 0.021303359145409966, 0.9985774800804226, 0.9961159285965262, 0.2860270208573436, 0.7055333181147809, 0.9960843696869148, 0.021478794929304372, 0.08996778253406737, 0.027152438872894206, 0.01945249352087943, 0.4502441729520218, 0.014589370140659573, 0.3627079521080644, 0.014589370140659573, 0.9990596758471345, 0.9968747700086941, 0.955393520892177, 0.04326751563403984, 0.9896761346365416, 0.9960414996864456, 0.9967818667379252, 0.995511744918256, 0.9951798843252991, 0.999702220221731, 0.9942384284793628, 0.9893551668667799, 0.9981719320244151, 0.9987107598765246, 0.9988804323619133, 0.08539847358896645, 0.28181496284358926, 0.1697294662580708, 0.3768207647113144, 0.08539847358896645, 0.9962776098083259, 0.9990929531903795, 0.9963616140159293, 0.994603861718179, 0.12874549341870853, 0.14909701471513667, 0.6578850471258405, 0.06415153452134961, 0.9841941462255973, 0.9971047254299412, 0.9938193741357662, 0.42838129996022667, 0.5711750666136356, 0.3412528633237667, 0.41223345889511015, 0.0013650114532950668, 0.05869549249168787, 0.18700656910142416, 0.09596825237706835, 0.22959493290210023, 0.6729925546442515, 0.9949133261486703, 0.010070041229401309, 0.7224760952623409, 0.0007898071552471614, 0.23871921267345453, 0.013229269850389953, 0.0011847107328707422, 0.011649655539895632, 0.0015796143104943228, 0.99741363533402, 0.9242726971558819, 0.07451703498993674, 0.9854444312586743, 0.9972010213980524, 0.9865109106960176, 0.970134895481888, 0.4446146381440718, 0.8392238269840079, 0.006611173225293419, 0.9916759837940129, 0.9980050023640755, 0.9201883436850908, 0.07827689123975252, 0.035882397551879455, 0.9579923119982912, 0.006093237320130474, 0.9986931920130505, 0.9958912698535859, 0.9967371501799214, 0.9980796498477712, 0.9975592054102642, 0.9928076272722374, 0.9972366481054676, 0.9953813143496613, 0.990266517589199, 0.9972329425362122, 0.9904625087129931, 0.10412147772483427, 0.1166473697819572, 0.750770655173805, 0.02818325712852657, 0.996386810877623, 0.9933914328461395, 0.9913010986039322, 0.9980844312221306, 0.995155062762597, 0.064094101117675, 0.925803682810861, 0.019127347363003675, 0.09181126734241764, 0.19127347363003674, 0.26905801957291836, 0.36724506936967055, 0.05993235507074485, 0.9993489133570136, 0.9926405837423793, 0.09172669410258098, 0.9063841129119442, 0.9972111931055991, 0.00479951656593132, 0.9950997680030937, 0.9953964034238739, 0.977128752344761, 0.40392744055315666, 0.35652116537569617, 0.024027838103644367, 0.21495174087314287, 0.9976831747104017, 0.9955365941874893, 0.9965253932668531, 0.051894810594859, 0.27430114171568326, 0.011861670993110628, 0.0415158484758872, 0.6182896005158915, 0.9776031707783767, 0.960382923648284, 0.03860439972007048, 0.11184605052004509, 0.1450141896397826, 0.5434175351129087, 0.1997801867909771, 0.9936824694049677, 0.9932062554011477, 0.877207534273394, 0.03208013164908695, 0.09071840507323768, 0.9904464109790528, 0.005611594396481886, 0.9833116476754803, 0.9949314518080646, 0.9993854192770372, 0.9973724099523326, 0.9904090144530571, 0.41957651066420265, 0.3436186940784418, 0.23013409906043011, 0.005877688188183874, 0.9927718436183279, 0.9963579679478406, 0.9928128129860296, 0.9978343887440638, 0.9578444794084654, 0.04205170885207897, 0.9964735742249414, 0.996337128212446, 0.9930495430738657, 0.09884723349843923, 0.900552936345077, 0.996535092421826, 0.9854449709020463, 0.9728032567552354, 0.2945940117770397, 0.6139308276928334, 0.09046587763231928, 0.9442564644482901, 0.2657108382438214, 0.530790534354047, 0.20322776701783965, 0.9783018892222721, 0.020381289358797336, 0.10888918281530865, 0.07410513830486284, 0.056713116049639925, 0.15350350077435873, 0.41967705876733546, 0.056713116049639925, 0.13081825435450276, 0.02634384279527821, 0.3117354730774588, 0.6585960698819553, 0.6538667206165385, 0.2291058104090767, 0.06753256670460388, 0.001893436449661791, 0.04607362027510358, 0.9989842348415755, 0.9964367886474841, 0.9957616991426167, 0.99869653496642, 0.9961622921037135, 0.07635360287776238, 0.0025116316736106046, 0.8680199063998251, 0.0527442651458227, 0.061514267730891185, 0.04245350871568546, 0.006064786959383638, 0.8889244886182304, 0.9986444816755203, 0.07076152375442618, 0.3656012060645352, 0.047868089598582415, 0.15054167308539687, 0.2018784648288041, 0.0166497702951591, 0.04370564702479264, 0.10197984305784949, 0.9986399691892742, 0.0023951387328163625, 0.3640610873880871, 0.024749766905769077, 0.2073125636515496, 0.051628546018486036, 0.2850215092051471, 0.06466874578604179, 0.9966725717866457, 0.04677520372481396, 0.1270726367857446, 0.3332733265392995, 0.19723544237296553, 0.2950735768307014, 0.9972051660514006, 0.25361881605492625, 0.004345493733028332, 0.2986539329244926, 0.12759949779710467, 0.24334764904958658, 0.04819547594813241, 0.023702693089245448, 0.9934713505746053, 0.9974009907516287, 0.007964101652725736, 0.9891414252685364, 0.9901744651399736, 0.998168655355225, 0.9981057425913396, 0.17758968823621735, 0.8220249963055212, 0.9982342929231395, 0.07412252575402838, 0.056092722192237696, 0.8694371939796842], \"Term\": [\"\\uac00\\uac70\\ub3c4\", \"\\uac00\\uad6c\", \"\\uac00\\uad6c\", \"\\uac00\\ub2a5\", \"\\uac00\\ub2a5\", \"\\uac00\\ub2a5\", \"\\uac00\\ub2a5\", \"\\uac00\\ub2a5\", \"\\uac00\\ub2a5\", \"\\uac00\\ub2a5\", \"\\uac00\\uc785\", \"\\uac00\\uc815\", \"\\uac00\\uc815\", \"\\uac00\\uc871\", \"\\uac00\\uc871\", \"\\uac00\\uce58\", \"\\uac00\\uce58\", \"\\uac00\\uce58\", \"\\uac10\\ub3c5\", \"\\uac10\\uc0c1\", \"\\uac10\\uc18c\", \"\\uac10\\uc18c\", \"\\uac10\\uc18c\", \"\\uac10\\uc5fc\", \"\\uac10\\uc5fc\\ubcd1\", \"\\uac15\", \"\\uac15\\uc810\\uae30\", \"\\uac15\\uc88c\", \"\\uac1c\\uad00\", \"\\uac1c\\uad00\", \"\\uac1c\\uad50\", \"\\uac1c\\ub150\", \"\\uac1c\\ubc1c\", \"\\uac1c\\ubc1c\", \"\\uac1c\\ubc1c\", \"\\uac1c\\ubc1c\", \"\\uac1c\\uc120\", \"\\uac1c\\uc120\", \"\\uac1c\\uc120\", \"\\uac1c\\uc120\", \"\\uac1c\\uc120\", \"\\uac1c\\uc120\", \"\\uac1c\\uc124\", \"\\uac1c\\uc124\", \"\\uac1c\\uc124\", \"\\uac1c\\uc124\", \"\\uac1c\\uc7a5\", \"\\uac1c\\ucd5c\", \"\\uac1c\\ucd5c\", \"\\uac1c\\ucd5c\", \"\\uac1c\\ucd5c\", \"\\uac1c\\ucd5c\", \"\\uac1c\\ucd5c\", \"\\uac1c\\ud56d\", \"\\uac2f\\ubc8c\", \"\\uac74\\uac15\", \"\\uac74\\uac15\", \"\\uac74\\ubb3c\", \"\\uac74\\ubb3c\", \"\\uac74\\uc758\", \"\\uac74\\ucd95\", \"\\uac77\\uae30\", \"\\uac80\\uc0ac\", \"\\uaca9\\ucc28\", \"\\uaca9\\ucc28\", \"\\uacb0\\uc815\", \"\\uacb0\\uc815\", \"\\uacbd\\uad00\", \"\\uacbd\\uae30\", \"\\uacbd\\ub0a8\", \"\\uacbd\\ubd81\", \"\\uacbd\\uc0c1\\ubd81\\ub3c4\", \"\\uacbd\\uc601\", \"\\uacbd\\uc6b0\", \"\\uacbd\\uc6b0\", \"\\uacbd\\uc6b0\", \"\\uacbd\\uc6b0\", \"\\uacbd\\uc7c1\", \"\\uacbd\\uc81c\", \"\\uacbd\\uc81c\", \"\\uacbd\\uc81c\", \"\\uacbd\\uc81c\", \"\\uacbd\\uc81c\", \"\\uacc4\\uce35\", \"\\uacc4\\ud68d\", \"\\uacc4\\ud68d\", \"\\uacc4\\ud68d\", \"\\uacc4\\ud68d\", \"\\uacc4\\ud68d\", \"\\uacc4\\ud68d\", \"\\uacc4\\ud68d\", \"\\uacc4\\ud68d\", \"\\uacc4\\ud68d\", \"\\uace0\\ub4f1\\ud559\\uad50\", \"\\uace0\\ub839\", \"\\uace0\\ud5a5\", \"\\uacf3\", \"\\uacf3\", \"\\uacf5\\uac04\", \"\\uacf5\\uac04\", \"\\uacf5\\uac04\", \"\\uacf5\\uae09\", \"\\uacf5\\uae09\", \"\\uacf5\\uae09\", \"\\uacf5\\ub3d9\", \"\\uacf5\\ub3d9\", \"\\uacf5\\ub3d9\", \"\\uacf5\\ub3d9\", \"\\uacf5\\ub3d9\\uccb4\", \"\\uacf5\\ub9bd\", \"\\uacf5\\ubaa8\", \"\\uacf5\\ubaa8\\uc804\", \"\\uacf5\\uc57d\", \"\\uacf5\\uc5f0\", \"\\uacf5\\uc5f0\", \"\\uacf5\\uc6d0\", \"\\uacf5\\uc6d0\", \"\\uacf5\\uc6d0\", \"\\uacf5\\uc720\", \"\\uacf5\\uc720\", \"\\uacf5\\uc720\", \"\\uacf5\\uc720\", \"\\uacf5\\uc9c1\\uc790\", \"\\uacf5\\ud1b5\", \"\\uacf5\\ud56d\", \"\\uacfc\\ubaa9\", \"\\uacfc\\ubaa9\", \"\\uacfc\\uc7a5\", \"\\uacfc\\uc815\", \"\\uacfc\\uc815\", \"\\uacfc\\uc815\", \"\\uacfc\\uc815\", \"\\uacfc\\ud559\\uad00\", \"\\uad00\\uacc4\\uc790\", \"\\uad00\\uacc4\\uc790\", \"\\uad00\\uacc4\\uc790\", \"\\uad00\\uacc4\\uc790\", \"\\uad00\\uacc4\\uc790\", \"\\uad00\\uacc4\\uc790\", \"\\uad00\\uacc4\\uc790\", \"\\uad00\\uad11\", \"\\uad00\\uad11\", \"\\uad00\\uad11\\uac1d\", \"\\uad00\\uad11\\uac1d\", \"\\uad00\\uad11\\uac1d\", \"\\uad00\\uad11\\ubd80\", \"\\uad00\\ub0b4\", \"\\uad00\\ub828\", \"\\uad00\\ub828\", \"\\uad00\\ub828\", \"\\uad00\\ub828\", \"\\uad00\\ub828\", \"\\uad00\\ub828\", \"\\uad00\\ub828\", \"\\uad00\\ub828\", \"\\uad00\\ub828\", \"\\uad00\\ub9ac\", \"\\uad00\\ub9ac\", \"\\uad00\\ub9ac\", \"\\uad00\\uc2ec\", \"\\uad00\\uc2ec\", \"\\uad00\\uc2ec\", \"\\uad00\\uc2ec\", \"\\uad00\\uc2ec\", \"\\uad00\\uc2ec\", \"\\uad00\\uc2ec\", \"\\uad00\\uc81c\", \"\\uad00\\uce21\", \"\\uad11\\uc5ed\", \"\\uad11\\uc7a5\", \"\\uad11\\uc7a5\", \"\\uad11\\uc7a5\", \"\\uad11\\uc8fc\", \"\\uad50\\uba85\", \"\\uad50\\uc0ac\", \"\\uad50\\uc2e4\", \"\\uad50\\uc721\", \"\\uad50\\uc721\", \"\\uad50\\uc721\", \"\\uad50\\uc721\", \"\\uad50\\uc721\", \"\\uad50\\uc721\", \"\\uad50\\uc721\", \"\\uad50\\uc721\\uac10\", \"\\uad50\\uc721\\ubd80\", \"\\uad50\\uc721\\uccad\", \"\\uad50\\uc721\\uccad\", \"\\uad50\\uc7a5\", \"\\uad6c\\uc785\", \"\\uad6c\\ucd95\", \"\\uad6c\\ucd95\", \"\\uad6c\\ucd95\", \"\\uad6d\\ub0b4\", \"\\uad6d\\ub0b4\", \"\\uad6d\\ubbfc\", \"\\uad6d\\ubbfc\", \"\\uad6d\\ubbfc\", \"\\uad6d\\ube44\", \"\\uad6d\\uc81c\", \"\\uad6d\\uc81c\", \"\\uad6d\\uc81c\", \"\\uad6d\\ud1a0\\ubd80\", \"\\uad6d\\ud1a0\\ubd80\", \"\\uad6d\\ud68c\", \"\\uad70\", \"\\uad70\", \"\\uad70\", \"\\uad70\", \"\\uad70\\ubbfc\", \"\\uad70\\ubbfc\", \"\\uad70\\ubbfc\", \"\\uad70\\ube44\", \"\\uad70\\uc218\", \"\\uad70\\uc218\", \"\\uad70\\uc218\", \"\\uad70\\uc218\", \"\\uad70\\uc815\", \"\\uad70\\uccad\", \"\\uad70\\uccad\", \"\\uad70\\uccad\", \"\\uad74\", \"\\uadc0\\ub18d\", \"\\uaddc\\ubaa8\", \"\\uaddc\\ubaa8\", \"\\uaddc\\ubaa8\", \"\\uadf8\\ub9bc\", \"\\uadf9\\ub2e8\", \"\\uadf9\\ub300\", \"\\uadfc\\ub300\", \"\\uadfc\\ubb34\", \"\\uae00\\ub85c\\ubc8c\", \"\\uae08\\uc624\\ub3c4\", \"\\uae09\", \"\\uae09\", \"\\uae30\", \"\\uae30\", \"\\uae30\\uad00\", \"\\uae30\\uad00\", \"\\uae30\\uad00\", \"\\uae30\\uad00\", \"\\uae30\\uad6c\", \"\\uae30\\uae08\", \"\\uae30\\uae08\", \"\\uae30\\ub150\", \"\\uae30\\ub85d\", \"\\uae30\\ubc18\", \"\\uae30\\ubc18\", \"\\uae30\\ubc18\", \"\\uae30\\uc220\", \"\\uae30\\uc220\", \"\\uae30\\uc5b5\", \"\\uae30\\uc5c5\", \"\\uae30\\uc790\", \"\\uae30\\uc790\", \"\\uae30\\uc790\", \"\\uae30\\uc790\", \"\\uae30\\uc790\", \"\\uae30\\uc790\", \"\\uae30\\uc790\", \"\\uae30\\uc790\", \"\\uae30\\uc790\", \"\\uae30\\uc790\", \"\\uae30\\ud0c1\", \"\\uae38\", \"\\uae38\", \"\\uae40\", \"\\uae40\", \"\\uae40\", \"\\uae40\\uc6d0\", \"\\uae40\\uce58\", \"\\uaf43\", \"\\ub098\\ub77c\", \"\\ub098\\ub77c\", \"\\ub0a0\", \"\\ub0a0\", \"\\ub0a0\", \"\\ub0a0\", \"\\ub0a8\\ub2e8\", \"\\ub0a8\\uc545\\uc2e0\\ub3c4\\uc2dc\", \"\\ub0b4\\ub144\", \"\\ub0b4\\ub144\", \"\\ub0b4\\ub144\", \"\\ub0b4\\ub144\", \"\\ub0b4\\ub144\", \"\\ub124\\ud2b8\\uc6cc\\ud06c\", \"\\ub178\\ub3d9\", \"\\ub178\\uc608\", \"\\ub178\\uc778\", \"\\ub17c\\uc758\", \"\\ub17c\\uc758\", \"\\ub18d\\uac00\", \"\\ub18d\\uc0b0\\ubb3c\", \"\\ub18d\\uc5c5\", \"\\ub18d\\uc5c5\\uc778\", \"\\ub18d\\uc7a5\", \"\\ub18d\\ucd0c\", \"\\ub18d\\ucd0c\", \"\\ub18d\\ud611\", \"\\ub274\\ub51c\", \"\\ub274\\uc2a41\", \"\\ub2e4\\ub9ac\", \"\\ub2e4\\uc591\", \"\\ub2e4\\uc591\", \"\\ub2e4\\uc591\", \"\\ub2e4\\uc591\", \"\\ub2e4\\uc591\", \"\\ub2e4\\uc591\", \"\\ub2e4\\uc591\", \"\\ub2e8\\uc7a5\", \"\\ub2e8\\uc9c0\", \"\\ub2e8\\uc9c0\", \"\\ub2e8\\uccb4\", \"\\ub2e8\\uccb4\", \"\\ub2e8\\uccb4\", \"\\ub2e8\\uccb4\", \"\\ub2e8\\uccb4\", \"\\ub2ec\", \"\\ub2ec\", \"\\ub2ec\", \"\\ub2ec\", \"\\ub2ec\", \"\\ub2f9\\uc2dc\", \"\\ub2f9\\uc2dc\", \"\\ub300\\uad11\", \"\\ub300\\uad6c\", \"\\ub300\\uba74\", \"\\ub300\\uc0c1\", \"\\ub300\\uc0c1\", \"\\ub300\\uc0c1\", \"\\ub300\\uc0c1\", \"\\ub300\\uc0c1\", \"\\ub300\\uc548\", \"\\ub300\\ud1b5\\ub839\", \"\\ub300\\ud1b5\\ub839\", \"\\ub300\\ud45c\", \"\\ub300\\ud45c\", \"\\ub300\\ud45c\", \"\\ub300\\ud45c\", \"\\ub300\\ud45c\", \"\\ub300\\ud45c\", \"\\ub300\\ud559\", \"\\ub300\\ud559\", \"\\ub300\\ud68c\", \"\\ub354\\ubd88\\uc5b4\\ubbfc\\uc8fc\\ub2f9\", \"\\ub355\\ubd84\", \"\\ub355\\ubd84\", \"\\ub355\\ubd84\", \"\\ub370\\uc774\", \"\\ub370\\uc774\\ud130\", \"\\ub3c4\", \"\\ub3c4\", \"\\ub3c4\", \"\\ub3c4\\uc11c\\uad00\", \"\\ub3c4\\uc2dc\", \"\\ub3c4\\uc2dc\", \"\\ub3c4\\uc2dc\", \"\\ub3c4\\uc2dc\", \"\\ub3c4\\uc2dc\\ubbfc\", \"\\ub3c4\\uc57d\", \"\\ub3c4\\ucfc4\", \"\\ub3c5\\ub3c4\", \"\\ub3c5\\ub9bd\", \"\\ub3cc\\ubd04\", \"\\ub3d9\\ucc3d\", \"\\ub4dc\\ub860\", \"\\ub4dc\\ub860\", \"\\ub4f1\\uae09\", \"\\ub4f1\\ub85d\", \"\\ub4f1\\uc7a5\", \"\\ub4f1\\uc7a5\", \"\\ub4f1\\uc7ac\", \"\\ub514\\uc790\\uc778\", \"\\ub514\\uc790\\uc778\", \"\\ub514\\uc9c0\\ud138\", \"\\ub538\\uae30\", \"\\ub545\", \"\\ub54c\", \"\\ub54c\", \"\\ub54c\", \"\\ub9c8\\ub828\", \"\\ub9c8\\ub828\", \"\\ub9c8\\ub828\", \"\\ub9c8\\ub828\", \"\\ub9c8\\ub828\", \"\\ub9c8\\ub828\", \"\\ub9c8\\ub828\", \"\\ub9c8\\ub828\", \"\\ub9c8\\ub828\", \"\\ub9c8\\uc744\", \"\\ub9c8\\uc744\", \"\\ub9d0\", \"\\ub9d0\", \"\\ub9d0\", \"\\ub9d0\", \"\\ub9d0\", \"\\ub9d0\", \"\\ub9d0\", \"\\ub9d0\", \"\\ub9d0\", \"\\ub9db\", \"\\ub9db\", \"\\ub9de\\uc774\", \"\\ub9de\\uc774\", \"\\ub9e8\\ubc1c\", \"\\uba74\\uc801\", \"\\uba74\\uc801\", \"\\uba85\\uc2dc\", \"\\uba85\\ud488\", \"\\ubaa8\\ube4c\\ub9ac\\ud2f0\", \"\\ubaa8\\uc9d1\", \"\\ubaa9\\ud3ec\", \"\\ubaa9\\ud3ec\\ub300\", \"\\ubaa9\\ud3ec\\ub300\\ud559\\uad50\", \"\\ubaa9\\ud3ec\\ubb38\\ud559\\uad00\", \"\\ubaa9\\ud3ec\\uc2dc\", \"\\ubaa9\\ud3ec\\uc2dc\", \"\\ubaa9\\ud3ec\\uc2dc\", \"\\ubaa9\\ud3ec\\uc2dc\", \"\\ubaa9\\ud3ec\\uc2dc\\uc7a5\", \"\\ubaa9\\ud3ec\\uc2dc\\uc7a5\", \"\\ubaa9\\ud3ec\\uc2dc\\uc7a5\", \"\\ubaa9\\ud3ec\\ud574\\uc591\\ub300\\ud559\\uad50\", \"\\ubb34\\uc0b0\", \"\\ubb34\\uc548\", \"\\ubb34\\uc548\", \"\\ubb34\\uc548\", \"\\ubb34\\uc548\", \"\\ubb34\\uc548\", \"\\ubb34\\uc548\\uad70\", \"\\ubb34\\uc548\\uad70\", \"\\ubb34\\uc548\\uad70\", \"\\ubb34\\uc548\\uad70\", \"\\ubb34\\uc548\\uad70\", \"\\ubb38\", \"\\ubb38\", \"\\ubb38\\uc81c\", \"\\ubb38\\uc81c\", \"\\ubb38\\uc81c\", \"\\ubb38\\uc81c\", \"\\ubb38\\uc81c\", \"\\ubb38\\ud559\", \"\\ubb38\\ud559\\uad00\", \"\\ubb38\\ud559\\uc778\", \"\\ubb38\\ud56d\", \"\\ubb38\\ud654\", \"\\ubb38\\ud654\", \"\\ubb38\\ud654\", \"\\ubb38\\ud654\", \"\\ubb38\\ud654\", \"\\ubb38\\ud654\\uc720\\uc0b0\", \"\\ubb3c\", \"\\ubbf8\\uad6d\", \"\\ubbf8\\ub780\", \"\\ubbf8\\ub798\", \"\\ubbf8\\ub798\", \"\\ubbf8\\ub798\", \"\\ubbf8\\ub798\", \"\\ubbf8\\ub798\", \"\\ubbf8\\uc220\", \"\\ubbf8\\uc220\\uad00\", \"\\ubbfc\", \"\\ubbfc\\uac04\", \"\\ubbfc\\uac04\", \"\\ubbfc\\uac04\", \"\\ubbfc\\uc6d0\", \"\\ubbfc\\uc8fc\", \"\\ubbfc\\uc8fc\", \"\\ubc14\\ub2e4\", \"\\ubc15\\ub78c\\ud68c\", \"\\ubc15\\ubb3c\\uad00\", \"\\ubc15\\uc6b0\\ub7c9\", \"\\ubc15\\ucc28\", \"\\ubc16\", \"\\ubc16\", \"\\ubc16\", \"\\ubc16\", \"\\ubc18\\ub300\", \"\\ubc18\\ub300\", \"\\ubc1c\", \"\\ubc1c\", \"\\ubc1c\", \"\\ubc1c\\uad74\", \"\\ubc1c\\uad74\", \"\\ubc1c\\uad74\", \"\\ubc1c\\uad74\", \"\\ubc1c\\uad74\", \"\\ubc1c\\uc0dd\", \"\\ubc1c\\uc0dd\", \"\\ubc1c\\uc0dd\", \"\\ubc1c\\uc804\", \"\\ubc1c\\uc804\", \"\\ubc1c\\uc804\", \"\\ubc1c\\uc804\", \"\\ubc1c\\uc804\\uc18c\", \"\\ubc1c\\uc871\", \"\\ubc29\\uc548\", \"\\ubc29\\uc548\", \"\\ubc29\\uc548\", \"\\ubc29\\uc548\", \"\\ubc29\\uc5ed\", \"\\ubc29\\uc81c\", \"\\ubc30\\ub2f9\\uae08\", \"\\ubc95\\uc6d0\", \"\\ubc95\\uc815\", \"\\ubcc0\\uacbd\", \"\\ubcc4\", \"\\ubcd1\\uc6d0\", \"\\ubcf4\\uac74\", \"\\ubcf4\\uac74\\uc18c\", \"\\ubcf4\\ub3c4\", \"\\ubcf4\\uc720\", \"\\ubcf4\\uc720\", \"\\ubcf4\\uc804\", \"\\ubcf4\\uc874\", \"\\ubcf4\\ud638\", \"\\ubcf4\\ud638\", \"\\ubcf4\\ud638\", \"\\ubcf5\\uc6d0\", \"\\ubcf5\\uc9c0\", \"\\ubcf5\\uc9c0\", \"\\ubcf5\\uc9c0\", \"\\ubcf5\\ud569\", \"\\ubcf5\\ud569\", \"\\ubcf8\\ubd80\", \"\\ubcf8\\ubd80\", \"\\ubcf8\\ubd80\", \"\\ubcf8\\ubd80\", \"\\ubd09\", \"\\ubd80\\ubaa8\", \"\\ubd80\\ubb38\", \"\\ubd80\\ubb38\", \"\\ubd80\\uc0b0\", \"\\ubd80\\uc7a5\", \"\\ubd84\\uad50\", \"\\ubd84\\uc57c\", \"\\ubd84\\uc57c\", \"\\ubd84\\uc57c\", \"\\ubd84\\uc57c\", \"\\ubd84\\uc591\", \"\\ubd84\\uc7ac\", \"\\ube44\\ubc00\", \"\\uc0ac\\uac74\", \"\\uc0ac\\uace0\", \"\\uc0ac\\ub78c\", \"\\uc0ac\\ub78c\", \"\\uc0ac\\uc5c5\", \"\\uc0ac\\uc5c5\", \"\\uc0ac\\uc5c5\\ube44\", \"\\uc0ac\\uc5c5\\ube44\", \"\\uc0ac\\uc6a9\", \"\\uc0ac\\uc6a9\", \"\\uc0ac\\uc6a9\", \"\\uc0ac\\uc6a9\", \"\\uc0ac\\uc6a9\", \"\\uc0ac\\ud68c\", \"\\uc0ac\\ud68c\", \"\\uc0ac\\ud68c\", \"\\uc0ac\\ud68c\", \"\\uc0ac\\ud68c\", \"\\uc0ac\\ud68c\", \"\\uc0b0\\ub2e8\", \"\\uc0b0\\ub9bc\", \"\\uc0b0\\uc5c5\", \"\\uc0c1\\uacf5\\uc778\", \"\\uc0c1\\ub2f4\", \"\\uc0c1\\ub2f4\\uc2e4\", \"\\uc0c1\\ud488\", \"\\uc0c1\\ud488\", \"\\uc0c1\\ud488\", \"\\uc0c1\\ud488\", \"\\uc0c1\\ud638\", \"\\uc0c1\\ud658\", \"\\uc0dd\\uac01\", \"\\uc0dd\\uac01\", \"\\uc0dd\\uac01\", \"\\uc0dd\\uac01\", \"\\uc0dd\\ubb3c\", \"\\uc0dd\\uc0b0\\uc790\", \"\\uc0dd\\ud0dc\", \"\\uc0dd\\ud0dc\", \"\\uc0dd\\ud65c\", \"\\uc0dd\\ud65c\", \"\\uc0dd\\ud65c\", \"\\uc0dd\\ud65c\", \"\\uc11c\\ube44\\uc2a4\", \"\\uc11c\\ube44\\uc2a4\", \"\\uc11c\\ube44\\uc2a4\", \"\\uc11c\\uc601\\uc11c\", \"\\uc11c\\uc6b8\", \"\\uc11c\\uc6b8\", \"\\uc120\\uac70\", \"\\uc120\\ubc15\", \"\\uc120\\ubc1c\", \"\\uc120\\uc218\", \"\\uc120\\uc815\", \"\\uc120\\uc815\", \"\\uc120\\uc815\", \"\\uc120\\ud3ec\\uc2dd\", \"\\uc124\\ube44\", \"\\uc12c\", \"\\uc12c\", \"\\uc131\\uc7a5\", \"\\uc131\\uc7a5\", \"\\uc131\\uc7a5\", \"\\uc138\\uacc4\", \"\\uc138\\uacc4\", \"\\uc138\\ub300\", \"\\uc138\\uc6d4\\ud638\", \"\\uc13c\\ud130\", \"\\uc13c\\ud130\", \"\\uc13c\\ud130\", \"\\uc13c\\ud130\", \"\\uc18c\\uadf9\", \"\\uc18c\\ub144\", \"\\uc18c\\ub4dd\", \"\\uc18c\\ub4dd\", \"\\uc18c\\ub4dd\", \"\\uc18c\\ub4dd\", \"\\uc18c\\uba78\", \"\\uc18c\\uba78\", \"\\uc18c\\ubc29\", \"\\uc18c\\uc694\", \"\\uc18c\\ud504\\ud2b8\\uc6e8\\uc5b4\", \"\\uc1a1\", \"\\uc218\\ub2a5\", \"\\uc218\\ub2f9\", \"\\uc218\\ub3c4\", \"\\uc218\\ub834\", \"\\uc218\\ub9bd\", \"\\uc218\\ub9bd\", \"\\uc218\\uc0b0\", \"\\uc218\\uc0b0\", \"\\uc218\\uc5c5\", \"\\uc218\\uce59\", \"\\uc218\\ud638\", \"\\uc219\", \"\\uc219\\ubc15\", \"\\uc219\\ubc15\", \"\\uc21c\\ucc9c\", \"\\uc21c\\ucc9c\", \"\\uc21c\\ucc9c\", \"\\uc21c\\ucc9c\", \"\\uc21c\\ucc9c\\ub9cc\\uad6d\\uac00\\uc815\\uc6d0\", \"\\uc232\", \"\\uc232\\uae38\", \"\\uc2a4\\ub9c8\\ud2b8\", \"\\uc2a4\\ub9c8\\ud2b8\", \"\\uc2a4\\uce74\\uc774\", \"\\uc2a4\\ud3ec\\uce20\", \"\\uc2b5\\uc9c0\", \"\\uc2b9\", \"\\uc2dc\", \"\\uc2dc\", \"\\uc2dc\", \"\\uc2dc\", \"\\uc2dc\", \"\\uc2dc\", \"\\uc2dc\", \"\\uc2dc\", \"\\uc2dc\", \"\\uc2dc\\ub300\", \"\\uc2dc\\ub300\", \"\\uc2dc\\ub300\", \"\\uc2dc\\ub300\", \"\\uc2dc\\ubbfc\", \"\\uc2dc\\uc124\", \"\\uc2dc\\uc124\", \"\\uc2dc\\uc7a5\", \"\\uc2dc\\uc7a5\", \"\\uc2dc\\uc7a5\", \"\\uc2dc\\uc7a5\", \"\\uc2dd\\ubb3c\", \"\\uc2dd\\ud488\", \"\\uc2e0\\uace0\", \"\\uc2e0\\uc548\", \"\\uc2e0\\uc548\\uad70\", \"\\uc2e0\\uc548\\uad70\", \"\\uc2e0\\uc548\\uad70\", \"\\uc2e0\\uccad\", \"\\uc2e0\\uccad\", \"\\uc2e0\\uccad\", \"\\uc2e0\\ucd95\", \"\\uc2e0\\ud63c\\ubd80\\ubd80\", \"\\uc2e4\\uc2b5\", \"\\uc2e4\\uc2dc\", \"\\uc2e4\\uc2dc\", \"\\uc2e4\\uc2dc\", \"\\uc2e4\\uc2dc\", \"\\uc2e4\\uc99d\", \"\\uc2e4\\ucc9c\", \"\\uc2e4\\ucc9c\", \"\\uc2e4\\ucc9c\", \"\\uc2ec\\uc758\", \"\\uc544\\ub3d9\", \"\\uc544\\ub3d9\", \"\\uc544\\uc774\", \"\\uc544\\uc774\", \"\\uc544\\uc774\", \"\\uc545\", \"\\uc545\", \"\\uc545\\uc601\\ud5a5\", \"\\uc548\\uc2ec\", \"\\uc548\\uc804\", \"\\uc548\\uc88c\", \"\\uc548\\uc88c\\ub3c4\", \"\\uc548\\uc88c\\uba74\", \"\\uc555\\ud574\\uc74d\", \"\\uc591\\uc131\", \"\\uc591\\uc131\", \"\\uc591\\uc2dd\", \"\\uc591\\uc2dd\", \"\\uc5b4\\ub974\\uc2e0\", \"\\uc5b4\\ub9b0\\uc774\", \"\\uc5b4\\ub9b0\\uc774\", \"\\uc5b4\\uc120\", \"\\uc5b4\\uc120\", \"\\uc5b4\\uc5c5\", \"\\uc5b4\\ucd0c\", \"\\uc5c5\\ubb34\", \"\\uc5c5\\ubb34\", \"\\uc5c5\\ubb34\", \"\\uc5c5\\ubb34\", \"\\uc5d0\\ub108\\uc9c0\", \"\\uc5d0\\ub108\\uc9c0\", \"\\uc5ec\\uc218\", \"\\uc5ec\\uc218\", \"\\uc5ec\\uc790\", \"\\uc5ec\\ud589\", \"\\uc5ed\\uc0ac\", \"\\uc5ed\\uc0ac\", \"\\uc5f0\\uad6c\", \"\\uc5f0\\uad6c\", \"\\uc5f0\\uae08\", \"\\uc5fc\\uc804\", \"\\uc601\\ub18d\", \"\\uc601\\ub18d\", \"\\uc601\\uc5ed\", \"\\uc601\\uc5ed\", \"\\uc601\\ud1a0\", \"\\uc606\", \"\\uc608\\ubc29\", \"\\uc608\\ube44\", \"\\uc608\\uc0b0\", \"\\uc608\\uc220\", \"\\uc608\\uc220\", \"\\uc608\\uc220\", \"\\uc608\\uc815\", \"\\uc608\\uc815\", \"\\uc608\\uc815\", \"\\uc608\\uc815\", \"\\uc608\\uc815\", \"\\uc608\\uc815\", \"\\uc608\\uc815\", \"\\uc608\\uc815\", \"\\uc608\\uc815\", \"\\uc608\\uc815\", \"\\uc624\\ub8e1\", \"\\uc624\\uc804\", \"\\uc624\\ud6c4\", \"\\uc624\\ud6c4\", \"\\uc624\\ud6c4\", \"\\uc628\\ub77c\\uc778\", \"\\uc628\\ub77c\\uc778\", \"\\uc62c\\ud574\", \"\\uc62c\\ud574\", \"\\uc62c\\ud574\", \"\\uc62c\\ud574\", \"\\uc62c\\ud574\", \"\\uc62c\\ud574\", \"\\uc62c\\ud574\", \"\\uc62c\\ud574\", \"\\uc62c\\ud574\", \"\\uc644\\uacf5\", \"\\uc694\\uc591\", \"\\uc6a9\\ud488\", \"\\uc6b0\\uc218\", \"\\uc6b0\\uc218\", \"\\uc6b0\\uc704\", \"\\uc6b4\\ub3d9\", \"\\uc6b4\\uc601\", \"\\uc6b4\\uc601\", \"\\uc6b4\\uc601\", \"\\uc6b4\\uc601\", \"\\uc6b4\\uc601\", \"\\uc6b4\\uc601\", \"\\uc6b4\\uc601\", \"\\uc6b4\\uc601\", \"\\uc6b8\\ub989\\uad70\", \"\\uc6b8\\ub989\\ub3c4\", \"\\uc6d0\\uae08\", \"\\uc6e8\\ub529\", \"\\uc704\", \"\\uc704\", \"\\uc704\\uae30\", \"\\uc704\\uae30\", \"\\uc704\\uae30\", \"\\uc704\\uae30\", \"\\uc704\\uc0dd\", \"\\uc704\\uc6d0\\uc7a5\", \"\\uc704\\uc6d0\\uc7a5\", \"\\uc704\\uc6d0\\ud68c\", \"\\uc704\\uc6d0\\ud68c\", \"\\uc720\\uc0b0\", \"\\uc720\\uc77c\", \"\\uc720\\uc785\", \"\\uc720\\uc785\", \"\\uc720\\uce58\", \"\\uc720\\uce58\", \"\\uc720\\uce58\", \"\\uc721\\uc131\", \"\\uc721\\uc131\", \"\\uc721\\uc9c0\", \"\\uc758\\uacac\", \"\\uc758\\uacac\", \"\\uc758\\uacfc\", \"\\uc758\\ub8cc\", \"\\uc758\\uc6d0\", \"\\uc758\\ud68c\", \"\\uc758\\ud68c\", \"\\uc774\", \"\\uc774\\ubc88\", \"\\uc774\\ubc88\", \"\\uc774\\ubc88\", \"\\uc774\\ubc88\", \"\\uc774\\ubc88\", \"\\uc774\\ubc88\", \"\\uc774\\ubc88\", \"\\uc774\\ubc88\", \"\\uc774\\ubc88\", \"\\uc774\\ubc88\", \"\\uc774\\uc0ac\", \"\\uc774\\uc0c1\", \"\\uc774\\uc0c1\", \"\\uc774\\uc0c1\", \"\\uc774\\uc0c1\", \"\\uc774\\uc0c1\", \"\\uc774\\uc775\", \"\\uc774\\ud558\", \"\\uc774\\ud558\", \"\\uc778\\uac04\", \"\\uc778\\uacf5\", \"\\uc778\\uad6c\", \"\\uc778\\uad6c\", \"\\uc778\\uad6c\", \"\\uc778\\uad8c\", \"\\uc778\\ub3c4\\ub124\\uc2dc\\uc544\", \"\\uc778\\ub3c4\\ub124\\uc2dc\\uc544\", \"\\uc778\\ubb3c\", \"\\uc778\\ubb3c\", \"\\uc778\\uc0ac\", \"\\uc778\\uc131\", \"\\uc778\\uc6d0\", \"\\uc778\\uc7ac\", \"\\uc778\\uc7ac\", \"\\uc778\\ucc9c\", \"\\uc778\\ud504\\ub77c\", \"\\uc778\\ud504\\ub77c\", \"\\uc77c\\ubcf8\", \"\\uc77c\\ubd80\", \"\\uc77c\\ubd80\", \"\\uc77c\\uc6d0\", \"\\uc77c\\uc6d0\", \"\\uc77c\\uc790\\ub9ac\", \"\\uc77c\\uc790\\ub9ac\", \"\\uc77c\\uc790\\ub9ac\", \"\\uc77c\\uc81c\", \"\\uc784\\ub300\", \"\\uc784\\ub300\", \"\\uc784\\uc790\", \"\\uc784\\uc790\\ub3c4\", \"\\uc785\\ud559\", \"\\uc785\\ud559\", \"\\uc785\\ud559\", \"\\uc790\\uc0b4\", \"\\uc790\\uc5f0\", \"\\uc790\\uc5f0\", \"\\uc790\\uc6d0\", \"\\uc790\\uc6d0\", \"\\uc790\\uc804\\uac70\", \"\\uc790\\uce58\", \"\\uc790\\uce58\", \"\\uc790\\uce58\", \"\\uc790\\ud0dc\", \"\\uc791\\uac00\", \"\\uc791\\ud488\", \"\\uc7a0\\uc7ac\\ub825\", \"\\uc7a5\\uc560\\uc778\", \"\\uc7a5\\uc560\\uc778\", \"\\uc7a5\\ud559\", \"\\uc7a5\\ud559\\uae08\", \"\\uc7ac\\ub09c\", \"\\uc7ac\\ub2e8\", \"\\uc7ac\\ub2e8\", \"\\uc7ac\\ubc30\", \"\\uc7ac\\uc0dd\", \"\\uc7ac\\uc0dd\", \"\\uc7ac\\uc815\", \"\\uc7ac\\uc815\", \"\\uc7ac\\ud65c\", \"\\uc804\\uad6d\", \"\\uc804\\uad6d\", \"\\uc804\\uad6d\", \"\\uc804\\uad6d\", \"\\uc804\\ub0a8\", \"\\uc804\\ub0a8\", \"\\uc804\\ub0a8\", \"\\uc804\\ub0a8\", \"\\uc804\\ub0a8\", \"\\uc804\\ub0a8\", \"\\uc804\\ub0a8\", \"\\uc804\\ub0a8\\ub3c4\", \"\\uc804\\ub0a8\\ub3c4\", \"\\uc804\\ub0a8\\ub3c4\", \"\\uc804\\ub0a8\\ub3c4\", \"\\uc804\\ub0a8\\ub3c4\", \"\\uc804\\ub2ec\", \"\\uc804\\ub2ec\", \"\\uc804\\ub2ec\", \"\\uc804\\ub2ec\\uc2dd\", \"\\uc804\\ub77c\\ub0a8\\ub3c4\\uc758\\ud68c\", \"\\uc804\\ub77d\", \"\\uc804\\ub7b5\", \"\\uc804\\ub7b5\", \"\\uc804\\uba74\", \"\\uc804\\ubb38\", \"\\uc804\\ubb38\", \"\\uc804\\ubb38\", \"\\uc804\\ubb38\", \"\\uc804\\uc2dc\", \"\\uc804\\uc2dc\", \"\\uc804\\uc2dc\\uad00\", \"\\uc804\\ucd9c\", \"\\uc808\\uac10\", \"\\uc810\", \"\\uc810\", \"\\uc810\", \"\\uc810\", \"\\uc810\", \"\\uc810\\uac80\", \"\\uc811\\uc218\", \"\\uc811\\uc885\", \"\\uc815\\ubd80\", \"\\uc815\\ubd80\", \"\\uc815\\ubd80\", \"\\uc815\\ubd80\", \"\\uc815\\ube44\", \"\\uc815\\ube44\", \"\\uc815\\uc131\", \"\\uc815\\uc2e0\", \"\\uc815\\uc6d0\", \"\\uc815\\uc6d0\", \"\\uc815\\uc6d0\", \"\\uc815\\ucc29\", \"\\uc815\\ucc45\", \"\\uc815\\ucc45\", \"\\uc815\\ucc45\", \"\\uc815\\ucc45\", \"\\uc815\\ud574\\uc120\", \"\\uc81c\\uacf5\", \"\\uc81c\\uacf5\", \"\\uc81c\\uacf5\", \"\\uc81c\\uacf5\", \"\\uc81c\\uacf5\", \"\\uc81c\\uacf5\", \"\\uc81c\\uacf5\", \"\\uc81c\\uacf5\", \"\\uc81c\\ub3c4\", \"\\uc81c\\ub3c4\", \"\\uc81c\\uc815\", \"\\uc870\\uc0ac\", \"\\uc870\\uc0ac\", \"\\uc870\\uc0ac\", \"\\uc870\\uc131\", \"\\uc870\\uc131\", \"\\uc870\\uc131\", \"\\uc870\\uc625\\ud604\", \"\\uc870\\uce58\", \"\\uc870\\ud615\\ubb3c\", \"\\uc885\", \"\\uc885\\ubaa9\", \"\\uc885\\uc0ac\\uc790\", \"\\uc8fc\\uac70\", \"\\uc8fc\\ubbfc\", \"\\uc8fc\\ubbfc\", \"\\uc8fc\\ubbfc\", \"\\uc8fc\\ubbfc\", \"\\uc8fc\\ubbfc\", \"\\uc8fc\\ubbfc\", \"\\uc8fc\\ubbfc\", \"\\uc8fc\\ubbfc\", \"\\uc8fc\\uc81c\", \"\\uc8fc\\uc81c\", \"\\uc8fc\\uc81c\", \"\\uc8fc\\uc81c\", \"\\uc8fc\\uc81c\", \"\\uc8fc\\ucc28\\uc7a5\", \"\\uc8fc\\ud0dd\", \"\\uc8fc\\ud0dd\", \"\\uc8fd\\ub3c4\", \"\\uc900\\ube44\", \"\\uc900\\ube44\", \"\\uc900\\ube44\", \"\\uc900\\ube44\", \"\\uc900\\ube44\", \"\\uc900\\ube44\", \"\\uc900\\uc218\", \"\\uc99d\\uac00\", \"\\uc99d\\uac00\", \"\\uc99d\\uac00\", \"\\uc99d\\uac00\", \"\\uc9c0\\uad6c\", \"\\uc9c0\\uae09\", \"\\uc9c0\\uae09\", \"\\uc9c0\\uae09\", \"\\uc9c0\\ub09c\\ud574\", \"\\uc9c0\\ub09c\\ud574\", \"\\uc9c0\\ub09c\\ud574\", \"\\uc9c0\\ub09c\\ud574\", \"\\uc9c0\\ub09c\\ud574\", \"\\uc9c0\\ub09c\\ud574\", \"\\uc9c0\\ub2a5\", \"\\uc9c0\\ub3c4\", \"\\uc9c0\\ub3c4\", \"\\uc9c0\\ub3c4\", \"\\uc9c0\\ub3c4\", \"\\uc9c0\\ub9ac\", \"\\uc9c0\\ub9ac\", \"\\uc9c0\\ub9ac\", \"\\uc9c0\\ubc29\", \"\\uc9c0\\ubc29\", \"\\uc9c0\\ubc29\", \"\\uc9c0\\uc0c1\", \"\\uc9c0\\uc5ed\", \"\\uc9c0\\uc5ed\", \"\\uc9c0\\uc5ed\", \"\\uc9c0\\uc5ed\", \"\\uc9c0\\uc5ed\", \"\\uc9c0\\uc5ed\", \"\\uc9c0\\uc5ed\", \"\\uc9c0\\uc5ed\", \"\\uc9c0\\uc5ed\", \"\\uc9c0\\uc6d0\", \"\\uc9c0\\uc6d0\", \"\\uc9c0\\uc6d0\", \"\\uc9c0\\uc6d0\", \"\\uc9c0\\uc6d0\", \"\\uc9c0\\uc6d0\", \"\\uc9c0\\uc6d0\\uccad\", \"\\uc9c0\\uc790\\uccb4\", \"\\uc9c1\\ubb34\", \"\\uc9c1\\uc5c5\", \"\\uc9c1\\uc7a5\", \"\\uc9c4\\uc2e4\", \"\\uc9c4\\ud589\", \"\\uc9c4\\ud589\", \"\\uc9c4\\ud589\", \"\\uc9c4\\ud589\", \"\\uc9c4\\ud589\", \"\\uc9c4\\ud589\", \"\\uc9c4\\ud589\", \"\\uc9c4\\ud589\", \"\\uc9c4\\ud765\\uc6d0\", \"\\ucc29\\uacf5\", \"\\ucc38\\uac00\", \"\\ucc38\\uac00\", \"\\ucc38\\uc0ac\", \"\\ucc38\\uc5ec\", \"\\ucc38\\uc5ec\", \"\\ucc38\\uc5ec\", \"\\ucc38\\uc5ec\", \"\\ucc38\\uc5ec\", \"\\ucc38\\uc5ec\", \"\\ucc38\\uc5ec\", \"\\ucc38\\uc5ec\", \"\\ucc3d\\uc5c5\", \"\\ucc3d\\uc758\", \"\\ucc3d\\ucd9c\", \"\\ucc3d\\ucd9c\", \"\\ucc45\\uc784\", \"\\ucc9c\\uc0ac\", \"\\ucc9c\\uc77c\\uc5fc\", \"\\ucca0\\uc0c8\", \"\\ucca8\\ub2e8\", \"\\uccad\\ub144\", \"\\uccad\\ub834\", \"\\uccad\\ub834\\ub3c4\", \"\\uccad\\uc0ac\", \"\\uccad\\uc18c\\ub144\", \"\\uccb4\\uacb0\", \"\\uccb4\\uacc4\", \"\\uccb4\\uacc4\", \"\\uccb4\\uacc4\", \"\\uccb4\\uacc4\", \"\\uccb4\\uacc4\", \"\\uccb4\\ub958\", \"\\uccb4\\uc721\", \"\\uccb4\\uc721\\ud68c\", \"\\uccb4\\uc804\", \"\\uccb4\\ud5d8\", \"\\uccb4\\ud5d8\", \"\\uccb4\\ud5d8\", \"\\uccb4\\ud5d8\", \"\\ucd1d\\ub825\", \"\\ucd1d\\uc7a5\", \"\\ucd5c\", \"\\ucd5c\\ub300\", \"\\ucd5c\\ub300\", \"\\ucd5c\\ucd08\", \"\\ucd5c\\ucd08\", \"\\ucd5c\\ucd08\", \"\\ucd5c\\ucd08\", \"\\ucd5c\\ucd08\", \"\\ucd94\\uac00\", \"\\ucd94\\uac00\", \"\\ucd94\\uac00\", \"\\ucd94\\ubaa8\", \"\\ucd94\\uc9c4\", \"\\ucd94\\uc9c4\", \"\\ucd94\\uc9c4\", \"\\ucd94\\uc9c4\", \"\\ucd94\\uc9c4\", \"\\ucd94\\uc9c4\", \"\\ucd94\\uc9c4\", \"\\ucd94\\uc9c4\", \"\\ucd95\\uc81c\", \"\\ucd9c\\uc0b0\", \"\\ucd9c\\uc0b0\", \"\\ucd9c\\uc2dc\", \"\\ucd9c\\uc2e0\", \"\\ucd9c\\uc5f0\", \"\\ucd9c\\uc790\", \"\\ucd9c\\uc81c\", \"\\ucd9c\\ucc98\", \"\\ucda9\\ub0a8\", \"\\ucda9\\ub0a8\", \"\\ucde8\\uc57d\", \"\\ucde8\\uc5c5\", \"\\ucde8\\uc5c5\", \"\\ucde8\\uc7ac\", \"\\ucde8\\uc7ac\", \"\\ucde8\\uc7ac\", \"\\uce35\", \"\\uce58\\ub8cc\", \"\\uce58\\ub9e4\", \"\\uce58\\uc720\", \"\\uce68\\uccb4\", \"\\ucea0\\ud37c\\uc2a4\", \"\\ucea0\\ud398\\uc778\", \"\\ucea0\\ud504\", \"\\ucee8\\ubca4\\uc158\", \"\\ucee8\\uc124\\ud305\", \"\\ucee8\\ud2b8\\ub864\", \"\\ucf54\\ub85c\\ub098\", \"\\ucf54\\ub85c\\ub098\", \"\\ucf54\\ub85c\\ub098\", \"\\ucf54\\ub85c\\ub098\", \"\\ud074\\ub7ec\\uc2a4\\ud130\", \"\\ud0c0\\uc6cc\", \"\\ud0c4\\uc0dd\", \"\\ud0c4\\uc18c\", \"\\ud0dc\\uc591\\uad11\", \"\\ud1a0\\ub860\\ud68c\", \"\\ud1a0\\ub860\\ud68c\", \"\\ud1b5\\ud569\", \"\\ud1b5\\ud569\", \"\\ud1b5\\ud569\", \"\\ud1b5\\ud569\", \"\\ud1b5\\ud569\", \"\\ud1b5\\ud569\", \"\\ud22c\\uc785\", \"\\ud2b9\\uc9d5\", \"\\ud2b9\\ud654\", \"\\ud2b9\\ud654\", \"\\ud300\\uc7a5\", \"\\ud310\\ub9e4\", \"\\ud310\\ub9e4\", \"\\ud310\\uc815\", \"\\ud37c\\ud3ec\\uba3c\\uc2a4\", \"\\ud3c9\\uac00\", \"\\ud3c9\\uac00\", \"\\ud3c9\\uac00\", \"\\ud3c9\\uac00\", \"\\ud3c9\\uc0dd\", \"\\ud3c9\\ud654\", \"\\ud3d0\\uad50\", \"\\ud3ec\\ud568\", \"\\ud3ec\\ud568\", \"\\ud3ec\\ud568\", \"\\ud3ec\\ud568\", \"\\ud3ec\\ud568\", \"\\ud45c\\uba85\", \"\\ud48d\\ub825\", \"\\ud48d\\ub825\", \"\\ud504\\ub85c\\uadf8\\ub7a8\", \"\\ud504\\ub85c\\uadf8\\ub7a8\", \"\\ud504\\ub85c\\uadf8\\ub7a8\", \"\\ud504\\ub85c\\uadf8\\ub7a8\", \"\\ud53c\\ud574\\uc790\", \"\\ud559\", \"\\ud559\\uad50\", \"\\ud559\\uad50\", \"\\ud559\\uad50\", \"\\ud559\\ub144\", \"\\ud559\\ub144\", \"\\ud559\\ub144\\ub3c4\", \"\\ud559\\ubd80\\ubaa8\", \"\\ud559\\uc0dd\", \"\\ud559\\uc2b5\", \"\\ud559\\uc5c5\", \"\\ud55c\\uad6d\", \"\\ud55c\\uad6d\", \"\\ud55c\\uad6d\", \"\\ud55c\\uad6d\", \"\\ud55c\\uad6d\\uad00\\uad11\\uacf5\\uc0ac\", \"\\ud56d\\uacf5\", \"\\ud574\\uacbd\", \"\\ud574\\ubcc0\", \"\\ud574\\uc0c1\", \"\\ud574\\uc0c1\", \"\\ud574\\uc218\\ubd80\", \"\\ud574\\uc548\", \"\\ud574\\uc548\\uc120\", \"\\ud574\\uc591\", \"\\ud574\\uc591\", \"\\ud574\\uc591\\ub300\", \"\\ud574\\uc6b4\", \"\\ud587\\ube5b\", \"\\ud589\\uc0ac\", \"\\ud589\\uc0ac\", \"\\ud589\\uc0ac\", \"\\ud589\\uc0ac\\uc7a5\", \"\\ud589\\uc815\", \"\\ud589\\uc815\", \"\\ud589\\uc815\", \"\\ud601\\uc2e0\", \"\\ud601\\uc2e0\", \"\\ud604\\uc7a5\", \"\\ud604\\uc7a5\", \"\\ud604\\uc7a5\", \"\\ud604\\uc7a5\", \"\\ud604\\uc7a5\", \"\\ud604\\uc7a5\", \"\\ud604\\uc7a5\", \"\\ud611\\ub3d9\\uc870\\ud569\", \"\\ud611\\ub3d9\\uc870\\ud569\", \"\\ud611\\ub3d9\\uc870\\ud569\", \"\\ud611\\ub825\", \"\\ud611\\ub825\", \"\\ud611\\ub825\", \"\\ud611\\ub825\", \"\\ud611\\ub825\", \"\\ud611\\uc57d\", \"\\ud611\\uc758\", \"\\ud611\\uc758\\uccb4\", \"\\ud611\\uc758\\ud68c\", \"\\ud638\", \"\\ud638\\ub0a8\", \"\\ud638\\ub0a8\", \"\\ud638\\ub0a8\", \"\\ud638\\ub0a8\", \"\\ud64d\\ubcf4\", \"\\ud64d\\ubcf4\", \"\\ud64d\\ubcf4\", \"\\ud64d\\ubcf4\", \"\\ud64d\\uc5b4\", \"\\ud655\\ub300\", \"\\ud655\\ub300\", \"\\ud655\\ub300\", \"\\ud655\\ub300\", \"\\ud655\\ub300\", \"\\ud655\\ub300\", \"\\ud655\\ub300\", \"\\ud655\\ub300\", \"\\ud655\\uc9c4\\uc790\", \"\\ud658\\uacbd\", \"\\ud658\\uacbd\", \"\\ud658\\uacbd\", \"\\ud658\\uacbd\", \"\\ud658\\uacbd\", \"\\ud658\\uacbd\", \"\\ud658\\uacbd\", \"\\ud658\\uc790\", \"\\ud65c\\ub3d9\", \"\\ud65c\\ub3d9\", \"\\ud65c\\ub3d9\", \"\\ud65c\\ub3d9\", \"\\ud65c\\ub3d9\", \"\\ud65c\\ub825\", \"\\ud65c\\uc6a9\", \"\\ud65c\\uc6a9\", \"\\ud65c\\uc6a9\", \"\\ud65c\\uc6a9\", \"\\ud65c\\uc6a9\", \"\\ud65c\\uc6a9\", \"\\ud65c\\uc6a9\", \"\\ud669\\ud1a0\", \"\\ud68c\\uc0ac\", \"\\ud68c\\uc758\", \"\\ud68c\\uc758\", \"\\ud68d\\ub4dd\", \"\\ud6c4\\ubcf4\", \"\\ud751\", \"\\ud76c\\ub9dd\", \"\\ud76c\\ub9dd\", \"\\ud790\\ub9c1\", \"\\ud798\", \"\\ud798\", \"\\ud798\"]}, \"R\": 30, \"lambda.step\": 0.01, \"plot.opts\": {\"xlab\": \"PC1\", \"ylab\": \"PC2\"}, \"topic.order\": [1, 2, 3, 4, 5, 6, 7, 8, 9, 10, 11, 12, 13, 14, 15]};\n",
       "\n",
       "function LDAvis_load_lib(url, callback){\n",
       "  var s = document.createElement('script');\n",
       "  s.src = url;\n",
       "  s.async = true;\n",
       "  s.onreadystatechange = s.onload = callback;\n",
       "  s.onerror = function(){console.warn(\"failed to load library \" + url);};\n",
       "  document.getElementsByTagName(\"head\")[0].appendChild(s);\n",
       "}\n",
       "\n",
       "if(typeof(LDAvis) !== \"undefined\"){\n",
       "   // already loaded: just create the visualization\n",
       "   !function(LDAvis){\n",
       "       new LDAvis(\"#\" + \"ldavis_el2113221688262938249591392489\", ldavis_el2113221688262938249591392489_data);\n",
       "   }(LDAvis);\n",
       "}else if(typeof define === \"function\" && define.amd){\n",
       "   // require.js is available: use it to load d3/LDAvis\n",
       "   require.config({paths: {d3: \"https://d3js.org/d3.v5\"}});\n",
       "   require([\"d3\"], function(d3){\n",
       "      window.d3 = d3;\n",
       "      LDAvis_load_lib(\"https://cdn.jsdelivr.net/gh/bmabey/pyLDAvis@3.4.0/pyLDAvis/js/ldavis.v3.0.0.js\", function(){\n",
       "        new LDAvis(\"#\" + \"ldavis_el2113221688262938249591392489\", ldavis_el2113221688262938249591392489_data);\n",
       "      });\n",
       "    });\n",
       "}else{\n",
       "    // require.js not available: dynamically load d3 & LDAvis\n",
       "    LDAvis_load_lib(\"https://d3js.org/d3.v5.js\", function(){\n",
       "         LDAvis_load_lib(\"https://cdn.jsdelivr.net/gh/bmabey/pyLDAvis@3.4.0/pyLDAvis/js/ldavis.v3.0.0.js\", function(){\n",
       "                 new LDAvis(\"#\" + \"ldavis_el2113221688262938249591392489\", ldavis_el2113221688262938249591392489_data);\n",
       "            })\n",
       "         });\n",
       "}\n",
       "</script>"
      ],
      "text/plain": [
       "<IPython.core.display.HTML object>"
      ]
     },
     "execution_count": 39,
     "metadata": {},
     "output_type": "execute_result"
    }
   ],
   "source": [
    "import pyLDAvis.gensim\n",
    "p = pyLDAvis.gensim.prepare(\n",
    "    lda_model, corpus, dic, sort_topics=False)\n",
    "pyLDAvis.display(p)"
   ]
  }
 ],
 "metadata": {
  "kernelspec": {
   "display_name": "mecab",
   "language": "python",
   "name": "python3"
  },
  "language_info": {
   "codemirror_mode": {
    "name": "ipython",
    "version": 3
   },
   "file_extension": ".py",
   "mimetype": "text/x-python",
   "name": "python",
   "nbconvert_exporter": "python",
   "pygments_lexer": "ipython3",
   "version": "3.9.16"
  }
 },
 "nbformat": 4,
 "nbformat_minor": 2
}
