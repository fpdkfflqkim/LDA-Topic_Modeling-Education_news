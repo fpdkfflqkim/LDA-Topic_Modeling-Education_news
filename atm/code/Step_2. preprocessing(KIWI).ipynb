{
 "cells": [
  {
   "cell_type": "markdown",
   "metadata": {},
   "source": [
    "## 패키지 불러오기"
   ]
  },
  {
   "cell_type": "code",
   "execution_count": 1,
   "metadata": {},
   "outputs": [],
   "source": [
    "# 라이브러리\n",
    "# Data Preprocessing Package\n",
    "import re\n",
    "import numpy as np\n",
    "import pandas as pd\n",
    "import os\n",
    "import itertools\n",
    "import math\n",
    "from pprint import pprint\n",
    "import logging\n",
    "logging.basicConfig(format='%(asctime)s : %(levelname)s : %(message)s', level=logging.ERROR)\n",
    "import warnings\n",
    "warnings.filterwarnings(\"ignore\",category=DeprecationWarning)\n",
    "\n",
    "# NLP Package\n",
    "from konlpy.tag import * \n",
    "import gensim\n",
    "import gensim.corpora as corpora\n",
    "from gensim.models import CoherenceModel\n",
    "from collections import Counter\n",
    "\n",
    "import sys\n",
    "import nltk\n",
    "from nltk import FreqDist"
   ]
  },
  {
   "cell_type": "code",
   "execution_count": 2,
   "metadata": {},
   "outputs": [],
   "source": [
    "# 시각화\n",
    "import matplotlib.pyplot as plt\n",
    "import platform\n",
    "from matplotlib import font_manager, rc\n",
    "%matplotlib inline\n",
    "plt.rcParams['font.family'] = 'NanumGothic'"
   ]
  },
  {
   "cell_type": "markdown",
   "metadata": {},
   "source": [
    "## 형태소 분석기 (KIWI)"
   ]
  },
  {
   "cell_type": "code",
   "execution_count": 6,
   "metadata": {},
   "outputs": [],
   "source": [
    "from kiwipiepy import Kiwi"
   ]
  },
  {
   "cell_type": "code",
   "execution_count": 7,
   "metadata": {},
   "outputs": [],
   "source": [
    "kiwi = Kiwi()"
   ]
  },
  {
   "cell_type": "code",
   "execution_count": 32,
   "metadata": {},
   "outputs": [],
   "source": [
    "#불용어 처리 단어 불러오기\n",
    "file_path = r'C:\\Users\\user\\Desktop\\새 폴더\\data\\stopwords.txt'\n",
    "\n",
    "# Read the file and extract stopwords\n",
    "with open(file_path, 'r', encoding='utf-8') as file:\n",
    "    stopwords = [word.strip() for word in file]"
   ]
  },
  {
   "cell_type": "code",
   "execution_count": 33,
   "metadata": {},
   "outputs": [
    {
     "data": {
      "text/plain": [
       "['기자',\n",
       " '이번',\n",
       " '올해',\n",
       " '군수',\n",
       " '지난해',\n",
       " '무안',\n",
       " '신안',\n",
       " '홍어',\n",
       " '이후',\n",
       " '경우',\n",
       " '가운데',\n",
       " '이날',\n",
       " '버스',\n",
       " '오후',\n",
       " '내년',\n",
       " '이하',\n",
       " '그동안',\n",
       " '하반기',\n",
       " '박홍',\n",
       " '한편',\n",
       " '제외',\n",
       " '모두',\n",
       " '상반기',\n",
       " '곳곳',\n",
       " '이달',\n",
       " '마지막',\n",
       " '미만',\n",
       " '오른쪽',\n",
       " '최다',\n",
       " '하나님',\n",
       " '직후',\n",
       " '여름철',\n",
       " '전후',\n",
       " '서훈',\n",
       " '절대',\n",
       " '어제',\n",
       " '직전',\n",
       " '즉시',\n",
       " '슬기',\n",
       " '북쪽',\n",
       " '2관',\n",
       " '아무것',\n",
       " '동쪽',\n",
       " '첫해',\n",
       " '첫발',\n",
       " '와중',\n",
       " '살맛',\n",
       " '간만',\n",
       " '최남규',\n",
       " '부사장',\n",
       " '한쪽',\n",
       " '여기저기',\n",
       " '양쪽',\n",
       " '뜬금포',\n",
       " '일쑤',\n",
       " '황경혜',\n",
       " '적재적소',\n",
       " '이틀간',\n",
       " '\"꺠끗',\n",
       " '\"넥스트',\n",
       " '\"소담\"',\n",
       " '\"오룡\"',\n",
       " '\"워커블\"',\n",
       " '\"재재\"',\n",
       " '\"조호\"',\n",
       " '\"킨더슐\"',\n",
       " '%포인트',\n",
       " '&더포레',\n",
       " '&초코플',\n",
       " '(1',\n",
       " '(3',\n",
       " '*연시회',\n",
       " '*위드',\n",
       " '.노',\n",
       " '․도초',\n",
       " '.소매',\n",
       " '.소악도',\n",
       " '.유달',\n",
       " '：7',\n",
       " '?고교',\n",
       " '?무',\n",
       " '?정',\n",
       " '?지',\n",
       " '?치유',\n",
       " '?해',\n",
       " '~도초',\n",
       " '~비',\n",
       " '~암태',\n",
       " '~추포',\n",
       " '△강대',\n",
       " '△권호',\n",
       " '▲귀어',\n",
       " '△귀어',\n",
       " '▲나주',\n",
       " '△내재해',\n",
       " '△뇌',\n",
       " '△동교마',\n",
       " '△박효',\n",
       " '△선샤',\n",
       " '△섬드리마',\n",
       " '▲세',\n",
       " '△세',\n",
       " '△세무회계',\n",
       " '▲송무',\n",
       " '△스마트팜',\n",
       " '△암태',\n",
       " '▲오룡',\n",
       " '△윤재',\n",
       " '△이오',\n",
       " '▲조파',\n",
       " '△조파',\n",
       " '▲폐',\n",
       " '▷귀어',\n",
       " '▷서한태',\n",
       " '▷이',\n",
       " '◆괭',\n",
       " '·3',\n",
       " '·귀어',\n",
       " '·언택트',\n",
       " '·오룡',\n",
       " '·오룡지구',\n",
       " '·오룡지구',\n",
       " '·오프',\n",
       " '·짱둥어',\n",
       " '·하당구',\n",
       " '･시야',\n",
       " '…귀어',\n",
       " '1뮤지움',\n",
       " '1부',\n",
       " '1심',\n",
       " '1인자',\n",
       " '2관왕',\n",
       " '2부',\n",
       " '2심',\n",
       " '3국',\n",
       " '3두',\n",
       " '3루수',\n",
       " '3사',\n",
       " '3자',\n",
       " '3파전',\n",
       " '4메카',\n",
       " '4파전',\n",
       " '5일장',\n",
       " '-7',\n",
       " '9미',\n",
       " 'A호',\n",
       " 'ⓒ게티이미지',\n",
       " 'H회',\n",
       " 'TOP5',\n",
       " 'W쇼']"
      ]
     },
     "execution_count": 33,
     "metadata": {},
     "output_type": "execute_result"
    }
   ],
   "source": [
    "stopwords"
   ]
  },
  {
   "cell_type": "code",
   "execution_count": 34,
   "metadata": {},
   "outputs": [],
   "source": [
    "# 일반 명사(NNP) 추출 버전\n",
    "def extract_nouns_1(text):\n",
    "    for token in kiwi.tokenize(text):\n",
    "        if token.tag in {'NNG'} and len(token.form) >= 2:\n",
    "            yield token.form"
   ]
  },
  {
   "cell_type": "code",
   "execution_count": 35,
   "metadata": {},
   "outputs": [],
   "source": [
    "# 일반 명사(NNP) 추출 & 불용어 처리 버전\n",
    "def extract_nouns_2(text, stopwords):\n",
    "    for token in kiwi.tokenize(text):\n",
    "        # 명사이면서 길이가 2 이상이고 stopwords에 포함되지 않은 경우에만 추출\n",
    "        if token.tag == 'NNG' and len(token.form) >= 2 and token.form not in stopwords:\n",
    "            yield token.form"
   ]
  },
  {
   "cell_type": "markdown",
   "metadata": {},
   "source": [
    "## 데이터 확인"
   ]
  },
  {
   "cell_type": "code",
   "execution_count": 36,
   "metadata": {},
   "outputs": [],
   "source": [
    "path = r'C:\\Users\\user\\Desktop\\새 폴더\\data\\빅카인즈_통합.xlsx'  "
   ]
  },
  {
   "cell_type": "code",
   "execution_count": 37,
   "metadata": {
    "scrolled": true
   },
   "outputs": [
    {
     "data": {
      "text/html": [
       "<div>\n",
       "<style scoped>\n",
       "    .dataframe tbody tr th:only-of-type {\n",
       "        vertical-align: middle;\n",
       "    }\n",
       "\n",
       "    .dataframe tbody tr th {\n",
       "        vertical-align: top;\n",
       "    }\n",
       "\n",
       "    .dataframe thead th {\n",
       "        text-align: right;\n",
       "    }\n",
       "</style>\n",
       "<table border=\"1\" class=\"dataframe\">\n",
       "  <thead>\n",
       "    <tr style=\"text-align: right;\">\n",
       "      <th></th>\n",
       "      <th>Author</th>\n",
       "      <th>Title</th>\n",
       "      <th>Content</th>\n",
       "    </tr>\n",
       "  </thead>\n",
       "  <tbody>\n",
       "    <tr>\n",
       "      <th>0</th>\n",
       "      <td>목포</td>\n",
       "      <td>[사설] 생활권 침해 없는데 봉안당 불허···님비에 법원 제동</td>\n",
       "      <td>극단적인 지역이기주의에 지역 현안들이 발목이 잡혀있는 가운데 법원이 과도한 님비현상...</td>\n",
       "    </tr>\n",
       "    <tr>\n",
       "      <th>1</th>\n",
       "      <td>목포</td>\n",
       "      <td>“학생 수 감소했다면 학교용지비용 부담 필요 없어”</td>\n",
       "      <td>[KBS 광주]\\n취학 인구가 감소했는데도 학교용지부담금을 부과한 행정처분은 부당하...</td>\n",
       "    </tr>\n",
       "    <tr>\n",
       "      <th>2</th>\n",
       "      <td>목포</td>\n",
       "      <td>경단녀서 꽃가게 사장님으로… \"지방은 기회의 공간\" [지방시대 지방영웅]</td>\n",
       "      <td>&lt;4&gt; 전남 목포 '두리하나 플라워' 임효백씨 아이 때문에 결심한 '지방살이'서 꿈...</td>\n",
       "    </tr>\n",
       "    <tr>\n",
       "      <th>3</th>\n",
       "      <td>목포</td>\n",
       "      <td>장수군장애인탁구단 이근우 선수 \"장애는 불편할 뿐 불행한 것 아냐”</td>\n",
       "      <td>항저우아시안게임 메달 이근우 선수\\n“만약 세상에 즐거움만 있다면 우리는 결코 인내...</td>\n",
       "    </tr>\n",
       "    <tr>\n",
       "      <th>4</th>\n",
       "      <td>목포</td>\n",
       "      <td>전남도, 청소년 지원 종합 거점공간 23일 개청</td>\n",
       "      <td>전남청소년미래재단 상담·안전망 구축·자기개발 기회 제공 등 종합 지원 거점 공연장·...</td>\n",
       "    </tr>\n",
       "    <tr>\n",
       "      <th>...</th>\n",
       "      <td>...</td>\n",
       "      <td>...</td>\n",
       "      <td>...</td>\n",
       "    </tr>\n",
       "    <tr>\n",
       "      <th>4532</th>\n",
       "      <td>신안</td>\n",
       "      <td>신년특집&gt;\"딸기 엉글때 청년농 '농촌의 희망' 될터\"</td>\n",
       "      <td>청년농부가 미래다=신안 딸기학교 교육생\\n지난달 천사섬 딸기영농조합법인을 출범시킨 ...</td>\n",
       "    </tr>\n",
       "    <tr>\n",
       "      <th>4533</th>\n",
       "      <td>신안</td>\n",
       "      <td>새해특집&gt;신안팔금면 딸기농장, 청년농업인 교육…\"군수님 역점사업이죠\"</td>\n",
       "      <td>청년농 실패 최소화…연중 딸기 생산 가능\\n청년 예비농부 5명이 입학한 신안 팔금면...</td>\n",
       "    </tr>\n",
       "    <tr>\n",
       "      <th>4534</th>\n",
       "      <td>신안</td>\n",
       "      <td>새해특집&gt;\"스마트 딸기 재배기술로 청년농업인 우상 될래요\"</td>\n",
       "      <td>청년농부가 미래다=신안 딸기학교 교육생 5명\\n지난달 천사섬 딸기영농조합법인을 출범...</td>\n",
       "    </tr>\n",
       "    <tr>\n",
       "      <th>4535</th>\n",
       "      <td>신안</td>\n",
       "      <td>[신년사] 김종식 목포시장</td>\n",
       "      <td>김종식 목포시장\\n존경하는 시민 여러분! 그리고 동료 공직자 여러분! 2021년 새...</td>\n",
       "    </tr>\n",
       "    <tr>\n",
       "      <th>4536</th>\n",
       "      <td>신안</td>\n",
       "      <td>[포토] 노행식 국제로타리 3640지구 총재, 2021년에도 인류의 희망이 되는 봉...</td>\n",
       "      <td>효송 노행식 국제로타리 3640 지구 총재는 온라인으로 발표한 신년사를 통해 “20...</td>\n",
       "    </tr>\n",
       "  </tbody>\n",
       "</table>\n",
       "<p>4537 rows × 3 columns</p>\n",
       "</div>"
      ],
      "text/plain": [
       "     Author                                              Title  \\\n",
       "0        목포                 [사설] 생활권 침해 없는데 봉안당 불허···님비에 법원 제동   \n",
       "1        목포                       “학생 수 감소했다면 학교용지비용 부담 필요 없어”   \n",
       "2        목포           경단녀서 꽃가게 사장님으로… \"지방은 기회의 공간\" [지방시대 지방영웅]   \n",
       "3        목포              장수군장애인탁구단 이근우 선수 \"장애는 불편할 뿐 불행한 것 아냐”   \n",
       "4        목포                         전남도, 청소년 지원 종합 거점공간 23일 개청   \n",
       "...     ...                                                ...   \n",
       "4532     신안                      신년특집>\"딸기 엉글때 청년농 '농촌의 희망' 될터\"   \n",
       "4533     신안             새해특집>신안팔금면 딸기농장, 청년농업인 교육…\"군수님 역점사업이죠\"   \n",
       "4534     신안                   새해특집>\"스마트 딸기 재배기술로 청년농업인 우상 될래요\"   \n",
       "4535     신안                                     [신년사] 김종식 목포시장   \n",
       "4536     신안  [포토] 노행식 국제로타리 3640지구 총재, 2021년에도 인류의 희망이 되는 봉...   \n",
       "\n",
       "                                                Content  \n",
       "0     극단적인 지역이기주의에 지역 현안들이 발목이 잡혀있는 가운데 법원이 과도한 님비현상...  \n",
       "1     [KBS 광주]\\n취학 인구가 감소했는데도 학교용지부담금을 부과한 행정처분은 부당하...  \n",
       "2     <4> 전남 목포 '두리하나 플라워' 임효백씨 아이 때문에 결심한 '지방살이'서 꿈...  \n",
       "3     항저우아시안게임 메달 이근우 선수\\n“만약 세상에 즐거움만 있다면 우리는 결코 인내...  \n",
       "4     전남청소년미래재단 상담·안전망 구축·자기개발 기회 제공 등 종합 지원 거점 공연장·...  \n",
       "...                                                 ...  \n",
       "4532  청년농부가 미래다=신안 딸기학교 교육생\\n지난달 천사섬 딸기영농조합법인을 출범시킨 ...  \n",
       "4533  청년농 실패 최소화…연중 딸기 생산 가능\\n청년 예비농부 5명이 입학한 신안 팔금면...  \n",
       "4534  청년농부가 미래다=신안 딸기학교 교육생 5명\\n지난달 천사섬 딸기영농조합법인을 출범...  \n",
       "4535  김종식 목포시장\\n존경하는 시민 여러분! 그리고 동료 공직자 여러분! 2021년 새...  \n",
       "4536  효송 노행식 국제로타리 3640 지구 총재는 온라인으로 발표한 신년사를 통해 “20...  \n",
       "\n",
       "[4537 rows x 3 columns]"
      ]
     },
     "execution_count": 37,
     "metadata": {},
     "output_type": "execute_result"
    }
   ],
   "source": [
    "df = pd.read_excel(path)\n",
    "df"
   ]
  },
  {
   "cell_type": "code",
   "execution_count": 38,
   "metadata": {},
   "outputs": [
    {
     "name": "stderr",
     "output_type": "stream",
     "text": [
      "c:\\Users\\user\\anaconda3\\envs\\PY39_\\lib\\site-packages\\sklearn\\feature_extraction\\text.py:525: UserWarning: The parameter 'token_pattern' will not be used since 'tokenizer' is not None'\n",
      "  warnings.warn(\n"
     ]
    }
   ],
   "source": [
    "# 추출 단어 확인(10개 이상)\n",
    "from sklearn.feature_extraction.text import CountVectorizer\n",
    "cv = CountVectorizer(tokenizer=extract_nouns_1 , min_df=10)\n",
    "dtm = cv.fit_transform(df.Content)"
   ]
  },
  {
   "cell_type": "code",
   "execution_count": 39,
   "metadata": {},
   "outputs": [],
   "source": [
    "word_count = pd.DataFrame({\n",
    "    'word': cv.get_feature_names_out(),\n",
    "    'count': dtm.sum(axis=0).flat\n",
    "})"
   ]
  },
  {
   "cell_type": "code",
   "execution_count": 41,
   "metadata": {},
   "outputs": [],
   "source": [
    "word_count.sort_values('count', ascending=False)\n",
    "a = pd.DataFrame(word_count.sort_values('count', ascending=False))\n",
    "a.to_excel(r\"C:/Users/user/Desktop/새 폴더/data/extract_nouns.xlsx\")"
   ]
  },
  {
   "cell_type": "code",
   "execution_count": 42,
   "metadata": {},
   "outputs": [],
   "source": [
    "a = pd.DataFrame(word_count.sort_values('count', ascending=False))"
   ]
  },
  {
   "cell_type": "code",
   "execution_count": 43,
   "metadata": {},
   "outputs": [],
   "source": [
    "a.to_excel(r\"C:/Users/user/Desktop/새 폴더/data/extract_nouns.xlsx\")"
   ]
  },
  {
   "cell_type": "code",
   "execution_count": 44,
   "metadata": {},
   "outputs": [],
   "source": [
    "df['Extracted_Nouns'] = df['Content'].apply(lambda x: list(extract_nouns_2(x, stopwords)))"
   ]
  },
  {
   "cell_type": "code",
   "execution_count": 45,
   "metadata": {},
   "outputs": [
    {
     "data": {
      "text/html": [
       "<div>\n",
       "<style scoped>\n",
       "    .dataframe tbody tr th:only-of-type {\n",
       "        vertical-align: middle;\n",
       "    }\n",
       "\n",
       "    .dataframe tbody tr th {\n",
       "        vertical-align: top;\n",
       "    }\n",
       "\n",
       "    .dataframe thead th {\n",
       "        text-align: right;\n",
       "    }\n",
       "</style>\n",
       "<table border=\"1\" class=\"dataframe\">\n",
       "  <thead>\n",
       "    <tr style=\"text-align: right;\">\n",
       "      <th></th>\n",
       "      <th>Author</th>\n",
       "      <th>Title</th>\n",
       "      <th>Content</th>\n",
       "      <th>Extracted_Nouns</th>\n",
       "    </tr>\n",
       "  </thead>\n",
       "  <tbody>\n",
       "    <tr>\n",
       "      <th>0</th>\n",
       "      <td>목포</td>\n",
       "      <td>[사설] 생활권 침해 없는데 봉안당 불허···님비에 법원 제동</td>\n",
       "      <td>극단적인 지역이기주의에 지역 현안들이 발목이 잡혀있는 가운데 법원이 과도한 님비현상...</td>\n",
       "      <td>[극단, 지역, 이기주의, 지역, 현안, 발목, 법원, 과도, 님비, 현상, 제동,...</td>\n",
       "    </tr>\n",
       "    <tr>\n",
       "      <th>1</th>\n",
       "      <td>목포</td>\n",
       "      <td>“학생 수 감소했다면 학교용지비용 부담 필요 없어”</td>\n",
       "      <td>[KBS 광주]\\n취학 인구가 감소했는데도 학교용지부담금을 부과한 행정처분은 부당하...</td>\n",
       "      <td>[취학, 인구, 감소, 학교, 용지, 부담금, 부과, 행정, 처분, 부당, 판결, ...</td>\n",
       "    </tr>\n",
       "    <tr>\n",
       "      <th>2</th>\n",
       "      <td>목포</td>\n",
       "      <td>경단녀서 꽃가게 사장님으로… \"지방은 기회의 공간\" [지방시대 지방영웅]</td>\n",
       "      <td>&lt;4&gt; 전남 목포 '두리하나 플라워' 임효백씨 아이 때문에 결심한 '지방살이'서 꿈...</td>\n",
       "      <td>[두리하나, 플라워, 아이, 결심, 지방, 청년, 공간, 다양, 창업, 기회, 제공...</td>\n",
       "    </tr>\n",
       "    <tr>\n",
       "      <th>3</th>\n",
       "      <td>목포</td>\n",
       "      <td>장수군장애인탁구단 이근우 선수 \"장애는 불편할 뿐 불행한 것 아냐”</td>\n",
       "      <td>항저우아시안게임 메달 이근우 선수\\n“만약 세상에 즐거움만 있다면 우리는 결코 인내...</td>\n",
       "      <td>[아시안, 게임, 메달, 선수, 세상, 즐거움, 인내, 장애, 불편, 불행, 장애인...</td>\n",
       "    </tr>\n",
       "    <tr>\n",
       "      <th>4</th>\n",
       "      <td>목포</td>\n",
       "      <td>전남도, 청소년 지원 종합 거점공간 23일 개청</td>\n",
       "      <td>전남청소년미래재단 상담·안전망 구축·자기개발 기회 제공 등 종합 지원 거점 공연장·...</td>\n",
       "      <td>[청소년, 미래, 재단, 상담, 안전, 구축, 자기, 개발, 기회, 제공, 종합, ...</td>\n",
       "    </tr>\n",
       "    <tr>\n",
       "      <th>...</th>\n",
       "      <td>...</td>\n",
       "      <td>...</td>\n",
       "      <td>...</td>\n",
       "      <td>...</td>\n",
       "    </tr>\n",
       "    <tr>\n",
       "      <th>4532</th>\n",
       "      <td>신안</td>\n",
       "      <td>신년특집&gt;\"딸기 엉글때 청년농 '농촌의 희망' 될터\"</td>\n",
       "      <td>청년농부가 미래다=신안 딸기학교 교육생\\n지난달 천사섬 딸기영농조합법인을 출범시킨 ...</td>\n",
       "      <td>[청년, 농부, 미래, 딸기, 학교, 교육, 지난달, 천사, 딸기, 영농, 조합, ...</td>\n",
       "    </tr>\n",
       "    <tr>\n",
       "      <th>4533</th>\n",
       "      <td>신안</td>\n",
       "      <td>새해특집&gt;신안팔금면 딸기농장, 청년농업인 교육…\"군수님 역점사업이죠\"</td>\n",
       "      <td>청년농 실패 최소화…연중 딸기 생산 가능\\n청년 예비농부 5명이 입학한 신안 팔금면...</td>\n",
       "      <td>[청년, 실패, 최소, 연중, 딸기, 생산, 가능, 청년, 예비, 농부, 입학, 딸...</td>\n",
       "    </tr>\n",
       "    <tr>\n",
       "      <th>4534</th>\n",
       "      <td>신안</td>\n",
       "      <td>새해특집&gt;\"스마트 딸기 재배기술로 청년농업인 우상 될래요\"</td>\n",
       "      <td>청년농부가 미래다=신안 딸기학교 교육생 5명\\n지난달 천사섬 딸기영농조합법인을 출범...</td>\n",
       "      <td>[청년, 농부, 미래, 딸기, 학교, 교육, 지난달, 천사, 딸기, 영농, 조합, ...</td>\n",
       "    </tr>\n",
       "    <tr>\n",
       "      <th>4535</th>\n",
       "      <td>신안</td>\n",
       "      <td>[신년사] 김종식 목포시장</td>\n",
       "      <td>김종식 목포시장\\n존경하는 시민 여러분! 그리고 동료 공직자 여러분! 2021년 새...</td>\n",
       "      <td>[시장, 존경, 시민, 동료, 공직자, 새해, 소원, 성취, 기원, 발전, 성원, ...</td>\n",
       "    </tr>\n",
       "    <tr>\n",
       "      <th>4536</th>\n",
       "      <td>신안</td>\n",
       "      <td>[포토] 노행식 국제로타리 3640지구 총재, 2021년에도 인류의 희망이 되는 봉...</td>\n",
       "      <td>효송 노행식 국제로타리 3640 지구 총재는 온라인으로 발표한 신년사를 통해 “20...</td>\n",
       "      <td>[국제, 로타리, 지구, 총재, 온라인, 발표, 신년사, 새해, 사회, 거리, 코로...</td>\n",
       "    </tr>\n",
       "  </tbody>\n",
       "</table>\n",
       "<p>4537 rows × 4 columns</p>\n",
       "</div>"
      ],
      "text/plain": [
       "     Author                                              Title  \\\n",
       "0        목포                 [사설] 생활권 침해 없는데 봉안당 불허···님비에 법원 제동   \n",
       "1        목포                       “학생 수 감소했다면 학교용지비용 부담 필요 없어”   \n",
       "2        목포           경단녀서 꽃가게 사장님으로… \"지방은 기회의 공간\" [지방시대 지방영웅]   \n",
       "3        목포              장수군장애인탁구단 이근우 선수 \"장애는 불편할 뿐 불행한 것 아냐”   \n",
       "4        목포                         전남도, 청소년 지원 종합 거점공간 23일 개청   \n",
       "...     ...                                                ...   \n",
       "4532     신안                      신년특집>\"딸기 엉글때 청년농 '농촌의 희망' 될터\"   \n",
       "4533     신안             새해특집>신안팔금면 딸기농장, 청년농업인 교육…\"군수님 역점사업이죠\"   \n",
       "4534     신안                   새해특집>\"스마트 딸기 재배기술로 청년농업인 우상 될래요\"   \n",
       "4535     신안                                     [신년사] 김종식 목포시장   \n",
       "4536     신안  [포토] 노행식 국제로타리 3640지구 총재, 2021년에도 인류의 희망이 되는 봉...   \n",
       "\n",
       "                                                Content  \\\n",
       "0     극단적인 지역이기주의에 지역 현안들이 발목이 잡혀있는 가운데 법원이 과도한 님비현상...   \n",
       "1     [KBS 광주]\\n취학 인구가 감소했는데도 학교용지부담금을 부과한 행정처분은 부당하...   \n",
       "2     <4> 전남 목포 '두리하나 플라워' 임효백씨 아이 때문에 결심한 '지방살이'서 꿈...   \n",
       "3     항저우아시안게임 메달 이근우 선수\\n“만약 세상에 즐거움만 있다면 우리는 결코 인내...   \n",
       "4     전남청소년미래재단 상담·안전망 구축·자기개발 기회 제공 등 종합 지원 거점 공연장·...   \n",
       "...                                                 ...   \n",
       "4532  청년농부가 미래다=신안 딸기학교 교육생\\n지난달 천사섬 딸기영농조합법인을 출범시킨 ...   \n",
       "4533  청년농 실패 최소화…연중 딸기 생산 가능\\n청년 예비농부 5명이 입학한 신안 팔금면...   \n",
       "4534  청년농부가 미래다=신안 딸기학교 교육생 5명\\n지난달 천사섬 딸기영농조합법인을 출범...   \n",
       "4535  김종식 목포시장\\n존경하는 시민 여러분! 그리고 동료 공직자 여러분! 2021년 새...   \n",
       "4536  효송 노행식 국제로타리 3640 지구 총재는 온라인으로 발표한 신년사를 통해 “20...   \n",
       "\n",
       "                                        Extracted_Nouns  \n",
       "0     [극단, 지역, 이기주의, 지역, 현안, 발목, 법원, 과도, 님비, 현상, 제동,...  \n",
       "1     [취학, 인구, 감소, 학교, 용지, 부담금, 부과, 행정, 처분, 부당, 판결, ...  \n",
       "2     [두리하나, 플라워, 아이, 결심, 지방, 청년, 공간, 다양, 창업, 기회, 제공...  \n",
       "3     [아시안, 게임, 메달, 선수, 세상, 즐거움, 인내, 장애, 불편, 불행, 장애인...  \n",
       "4     [청소년, 미래, 재단, 상담, 안전, 구축, 자기, 개발, 기회, 제공, 종합, ...  \n",
       "...                                                 ...  \n",
       "4532  [청년, 농부, 미래, 딸기, 학교, 교육, 지난달, 천사, 딸기, 영농, 조합, ...  \n",
       "4533  [청년, 실패, 최소, 연중, 딸기, 생산, 가능, 청년, 예비, 농부, 입학, 딸...  \n",
       "4534  [청년, 농부, 미래, 딸기, 학교, 교육, 지난달, 천사, 딸기, 영농, 조합, ...  \n",
       "4535  [시장, 존경, 시민, 동료, 공직자, 새해, 소원, 성취, 기원, 발전, 성원, ...  \n",
       "4536  [국제, 로타리, 지구, 총재, 온라인, 발표, 신년사, 새해, 사회, 거리, 코로...  \n",
       "\n",
       "[4537 rows x 4 columns]"
      ]
     },
     "execution_count": 45,
     "metadata": {},
     "output_type": "execute_result"
    }
   ],
   "source": [
    "df"
   ]
  },
  {
   "cell_type": "code",
   "execution_count": 46,
   "metadata": {},
   "outputs": [],
   "source": [
    "# 괄호나 띄어쓰기 등은 replace로 제거\n",
    "df['Extracted_Nouns'] = df['Extracted_Nouns'].apply(lambda x : str(x))\n",
    "df['Extracted_Nouns'] = df['Extracted_Nouns'].apply(lambda x : x.replace(\"[\", \"\").replace(\"]\", \"\").replace(\",\", \"\").replace(\"'\", \"\"))"
   ]
  },
  {
   "cell_type": "code",
   "execution_count": 47,
   "metadata": {},
   "outputs": [
    {
     "name": "stdout",
     "output_type": "stream",
     "text": [
      "<class 'pandas.core.frame.DataFrame'>\n",
      "RangeIndex: 4537 entries, 0 to 4536\n",
      "Data columns (total 4 columns):\n",
      " #   Column           Non-Null Count  Dtype \n",
      "---  ------           --------------  ----- \n",
      " 0   Author           4537 non-null   object\n",
      " 1   Title            4537 non-null   object\n",
      " 2   Content          4537 non-null   object\n",
      " 3   Extracted_Nouns  4537 non-null   object\n",
      "dtypes: object(4)\n",
      "memory usage: 141.9+ KB\n"
     ]
    }
   ],
   "source": [
    "df.info()"
   ]
  },
  {
   "cell_type": "code",
   "execution_count": 48,
   "metadata": {
    "scrolled": true
   },
   "outputs": [],
   "source": [
    "# # 결측값이 있는 행 제거\n",
    "# df = df.dropna(axis=0)\n",
    "# df"
   ]
  },
  {
   "cell_type": "code",
   "execution_count": 49,
   "metadata": {},
   "outputs": [],
   "source": [
    "# 토큰을 저장한 컬럼을 변수로 지정\n",
    "only_token_df = df['Extracted_Nouns']"
   ]
  },
  {
   "cell_type": "code",
   "execution_count": 50,
   "metadata": {},
   "outputs": [
    {
     "name": "stdout",
     "output_type": "stream",
     "text": [
      "903524\n"
     ]
    }
   ],
   "source": [
    "# 토크나이징한 최종 토큰 수 산출\n",
    "total_tokens = [token for msg in only_token_df for token in str(msg).split()]\n",
    "print(len(total_tokens))"
   ]
  },
  {
   "cell_type": "code",
   "execution_count": 51,
   "metadata": {},
   "outputs": [],
   "source": [
    "pd.DataFrame(total_tokens).to_excel(r\"C:/Users/user/Desktop/새 폴더/data/extract_nouns.xlsx\")"
   ]
  },
  {
   "cell_type": "code",
   "execution_count": 52,
   "metadata": {},
   "outputs": [
    {
     "name": "stdout",
     "output_type": "stream",
     "text": [
      "18945\n",
      "[('지역', 12130), ('교육', 9838), ('사업', 9374), ('지원', 7861), ('문화', 5512), ('추진', 4672), ('운영', 4020), ('계획', 3758), ('청년', 3707), ('주민', 3657)]\n"
     ]
    }
   ],
   "source": [
    "text = nltk.Text(total_tokens, name='NNG')\n",
    "print(len(set(text.tokens))) # 고유 토큰 수 반환\n",
    "print(text.vocab().most_common(10)) # 가장 많이 등장한 토큰 10개와 빈도 수 산출"
   ]
  },
  {
   "cell_type": "code",
   "execution_count": 53,
   "metadata": {},
   "outputs": [
    {
     "data": {
      "image/png": "[encoded data removed]",
      "text/plain": [
       "<Figure size 1600x1000 with 1 Axes>"
      ]
     },
     "metadata": {},
     "output_type": "display_data"
    },
    {
     "data": {
      "text/plain": [
       "<Axes: xlabel='Samples', ylabel='Counts'>"
      ]
     },
     "execution_count": 53,
     "metadata": {},
     "output_type": "execute_result"
    }
   ],
   "source": [
    "plt.rcParams['font.family'] ='Malgun Gothic'\n",
    "plt.rcParams['axes.unicode_minus'] =False\n",
    "\n",
    "plt.figure(figsize=(16, 10))\n",
    "text.plot(10)"
   ]
  },
  {
   "cell_type": "markdown",
   "metadata": {},
   "source": [
    "# 워드클라우드를 위한 토큰별 빈도수 dict 저장"
   ]
  },
  {
   "cell_type": "code",
   "execution_count": 54,
   "metadata": {},
   "outputs": [],
   "source": [
    "from wordcloud import WordCloud"
   ]
  },
  {
   "cell_type": "code",
   "execution_count": 57,
   "metadata": {},
   "outputs": [
    {
     "ename": "TypeError",
     "evalue": "expected string or bytes-like object",
     "output_type": "error",
     "traceback": [
      "\u001b[1;31m---------------------------------------------------------------------------\u001b[0m",
      "\u001b[1;31mTypeError\u001b[0m                                 Traceback (most recent call last)",
      "\u001b[1;32mc:\\Users\\user\\Desktop\\새 폴더\\1.데이터전처리(KIWI).ipynb 셀 31\u001b[0m line \u001b[0;36m1\n\u001b[1;32m----> <a href='vscode-notebook-cell:/c%3A/Users/user/Desktop/%EC%83%88%20%ED%8F%B4%EB%8D%94/1.%EB%8D%B0%EC%9D%B4%ED%84%B0%EC%A0%84%EC%B2%98%EB%A6%AC%28KIWI%29.ipynb#X42sZmlsZQ%3D%3D?line=0'>1</a>\u001b[0m wordcloud \u001b[39m=\u001b[39m WordCloud()\u001b[39m.\u001b[39;49mgenerate(total_tokens)\n",
      "File \u001b[1;32mc:\\Users\\user\\anaconda3\\envs\\PY39_\\lib\\site-packages\\wordcloud\\wordcloud.py:639\u001b[0m, in \u001b[0;36mWordCloud.generate\u001b[1;34m(self, text)\u001b[0m\n\u001b[0;32m    624\u001b[0m \u001b[39mdef\u001b[39;00m \u001b[39mgenerate\u001b[39m(\u001b[39mself\u001b[39m, text):\n\u001b[0;32m    625\u001b[0m \u001b[39m    \u001b[39m\u001b[39m\"\"\"Generate wordcloud from text.\u001b[39;00m\n\u001b[0;32m    626\u001b[0m \n\u001b[0;32m    627\u001b[0m \u001b[39m    The input \"text\" is expected to be a natural text. If you pass a sorted\u001b[39;00m\n\u001b[1;32m   (...)\u001b[0m\n\u001b[0;32m    637\u001b[0m \u001b[39m    self\u001b[39;00m\n\u001b[0;32m    638\u001b[0m \u001b[39m    \"\"\"\u001b[39;00m\n\u001b[1;32m--> 639\u001b[0m     \u001b[39mreturn\u001b[39;00m \u001b[39mself\u001b[39;49m\u001b[39m.\u001b[39;49mgenerate_from_text(text)\n",
      "File \u001b[1;32mc:\\Users\\user\\anaconda3\\envs\\PY39_\\lib\\site-packages\\wordcloud\\wordcloud.py:620\u001b[0m, in \u001b[0;36mWordCloud.generate_from_text\u001b[1;34m(self, text)\u001b[0m\n\u001b[0;32m    603\u001b[0m \u001b[39mdef\u001b[39;00m \u001b[39mgenerate_from_text\u001b[39m(\u001b[39mself\u001b[39m, text):\n\u001b[0;32m    604\u001b[0m \u001b[39m    \u001b[39m\u001b[39m\"\"\"Generate wordcloud from text.\u001b[39;00m\n\u001b[0;32m    605\u001b[0m \n\u001b[0;32m    606\u001b[0m \u001b[39m    The input \"text\" is expected to be a natural text. If you pass a sorted\u001b[39;00m\n\u001b[1;32m   (...)\u001b[0m\n\u001b[0;32m    618\u001b[0m \u001b[39m    self\u001b[39;00m\n\u001b[0;32m    619\u001b[0m \u001b[39m    \"\"\"\u001b[39;00m\n\u001b[1;32m--> 620\u001b[0m     words \u001b[39m=\u001b[39m \u001b[39mself\u001b[39;49m\u001b[39m.\u001b[39;49mprocess_text(text)\n\u001b[0;32m    621\u001b[0m     \u001b[39mself\u001b[39m\u001b[39m.\u001b[39mgenerate_from_frequencies(words)\n\u001b[0;32m    622\u001b[0m     \u001b[39mreturn\u001b[39;00m \u001b[39mself\u001b[39m\n",
      "File \u001b[1;32mc:\\Users\\user\\anaconda3\\envs\\PY39_\\lib\\site-packages\\wordcloud\\wordcloud.py:582\u001b[0m, in \u001b[0;36mWordCloud.process_text\u001b[1;34m(self, text)\u001b[0m\n\u001b[0;32m    579\u001b[0m pattern \u001b[39m=\u001b[39m \u001b[39mr\u001b[39m\u001b[39m\"\u001b[39m\u001b[39m\\\u001b[39m\u001b[39mw[\u001b[39m\u001b[39m\\\u001b[39m\u001b[39mw\u001b[39m\u001b[39m'\u001b[39m\u001b[39m]*\u001b[39m\u001b[39m\"\u001b[39m \u001b[39mif\u001b[39;00m \u001b[39mself\u001b[39m\u001b[39m.\u001b[39mmin_word_length \u001b[39m<\u001b[39m\u001b[39m=\u001b[39m \u001b[39m1\u001b[39m \u001b[39melse\u001b[39;00m \u001b[39mr\u001b[39m\u001b[39m\"\u001b[39m\u001b[39m\\\u001b[39m\u001b[39mw[\u001b[39m\u001b[39m\\\u001b[39m\u001b[39mw\u001b[39m\u001b[39m'\u001b[39m\u001b[39m]+\u001b[39m\u001b[39m\"\u001b[39m\n\u001b[0;32m    580\u001b[0m regexp \u001b[39m=\u001b[39m \u001b[39mself\u001b[39m\u001b[39m.\u001b[39mregexp \u001b[39mif\u001b[39;00m \u001b[39mself\u001b[39m\u001b[39m.\u001b[39mregexp \u001b[39mis\u001b[39;00m \u001b[39mnot\u001b[39;00m \u001b[39mNone\u001b[39;00m \u001b[39melse\u001b[39;00m pattern\n\u001b[1;32m--> 582\u001b[0m words \u001b[39m=\u001b[39m re\u001b[39m.\u001b[39;49mfindall(regexp, text, flags)\n\u001b[0;32m    583\u001b[0m \u001b[39m# remove 's\u001b[39;00m\n\u001b[0;32m    584\u001b[0m words \u001b[39m=\u001b[39m [word[:\u001b[39m-\u001b[39m\u001b[39m2\u001b[39m] \u001b[39mif\u001b[39;00m word\u001b[39m.\u001b[39mlower()\u001b[39m.\u001b[39mendswith(\u001b[39m\"\u001b[39m\u001b[39m'\u001b[39m\u001b[39ms\u001b[39m\u001b[39m\"\u001b[39m) \u001b[39melse\u001b[39;00m word\n\u001b[0;32m    585\u001b[0m          \u001b[39mfor\u001b[39;00m word \u001b[39min\u001b[39;00m words]\n",
      "File \u001b[1;32mc:\\Users\\user\\anaconda3\\envs\\PY39_\\lib\\re.py:241\u001b[0m, in \u001b[0;36mfindall\u001b[1;34m(pattern, string, flags)\u001b[0m\n\u001b[0;32m    233\u001b[0m \u001b[39mdef\u001b[39;00m \u001b[39mfindall\u001b[39m(pattern, string, flags\u001b[39m=\u001b[39m\u001b[39m0\u001b[39m):\n\u001b[0;32m    234\u001b[0m \u001b[39m    \u001b[39m\u001b[39m\"\"\"Return a list of all non-overlapping matches in the string.\u001b[39;00m\n\u001b[0;32m    235\u001b[0m \n\u001b[0;32m    236\u001b[0m \u001b[39m    If one or more capturing groups are present in the pattern, return\u001b[39;00m\n\u001b[1;32m   (...)\u001b[0m\n\u001b[0;32m    239\u001b[0m \n\u001b[0;32m    240\u001b[0m \u001b[39m    Empty matches are included in the result.\"\"\"\u001b[39;00m\n\u001b[1;32m--> 241\u001b[0m     \u001b[39mreturn\u001b[39;00m _compile(pattern, flags)\u001b[39m.\u001b[39;49mfindall(string)\n",
      "\u001b[1;31mTypeError\u001b[0m: expected string or bytes-like object"
     ]
    }
   ],
   "source": [
    "wordcloud = WordCloud().generate(total_tokens)"
   ]
  },
  {
   "cell_type": "code",
   "execution_count": 56,
   "metadata": {},
   "outputs": [
    {
     "ename": "NameError",
     "evalue": "name 'vocab_dict' is not defined",
     "output_type": "error",
     "traceback": [
      "\u001b[1;31m---------------------------------------------------------------------------\u001b[0m",
      "\u001b[1;31mNameError\u001b[0m                                 Traceback (most recent call last)",
      "\u001b[1;32mc:\\Users\\user\\Desktop\\새 폴더\\1.데이터전처리(KIWI).ipynb 셀 32\u001b[0m line \u001b[0;36m1\n\u001b[1;32m----> <a href='vscode-notebook-cell:/c%3A/Users/user/Desktop/%EC%83%88%20%ED%8F%B4%EB%8D%94/1.%EB%8D%B0%EC%9D%B4%ED%84%B0%EC%A0%84%EC%B2%98%EB%A6%AC%28KIWI%29.ipynb#X43sZmlsZQ%3D%3D?line=0'>1</a>\u001b[0m vocab_dict\n",
      "\u001b[1;31mNameError\u001b[0m: name 'vocab_dict' is not defined"
     ]
    }
   ],
   "source": [
    "vocab_dict"
   ]
  },
  {
   "cell_type": "code",
   "execution_count": 90,
   "metadata": {},
   "outputs": [],
   "source": [
    "import pickle\n",
    "\n",
    "# vocab_dict를 저장할 파일 이름\n",
    "file_name = r'C:/Users/user/Desktop/새 폴더/data/wordcliud_dict.pkl'\n",
    "\n",
    "# vocab_dict 저장\n",
    "with open(file_name, 'wb') as file:\n",
    "    pickle.dump(vocab_dict, file)"
   ]
  },
  {
   "cell_type": "markdown",
   "metadata": {},
   "source": [
    "## 전처리 및 토큰화 완료 파일 저장"
   ]
  },
  {
   "cell_type": "code",
   "execution_count": 58,
   "metadata": {},
   "outputs": [],
   "source": [
    "path_df_final = r\"C:\\Users\\user\\Desktop\\새 폴더\\data\\빅카인즈_통합_final.xlsx\""
   ]
  },
  {
   "cell_type": "code",
   "execution_count": 59,
   "metadata": {},
   "outputs": [],
   "source": [
    "df.to_excel(path_df_final, index=False)"
   ]
  },
  {
   "cell_type": "markdown",
   "metadata": {},
   "source": [
    "# 워드클라우드"
   ]
  },
  {
   "cell_type": "code",
   "execution_count": 65,
   "metadata": {},
   "outputs": [],
   "source": [
    "from wordcloud import WordCloud"
   ]
  },
  {
   "cell_type": "code",
   "execution_count": 66,
   "metadata": {},
   "outputs": [],
   "source": [
    "wc = WordCloud(random_state = 123, font_path = 'Malgun Gothic', width = 400,\n",
    "               height = 400, background_color = 'white')"
   ]
  },
  {
   "cell_type": "code",
   "execution_count": 67,
   "metadata": {},
   "outputs": [
    {
     "ename": "OSError",
     "evalue": "cannot open resource",
     "output_type": "error",
     "traceback": [
      "\u001b[1;31m---------------------------------------------------------------------------\u001b[0m",
      "\u001b[1;31mOSError\u001b[0m                                   Traceback (most recent call last)",
      "\u001b[1;32mc:\\Users\\user\\Desktop\\새 폴더\\1.데이터전처리(KIWI).ipynb 셀 35\u001b[0m line \u001b[0;36m1\n\u001b[1;32m----> <a href='vscode-notebook-cell:/c%3A/Users/user/Desktop/%EC%83%88%20%ED%8F%B4%EB%8D%94/1.%EB%8D%B0%EC%9D%B4%ED%84%B0%EC%A0%84%EC%B2%98%EB%A6%AC%28KIWI%29.ipynb#X51sZmlsZQ%3D%3D?line=0'>1</a>\u001b[0m img_wordcloud \u001b[39m=\u001b[39m wc\u001b[39m.\u001b[39;49mgenerate_from_frequencies(text\u001b[39m.\u001b[39;49mvocab())\n",
      "File \u001b[1;32mc:\\Users\\user\\anaconda3\\envs\\PY39_\\lib\\site-packages\\wordcloud\\wordcloud.py:453\u001b[0m, in \u001b[0;36mWordCloud.generate_from_frequencies\u001b[1;34m(self, frequencies, max_font_size)\u001b[0m\n\u001b[0;32m    451\u001b[0m     font_size \u001b[39m=\u001b[39m \u001b[39mself\u001b[39m\u001b[39m.\u001b[39mheight\n\u001b[0;32m    452\u001b[0m \u001b[39melse\u001b[39;00m:\n\u001b[1;32m--> 453\u001b[0m     \u001b[39mself\u001b[39;49m\u001b[39m.\u001b[39;49mgenerate_from_frequencies(\u001b[39mdict\u001b[39;49m(frequencies[:\u001b[39m2\u001b[39;49m]),\n\u001b[0;32m    454\u001b[0m                                    max_font_size\u001b[39m=\u001b[39;49m\u001b[39mself\u001b[39;49m\u001b[39m.\u001b[39;49mheight)\n\u001b[0;32m    455\u001b[0m     \u001b[39m# find font sizes\u001b[39;00m\n\u001b[0;32m    456\u001b[0m     sizes \u001b[39m=\u001b[39m [x[\u001b[39m1\u001b[39m] \u001b[39mfor\u001b[39;00m x \u001b[39min\u001b[39;00m \u001b[39mself\u001b[39m\u001b[39m.\u001b[39mlayout_]\n",
      "File \u001b[1;32mc:\\Users\\user\\anaconda3\\envs\\PY39_\\lib\\site-packages\\wordcloud\\wordcloud.py:503\u001b[0m, in \u001b[0;36mWordCloud.generate_from_frequencies\u001b[1;34m(self, frequencies, max_font_size)\u001b[0m\n\u001b[0;32m    500\u001b[0m tried_other_orientation \u001b[39m=\u001b[39m \u001b[39mFalse\u001b[39;00m\n\u001b[0;32m    501\u001b[0m \u001b[39mwhile\u001b[39;00m \u001b[39mTrue\u001b[39;00m:\n\u001b[0;32m    502\u001b[0m     \u001b[39m# try to find a position\u001b[39;00m\n\u001b[1;32m--> 503\u001b[0m     font \u001b[39m=\u001b[39m ImageFont\u001b[39m.\u001b[39;49mtruetype(\u001b[39mself\u001b[39;49m\u001b[39m.\u001b[39;49mfont_path, font_size)\n\u001b[0;32m    504\u001b[0m     \u001b[39m# transpose font optionally\u001b[39;00m\n\u001b[0;32m    505\u001b[0m     transposed_font \u001b[39m=\u001b[39m ImageFont\u001b[39m.\u001b[39mTransposedFont(\n\u001b[0;32m    506\u001b[0m         font, orientation\u001b[39m=\u001b[39morientation)\n",
      "File \u001b[1;32mc:\\Users\\user\\anaconda3\\envs\\PY39_\\lib\\site-packages\\PIL\\ImageFont.py:1008\u001b[0m, in \u001b[0;36mtruetype\u001b[1;34m(font, size, index, encoding, layout_engine)\u001b[0m\n\u001b[0;32m   1005\u001b[0m     \u001b[39mreturn\u001b[39;00m FreeTypeFont(font, size, index, encoding, layout_engine)\n\u001b[0;32m   1007\u001b[0m \u001b[39mtry\u001b[39;00m:\n\u001b[1;32m-> 1008\u001b[0m     \u001b[39mreturn\u001b[39;00m freetype(font)\n\u001b[0;32m   1009\u001b[0m \u001b[39mexcept\u001b[39;00m \u001b[39mOSError\u001b[39;00m:\n\u001b[0;32m   1010\u001b[0m     \u001b[39mif\u001b[39;00m \u001b[39mnot\u001b[39;00m is_path(font):\n",
      "File \u001b[1;32mc:\\Users\\user\\anaconda3\\envs\\PY39_\\lib\\site-packages\\PIL\\ImageFont.py:1005\u001b[0m, in \u001b[0;36mtruetype.<locals>.freetype\u001b[1;34m(font)\u001b[0m\n\u001b[0;32m   1004\u001b[0m \u001b[39mdef\u001b[39;00m \u001b[39mfreetype\u001b[39m(font):\n\u001b[1;32m-> 1005\u001b[0m     \u001b[39mreturn\u001b[39;00m FreeTypeFont(font, size, index, encoding, layout_engine)\n",
      "File \u001b[1;32mc:\\Users\\user\\anaconda3\\envs\\PY39_\\lib\\site-packages\\PIL\\ImageFont.py:255\u001b[0m, in \u001b[0;36mFreeTypeFont.__init__\u001b[1;34m(self, font, size, index, encoding, layout_engine)\u001b[0m\n\u001b[0;32m    253\u001b[0m                 load_from_bytes(f)\n\u001b[0;32m    254\u001b[0m             \u001b[39mreturn\u001b[39;00m\n\u001b[1;32m--> 255\u001b[0m     \u001b[39mself\u001b[39m\u001b[39m.\u001b[39mfont \u001b[39m=\u001b[39m core\u001b[39m.\u001b[39;49mgetfont(\n\u001b[0;32m    256\u001b[0m         font, size, index, encoding, layout_engine\u001b[39m=\u001b[39;49mlayout_engine\n\u001b[0;32m    257\u001b[0m     )\n\u001b[0;32m    258\u001b[0m \u001b[39melse\u001b[39;00m:\n\u001b[0;32m    259\u001b[0m     load_from_bytes(font)\n",
      "\u001b[1;31mOSError\u001b[0m: cannot open resource"
     ]
    }
   ],
   "source": [
    "img_wordcloud = wc.generate_from_frequencies(text.vocab())"
   ]
  },
  {
   "cell_type": "code",
   "execution_count": 64,
   "metadata": {},
   "outputs": [],
   "source": [
    "a = text.vocab()"
   ]
  }
 ],
 "metadata": {
  "colab": {
   "provenance": []
  },
  "kernelspec": {
   "display_name": "Python 3 (ipykernel)",
   "language": "python",
   "name": "python3"
  },
  "language_info": {
   "codemirror_mode": {
    "name": "ipython",
    "version": 3
   },
   "file_extension": ".py",
   "mimetype": "text/x-python",
   "name": "python",
   "nbconvert_exporter": "python",
   "pygments_lexer": "ipython3",
   "version": "3.9.16"
  }
 },
 "nbformat": 4,
 "nbformat_minor": 1
}
